{
 "cells": [
  {
   "cell_type": "code",
   "execution_count": 1,
   "metadata": {},
   "outputs": [],
   "source": [
    "import pandas as pd\n",
    "import numpy as np\n",
    "import matplotlib.pyplot as plt\n",
    "%matplotlib inline\n",
    "\n",
    "from sklearn.model_selection import train_test_split\n",
    "\n",
    "import torch\n",
    "import torch.nn as nn\n",
    "import torch.nn.functional as F\n",
    "\n",
    "from tqdm import tqdm, tqdm_notebook"
   ]
  },
  {
   "cell_type": "markdown",
   "metadata": {},
   "source": [
    "# This notebook seeks to use all OPV processing conditions and morphological descriptors to predict device performance. \n",
    "\n",
    "## There will be 3 Neural Networks outlined, each with similar architecture, but varying inputs. This first NN will only use processing conditions to try to predict performance\n",
    "\n",
    "### Inputs:\n",
    "- DataFrame containing device processing conditions and their subsequent performance. \n",
    "\n",
    "*_Note:_* This DataFrame will only contain devices with reasonable performance values.\n",
    "\n",
    "### Outputs:\n",
    "- Tensor of predicted performance for given processing conditions"
   ]
  },
  {
   "cell_type": "code",
   "execution_count": 2,
   "metadata": {},
   "outputs": [
    {
     "name": "stdout",
     "output_type": "stream",
     "text": [
      "(366, 11)\n"
     ]
    },
    {
     "data": {
      "text/html": [
       "<div>\n",
       "<style scoped>\n",
       "    .dataframe tbody tr th:only-of-type {\n",
       "        vertical-align: middle;\n",
       "    }\n",
       "\n",
       "    .dataframe tbody tr th {\n",
       "        vertical-align: top;\n",
       "    }\n",
       "\n",
       "    .dataframe thead th {\n",
       "        text-align: right;\n",
       "    }\n",
       "</style>\n",
       "<table border=\"1\" class=\"dataframe\">\n",
       "  <thead>\n",
       "    <tr style=\"text-align: right;\">\n",
       "      <th></th>\n",
       "      <th>Unnamed: 0</th>\n",
       "      <th>Unnamed: 0.1</th>\n",
       "      <th>File Name</th>\n",
       "      <th>Time (min)</th>\n",
       "      <th>Device</th>\n",
       "      <th>Temp (C)</th>\n",
       "      <th>PCE</th>\n",
       "      <th>VocL</th>\n",
       "      <th>Jsc</th>\n",
       "      <th>FF</th>\n",
       "      <th>Substrate</th>\n",
       "    </tr>\n",
       "  </thead>\n",
       "  <tbody>\n",
       "    <tr>\n",
       "      <td>0</td>\n",
       "      <td>0</td>\n",
       "      <td>291</td>\n",
       "      <td>2019_4_16_P3HTPCBM_NA_3000_SUB1</td>\n",
       "      <td>0</td>\n",
       "      <td>5</td>\n",
       "      <td>0</td>\n",
       "      <td>0.053196</td>\n",
       "      <td>0.088773</td>\n",
       "      <td>2.319470</td>\n",
       "      <td>25.835041</td>\n",
       "      <td>1</td>\n",
       "    </tr>\n",
       "    <tr>\n",
       "      <td>1</td>\n",
       "      <td>1</td>\n",
       "      <td>283</td>\n",
       "      <td>2019_4_16_P3HTPCBM_NA_1000_SUB7</td>\n",
       "      <td>0</td>\n",
       "      <td>5</td>\n",
       "      <td>0</td>\n",
       "      <td>0.323514</td>\n",
       "      <td>0.706579</td>\n",
       "      <td>2.021489</td>\n",
       "      <td>22.649638</td>\n",
       "      <td>7</td>\n",
       "    </tr>\n",
       "    <tr>\n",
       "      <td>2</td>\n",
       "      <td>2</td>\n",
       "      <td>284</td>\n",
       "      <td>2019_4_16_P3HTPCBM_NA_1000_SUB7</td>\n",
       "      <td>0</td>\n",
       "      <td>6</td>\n",
       "      <td>0</td>\n",
       "      <td>0.620043</td>\n",
       "      <td>0.665916</td>\n",
       "      <td>1.867738</td>\n",
       "      <td>49.852415</td>\n",
       "      <td>7</td>\n",
       "    </tr>\n",
       "    <tr>\n",
       "      <td>3</td>\n",
       "      <td>3</td>\n",
       "      <td>280</td>\n",
       "      <td>2019_4_16_P3HTPCBM_NA_1000_SUB7</td>\n",
       "      <td>0</td>\n",
       "      <td>2</td>\n",
       "      <td>0</td>\n",
       "      <td>0.628255</td>\n",
       "      <td>0.654254</td>\n",
       "      <td>1.915640</td>\n",
       "      <td>50.127434</td>\n",
       "      <td>7</td>\n",
       "    </tr>\n",
       "    <tr>\n",
       "      <td>4</td>\n",
       "      <td>4</td>\n",
       "      <td>287</td>\n",
       "      <td>2019_4_16_P3HTPCBM_NA_3000_SUB1</td>\n",
       "      <td>0</td>\n",
       "      <td>1</td>\n",
       "      <td>0</td>\n",
       "      <td>0.637683</td>\n",
       "      <td>0.662407</td>\n",
       "      <td>2.204954</td>\n",
       "      <td>43.659713</td>\n",
       "      <td>1</td>\n",
       "    </tr>\n",
       "  </tbody>\n",
       "</table>\n",
       "</div>"
      ],
      "text/plain": [
       "   Unnamed: 0  Unnamed: 0.1                        File Name  Time (min)  \\\n",
       "0           0           291  2019_4_16_P3HTPCBM_NA_3000_SUB1           0   \n",
       "1           1           283  2019_4_16_P3HTPCBM_NA_1000_SUB7           0   \n",
       "2           2           284  2019_4_16_P3HTPCBM_NA_1000_SUB7           0   \n",
       "3           3           280  2019_4_16_P3HTPCBM_NA_1000_SUB7           0   \n",
       "4           4           287  2019_4_16_P3HTPCBM_NA_3000_SUB1           0   \n",
       "\n",
       "   Device  Temp (C)       PCE      VocL       Jsc         FF  Substrate  \n",
       "0       5         0  0.053196  0.088773  2.319470  25.835041          1  \n",
       "1       5         0  0.323514  0.706579  2.021489  22.649638          7  \n",
       "2       6         0  0.620043  0.665916  1.867738  49.852415          7  \n",
       "3       2         0  0.628255  0.654254  1.915640  50.127434          7  \n",
       "4       1         0  0.637683  0.662407  2.204954  43.659713          1  "
      ]
     },
     "execution_count": 2,
     "metadata": {},
     "output_type": "execute_result"
    }
   ],
   "source": [
    "#Take in data as a dataframe for easy preprocessing\n",
    "device_df = pd.read_excel('/Users/wesleytatum/Desktop/OPV_device_df.xlsx')\n",
    "print (device_df.shape)\n",
    "device_df.head()"
   ]
  },
  {
   "cell_type": "code",
   "execution_count": 27,
   "metadata": {},
   "outputs": [],
   "source": [
    "# Hyper parameters\n",
    "num_epochs = 100\n",
    "batch_size = int(len(device_df['PCE'])*0.8*0.9) # 90% of x_train samples\n",
    "learning_rate = 0.008\n",
    "\n",
    "# Device configuration (GPU if available, otherwise CPU)\n",
    "device = torch.device('cuda:0' if torch.cuda.is_available() else 'cpu')"
   ]
  },
  {
   "cell_type": "code",
   "execution_count": 28,
   "metadata": {},
   "outputs": [],
   "source": [
    "X = device_df[['Time (min)', 'Temp (C)']] #input features used to make prediction\n",
    "Y = device_df[['PCE', 'VocL', 'Jsc', 'FF']] #target features to be predicted\n",
    "\n",
    "x_train, x_test, y_train, y_test = train_test_split(X,Y, test_size = 0.2, shuffle = True) #split dataset into separate testing and training datasets\n",
    "\n",
    "pce_train = y_train['PCE']\n",
    "pce_test = y_test['PCE']\n",
    "voc_train = y_train['VocL']\n",
    "voc_test = y_test['VocL']\n",
    "jsc_train = y_train['Jsc']\n",
    "jsc_test = y_test['Jsc']\n",
    "ff_train = y_train['FF']\n",
    "ff_test = y_test['FF']\n",
    "\n",
    "x_train_tensor = torch.tensor(x_train.values.astype(np.float32)) #convert pd.DataFrame -> np.ndarray -> torch.tensor\n",
    "pce_train_tensor = torch.tensor(pce_train.values.astype(np.float32))\n",
    "voc_train_tensor = torch.tensor(voc_train.values.astype(np.float32))\n",
    "jsc_train_tensor = torch.tensor(jsc_train.values.astype(np.float32))\n",
    "ff_train_tensor = torch.tensor(ff_train.values.astype(np.float32))\n",
    "\n",
    "#create tensor with features and targets\n",
    "train_tensor = torch.utils.data.TensorDataset(x_train_tensor, pce_train_tensor, voc_train_tensor, jsc_train_tensor, ff_train_tensor)\n",
    "#create iterable dataset with batches\n",
    "training_data_set = torch.utils.data.DataLoader(dataset = train_tensor, batch_size = batch_size, shuffle = True)\n",
    "\n",
    "x_test_tensor = torch.tensor(x_test.values.astype(np.float32))\n",
    "pce_test_tensor = torch.tensor(pce_test.values.astype(np.float32))\n",
    "voc_test_tensor = torch.tensor(voc_test.values.astype(np.float32))\n",
    "jsc_test_tensor = torch.tensor(jsc_test.values.astype(np.float32))\n",
    "ff_test_tensor = torch.tensor(ff_test.values.astype(np.float32))\n",
    "\n",
    "test_tensor = torch.utils.data.TensorDataset(x_test_tensor, pce_test_tensor, voc_test_tensor, jsc_test_tensor, ff_test_tensor)\n",
    "testing_data_set = torch.utils.data.DataLoader(dataset = test_tensor, batch_size = batch_size, shuffle = True)"
   ]
  },
  {
   "cell_type": "code",
   "execution_count": 72,
   "metadata": {},
   "outputs": [],
   "source": [
    "#define the neural network\n",
    "class NN1(nn.Module):\n",
    "    \n",
    "    def __init__(self, in_dims, out_dims):\n",
    "        super(NN1, self).__init__()\n",
    "        \n",
    "        #emedding layer\n",
    "        self.em_layer = nn.Linear(in_dims, out_dims)\n",
    "        \n",
    "        #hidden layers\n",
    "        self.h_layer1 = nn.Linear(out_dims, 32)\n",
    "        self.h_layer2 = nn.Linear(32, 16)\n",
    "        self.h_layer3 = nn.Linear(16, 8)\n",
    "        \n",
    "        #output layers\n",
    "        self.PCE_branch = nn.Sequential(\n",
    "            nn.Dropout(p = 0.3),\n",
    "            nn.Linear(8, 32),\n",
    "            nn.Linear(32, 64),\n",
    "            nn.Linear(64, 16),\n",
    "            nn.Dropout(p = 0.3),\n",
    "            nn.Softplus(),\n",
    "            nn.Linear(16, 1)\n",
    "        )\n",
    "        self.Voc_branch = nn.Sequential(\n",
    "            nn.Dropout(p = 0.3),\n",
    "            nn.Linear(8, 32),\n",
    "            nn.Linear(32, 64),\n",
    "            nn.Linear(64, 16),\n",
    "            nn.Dropout(p = 0.3),\n",
    "            nn.Softplus(),\n",
    "            nn.Linear(16, 1)\n",
    "        )\n",
    "        self.Jsc_branch = nn.Sequential(\n",
    "            nn.Dropout(p = 0.3),\n",
    "            nn.Linear(8, 32),\n",
    "            nn.Linear(32, 64),\n",
    "            nn.Linear(64, 16),\n",
    "            nn.Dropout(p = 0.3),\n",
    "            nn.Softplus(),\n",
    "            nn.Linear(16, 1)\n",
    "        )\n",
    "        self.FF_branch = nn.Sequential(\n",
    "            nn.Dropout(p = 0.3),\n",
    "            nn.Linear(8, 32),\n",
    "            nn.Linear(32, 64),\n",
    "            nn.Linear(64, 16),\n",
    "            nn.Dropout(p = 0.3),\n",
    "            nn.Softplus(),\n",
    "            nn.Linear(16, 1)\n",
    "        )\n",
    "        \n",
    "    def forward(self, x):\n",
    "        #data enters embedding layer\n",
    "        out = self.em_layer(x)\n",
    "        \n",
    "        #embedded data is passed to hidden layers\n",
    "        out = self.h_layer1(out)\n",
    "        out = self.h_layer2(out)\n",
    "        out = self.h_layer3(out)\n",
    "        \n",
    "        #embedded data is passed to output layer\n",
    "        PCE_out = self.PCE_branch(out)\n",
    "        Voc_out = self.Voc_branch(out)\n",
    "        Jsc_out = self.Jsc_branch(out)\n",
    "        FF_out = self.FF_branch(out)\n",
    "        \n",
    "        return PCE_out, Voc_out, Jsc_out, FF_out"
   ]
  },
  {
   "cell_type": "code",
   "execution_count": null,
   "metadata": {},
   "outputs": [],
   "source": [
    "class PhysicsInspiredMSE(nn.Module):\n",
    "    \"\"\"\n",
    "    This class contains loss functions that use a mean-squared-error loss for reasonable predictions.\n",
    "    For physically unreasonable conditions, prediction loss is more severely calculated. What qualifies\n",
    "        as reasonable is based on empirically gathered datasets and literature reported boundaries of\n",
    "        performance in P3HT:PCBM OPV devices.\n",
    "    \"\"\"\n",
    "    \n",
    "    def __init__(self):\n",
    "        super(PhysicsInspiredLoss, self).__init()\n",
    "\n",
    "    def PCE_Loss(predictions, targets):\n",
    "        \"\"\"\n",
    "        This loss function implements a mean-squared-error loss for reasonable predictions.\n",
    "        What qualifies as reasonable is based on empirically gathered and communally agreed on bounds\n",
    "        for P3HT:PCBM OPV devices.\n",
    "\n",
    "        For the following Power Conversion Efficiency predictions that are improbable, the loss is increased quadratically:\n",
    "        - PCE < 0%\n",
    "        - PCE > 6%\n",
    "        \"\"\"\n",
    "        if predictions < 0:\n",
    "            #quadratic MSE\n",
    "\n",
    "\n",
    "        elif predictions > 0.06:\n",
    "            #quadratic MSE\n",
    "\n",
    "        else:\n",
    "            loss = nn.MSELoss(reduction = 'mean')\n",
    "\n",
    "        return loss\n",
    "\n",
    "    def Voc_Loss(predictions, targets):\n",
    "        \"\"\"\n",
    "        This loss function implements a mean-squared-error loss for reasonable predictions.\n",
    "        What qualifies as reasonable is based on empirically gathered and communally agreed on bounds\n",
    "        for P3HT:PCBM OPV devices.\n",
    "\n",
    "        For predictions that are not physically possible, loss is increased quadratically:\n",
    "        - Voc < 0\n",
    "        - Voc > 1.0\n",
    "        \"\"\"\n",
    "        if predictions < 0:\n",
    "            #quadratic MSE\n",
    "\n",
    "        elif predictions > 1.0:\n",
    "            #quadratic MSE\n",
    "\n",
    "        else:\n",
    "            loss = nn.MSELoss(reduction = 'mean')\n",
    "\n",
    "        return loss\n",
    "\n",
    "    def Jsc_Loss(predictions, targets):\n",
    "        \"\"\"\n",
    "        This loss function implements a mean-squared-error loss for reasonable predictions.\n",
    "        What qualifies as reasonable is based on empirically gathered and communally agreed on bounds\n",
    "        for P3HT:PCBM OPV devices.\n",
    "\n",
    "        For predictions that are not physically possible, loss is increased quadratically:\n",
    "        - Jsc < 0\n",
    "        - Jsc > 10\n",
    "        \"\"\"\n",
    "        if predictions < 0:\n",
    "            #quadratic MSE\n",
    "\n",
    "        elif predictions > 10:\n",
    "            #quadratic MSE\n",
    "\n",
    "        else:\n",
    "            loss = nn.MSELoss(reduction = 'mean')\n",
    "\n",
    "        return loss\n",
    "\n",
    "    def FF_Loss(predictions, targets):\n",
    "        \"\"\"\n",
    "        This loss function implements a mean-squared-error loss for reasonable predictions.\n",
    "        What qualifies as reasonable is based on empirically gathered and communally agreed on bounds\n",
    "        for P3HT:PCBM OPV devices.\n",
    "\n",
    "        For predictions that are not physically possible, loss is increased quadratically:\n",
    "        - FF < 10\n",
    "        - FF > 85\n",
    "        \"\"\"\n",
    "        if predictions < 10:\n",
    "            #quadratic MSE\n",
    "\n",
    "        elif predictions > 85:\n",
    "            #quadratic MSE\n",
    "\n",
    "        else:\n",
    "            loss = nn.MSELoss(reduction = 'mean')\n",
    "\n",
    "        return loss"
   ]
  },
  {
   "cell_type": "code",
   "execution_count": 73,
   "metadata": {},
   "outputs": [],
   "source": [
    "def train_model(model, training_data_set, criterion, optimizer):\n",
    "    train_epoch_loss = []\n",
    "    pce_train_epoch_loss = []\n",
    "    voc_train_epoch_loss = []\n",
    "    jsc_train_epoch_loss = []\n",
    "    ff_train_epoch_loss = []\n",
    "    \n",
    "    train_losses = []\n",
    "    pce_train_losses = []\n",
    "    voc_train_losses = []\n",
    "    jsc_train_losses = []\n",
    "    ff_train_losses = []\n",
    "    \n",
    "    train_total = 0\n",
    "    \n",
    "    #switch model to training mode\n",
    "    model.train()\n",
    "    \n",
    "    pce_criterion = criterion\n",
    "    voc_criterion = criterion\n",
    "    jsc_criterion = criterion\n",
    "    ff_criterion = criterion\n",
    "    \n",
    "    #wrapper to create progress bar & results for each epoch's training\n",
    "    progress = tqdm_notebook(training_data_set, desc = 'Progress:', leave = True)\n",
    "    \n",
    "    for train_data, pce_labels, voc_labels, jsc_labels, ff_labels in progress:\n",
    "        \n",
    "        train_data = train_data.to(device)\n",
    "        pce_labels = pce_labels.to(device)\n",
    "        voc_labels = voc_labels.to(device)\n",
    "        jsc_labels = jsc_labels.to(device)\n",
    "        ff_labels = ff_labels.to(device)\n",
    "        \n",
    "        model.zero_grad() #zero out any gradients from prior loops \n",
    "        PCE_out, Voc_out, Jsc_out, FF_out = model(train_data) #gather model predictions for this loop\n",
    "        \n",
    "        #calculate error in the predictions\n",
    "        pce_loss = pce_criterion(PCE_out, pce_labels)\n",
    "        voc_loss = voc_criterion(Voc_out, voc_labels)\n",
    "        jsc_loss = jsc_criterion(Jsc_out, jsc_labels)\n",
    "        ff_loss = ff_criterion(FF_out, ff_labels)\n",
    "        \n",
    "        total_loss = pce_loss + voc_loss + jsc_loss + ff_loss\n",
    "        \n",
    "        #BACKPROPOGATE LIKE A MF\n",
    "        torch.autograd.backward([pce_loss, voc_loss, jsc_loss, ff_loss])\n",
    "        optimizer.step()\n",
    "        \n",
    "        #send results to progress bar and save loss for this batch\n",
    "        progress.set_description(f'Loss: {total_loss.item()}:.3f')\n",
    "        train_losses.append(total_loss.item())\n",
    "        train_total+=1\n",
    "        \n",
    "        pce_train_losses.append(pce_loss.item())\n",
    "        voc_train_losses.append(pce_loss.item())\n",
    "        jsc_train_losses.append(pce_loss.item())\n",
    "        ff_train_losses.append(pce_loss.item())\n",
    "        \n",
    "    #calculate and save total error for this epoch of training\n",
    "    epoch_loss = sum(train_losses)/train_total\n",
    "    train_epoch_loss.append(epoch_loss)\n",
    "    \n",
    "    pce_train_epoch_loss.append(sum(pce_train_losses)/train_total)\n",
    "    voc_train_epoch_loss.append(sum(voc_train_losses)/train_total)\n",
    "    jsc_train_epoch_loss.append(sum(jsc_train_losses)/train_total)\n",
    "    ff_train_epoch_loss.append(sum(ff_train_losses)/train_total)\n",
    "    \n",
    "    #update progress bar\n",
    "    tqdm.write(f'Epoch #{epoch + 1}\\tTrain Loss: {epoch_loss:.3f}')\n",
    "    \n",
    "    return train_epoch_loss, pce_train_epoch_loss, voc_train_epoch_loss, jsc_train_epoch_loss, ff_train_epoch_loss"
   ]
  },
  {
   "cell_type": "code",
   "execution_count": 74,
   "metadata": {},
   "outputs": [],
   "source": [
    "def eval_model(model, testing_data_set, criterion, optimizer):\n",
    "    #evaluate the model\n",
    "    model.eval()\n",
    "    \n",
    "    pce_criterion = criterion\n",
    "    voc_criterion = criterion\n",
    "    jsc_criterion = criterion\n",
    "    ff_criterion = criterion\n",
    "\n",
    "    #don't update nodes during evaluation b/c not training\n",
    "    with torch.no_grad():\n",
    "#         correct = 0\n",
    "        test_losses = []\n",
    "        pce_test_losses = []\n",
    "        voc_test_losses = []\n",
    "        jsc_test_losses = []\n",
    "        ff_test_losses = []\n",
    "    \n",
    "        test_total = 0\n",
    "\n",
    "        for inputs, pce_labels, voc_labels, jsc_labels, ff_labels in testing_data_set:\n",
    "            inputs = inputs.to(device)\n",
    "            pce_labels = pce_labels.to(device)\n",
    "            voc_labels = voc_labels.to(device)\n",
    "            jsc_labels = jsc_labels.to(device)\n",
    "            ff_labels = ff_labels.to(device)\n",
    "\n",
    "            PCE_out, Voc_out, Jsc_out, FF_out = model(inputs)\n",
    "\n",
    "    \n",
    "            # calculate loss per batch of testing data\n",
    "            pce_test_loss = pce_criterion(PCE_out, pce_labels)\n",
    "            voc_test_loss = voc_criterion(Voc_out, voc_labels)\n",
    "            jsc_test_loss = jsc_criterion(Jsc_out, jsc_labels)\n",
    "            ff_test_loss = ff_criterion(FF_out, ff_labels)\n",
    "            \n",
    "            test_loss = pce_test_loss + voc_test_loss + jsc_test_loss + ff_test_loss\n",
    "            \n",
    "            test_losses.append(test_loss.item())\n",
    "            pce_test_losses.append(pce_test_loss.item())\n",
    "            voc_test_losses.append(voc_test_loss.item())\n",
    "            jsc_test_losses.append(jsc_test_loss.item())\n",
    "            ff_test_losses.append(ff_test_loss.item())\n",
    "            test_total += 1 \n",
    "            \n",
    "#             print (f\"Test Loss: {test_loss}\")\n",
    "\n",
    "#             print (test_total)\n",
    "    #         correct += (predicted == labels).sum().item()\n",
    "\n",
    "    #     print ('Model accuracy is: ', ((correct/total)*100), '%')\n",
    "\n",
    "        test_epoch_loss = sum(test_losses)/test_total\n",
    "        pce_test_epoch_loss = sum(pce_test_losses)/test_total\n",
    "        voc_test_epoch_loss = sum(voc_test_losses)/test_total\n",
    "        jsc_test_epoch_loss = sum(jsc_test_losses)/test_total\n",
    "        ff_test_epoch_loss = sum(ff_test_losses)/test_total\n",
    "\n",
    "        print(f\"Total testing loss is: {test_epoch_loss}\")\n",
    "    return test_epoch_loss, pce_test_epoch_loss, voc_test_epoch_loss, jsc_test_epoch_loss, ff_test_epoch_loss"
   ]
  },
  {
   "cell_type": "markdown",
   "metadata": {},
   "source": [
    "Now that the data, model, training, and evaluating are all set up, let's actually use everything"
   ]
  },
  {
   "cell_type": "code",
   "execution_count": 75,
   "metadata": {},
   "outputs": [],
   "source": [
    "# Instantiate our beautiful NN model\n",
    "# takes in 2 features (anneal time, anneal temp) \n",
    "# predicts 4 metrics (PCE, Voc, Jsc, FF)\n",
    "model = NN1(in_dims = 2, out_dims = 4).to(device)\n",
    "\n",
    "#define the loss function and the optimizer\n",
    "criterion = nn.MSELoss(reduction = 'mean')\n",
    "optimizer = torch.optim.Adam(params = model.parameters(), lr = learning_rate)"
   ]
  },
  {
   "cell_type": "code",
   "execution_count": 76,
   "metadata": {
    "scrolled": true
   },
   "outputs": [
    {
     "data": {
      "application/vnd.jupyter.widget-view+json": {
       "model_id": "aaf96b78359940a8b0e2f90048050d40",
       "version_major": 2,
       "version_minor": 0
      },
      "text/plain": [
       "HBox(children=(IntProgress(value=0, description='Progress:', max=2, style=ProgressStyle(description_width='ini…"
      ]
     },
     "metadata": {},
     "output_type": "display_data"
    },
    {
     "name": "stdout",
     "output_type": "stream",
     "text": [
      "\n",
      "Epoch #1\tTrain Loss: 3728.004\n",
      "Total testing loss is: 3477.11962890625\n"
     ]
    },
    {
     "data": {
      "application/vnd.jupyter.widget-view+json": {
       "model_id": "6a3e89ef324845f0903ef54a73f6f2d9",
       "version_major": 2,
       "version_minor": 0
      },
      "text/plain": [
       "HBox(children=(IntProgress(value=0, description='Progress:', max=2, style=ProgressStyle(description_width='ini…"
      ]
     },
     "metadata": {},
     "output_type": "display_data"
    },
    {
     "name": "stdout",
     "output_type": "stream",
     "text": [
      "\n",
      "Epoch #2\tTrain Loss: 3334.923\n",
      "Total testing loss is: 2722.86279296875\n"
     ]
    },
    {
     "data": {
      "application/vnd.jupyter.widget-view+json": {
       "model_id": "72a35791d24a404ebb116c7ce6607a00",
       "version_major": 2,
       "version_minor": 0
      },
      "text/plain": [
       "HBox(children=(IntProgress(value=0, description='Progress:', max=2, style=ProgressStyle(description_width='ini…"
      ]
     },
     "metadata": {},
     "output_type": "display_data"
    },
    {
     "name": "stdout",
     "output_type": "stream",
     "text": [
      "\n",
      "Epoch #3\tTrain Loss: 2380.894\n",
      "Total testing loss is: 807.5587158203125\n"
     ]
    },
    {
     "data": {
      "application/vnd.jupyter.widget-view+json": {
       "model_id": "bcff4a649df64735bdc4f6364e5136d4",
       "version_major": 2,
       "version_minor": 0
      },
      "text/plain": [
       "HBox(children=(IntProgress(value=0, description='Progress:', max=2, style=ProgressStyle(description_width='ini…"
      ]
     },
     "metadata": {},
     "output_type": "display_data"
    },
    {
     "name": "stdout",
     "output_type": "stream",
     "text": [
      "\n",
      "Epoch #4\tTrain Loss: 1717.693\n",
      "Total testing loss is: 540.9656982421875\n"
     ]
    },
    {
     "data": {
      "application/vnd.jupyter.widget-view+json": {
       "model_id": "c7012604215044b89ba3c10f66a23c26",
       "version_major": 2,
       "version_minor": 0
      },
      "text/plain": [
       "HBox(children=(IntProgress(value=0, description='Progress:', max=2, style=ProgressStyle(description_width='ini…"
      ]
     },
     "metadata": {},
     "output_type": "display_data"
    },
    {
     "name": "stdout",
     "output_type": "stream",
     "text": [
      "\n",
      "Epoch #5\tTrain Loss: 1420.427\n",
      "Total testing loss is: 943.0487060546875\n"
     ]
    },
    {
     "data": {
      "application/vnd.jupyter.widget-view+json": {
       "model_id": "fa87404190504851964c8cb4d07c429d",
       "version_major": 2,
       "version_minor": 0
      },
      "text/plain": [
       "HBox(children=(IntProgress(value=0, description='Progress:', max=2, style=ProgressStyle(description_width='ini…"
      ]
     },
     "metadata": {},
     "output_type": "display_data"
    },
    {
     "name": "stdout",
     "output_type": "stream",
     "text": [
      "\n",
      "Epoch #6\tTrain Loss: 1301.600\n",
      "Total testing loss is: 1330.4227294921875\n"
     ]
    },
    {
     "data": {
      "application/vnd.jupyter.widget-view+json": {
       "model_id": "89891eef62e74b08bc3aed577bb6fce0",
       "version_major": 2,
       "version_minor": 0
      },
      "text/plain": [
       "HBox(children=(IntProgress(value=0, description='Progress:', max=2, style=ProgressStyle(description_width='ini…"
      ]
     },
     "metadata": {},
     "output_type": "display_data"
    },
    {
     "name": "stdout",
     "output_type": "stream",
     "text": [
      "\n",
      "Epoch #7\tTrain Loss: 1387.088\n",
      "Total testing loss is: 1012.7951049804688\n"
     ]
    },
    {
     "data": {
      "application/vnd.jupyter.widget-view+json": {
       "model_id": "e99af914f29749c7bd66fc6d0d4bd757",
       "version_major": 2,
       "version_minor": 0
      },
      "text/plain": [
       "HBox(children=(IntProgress(value=0, description='Progress:', max=2, style=ProgressStyle(description_width='ini…"
      ]
     },
     "metadata": {},
     "output_type": "display_data"
    },
    {
     "name": "stdout",
     "output_type": "stream",
     "text": [
      "\n",
      "Epoch #8\tTrain Loss: 1143.260\n",
      "Total testing loss is: 470.2093811035156\n"
     ]
    },
    {
     "data": {
      "application/vnd.jupyter.widget-view+json": {
       "model_id": "40a7eb02d4c644029012f512845bca65",
       "version_major": 2,
       "version_minor": 0
      },
      "text/plain": [
       "HBox(children=(IntProgress(value=0, description='Progress:', max=2, style=ProgressStyle(description_width='ini…"
      ]
     },
     "metadata": {},
     "output_type": "display_data"
    },
    {
     "name": "stdout",
     "output_type": "stream",
     "text": [
      "\n",
      "Epoch #9\tTrain Loss: 1041.411\n",
      "Total testing loss is: 460.565673828125\n"
     ]
    },
    {
     "data": {
      "application/vnd.jupyter.widget-view+json": {
       "model_id": "331736cacfb945b0b471b48aac53ff86",
       "version_major": 2,
       "version_minor": 0
      },
      "text/plain": [
       "HBox(children=(IntProgress(value=0, description='Progress:', max=2, style=ProgressStyle(description_width='ini…"
      ]
     },
     "metadata": {},
     "output_type": "display_data"
    },
    {
     "name": "stdout",
     "output_type": "stream",
     "text": [
      "\n",
      "Epoch #10\tTrain Loss: 879.666\n",
      "Total testing loss is: 633.6718139648438\n"
     ]
    },
    {
     "data": {
      "application/vnd.jupyter.widget-view+json": {
       "model_id": "7569c08b595c4bf1ac260800bbff568d",
       "version_major": 2,
       "version_minor": 0
      },
      "text/plain": [
       "HBox(children=(IntProgress(value=0, description='Progress:', max=2, style=ProgressStyle(description_width='ini…"
      ]
     },
     "metadata": {},
     "output_type": "display_data"
    },
    {
     "name": "stdout",
     "output_type": "stream",
     "text": [
      "\n",
      "Epoch #11\tTrain Loss: 835.182\n",
      "Total testing loss is: 880.6300659179688\n"
     ]
    },
    {
     "data": {
      "application/vnd.jupyter.widget-view+json": {
       "model_id": "e05e1c920e914321bb0cfa738b8bb370",
       "version_major": 2,
       "version_minor": 0
      },
      "text/plain": [
       "HBox(children=(IntProgress(value=0, description='Progress:', max=2, style=ProgressStyle(description_width='ini…"
      ]
     },
     "metadata": {},
     "output_type": "display_data"
    },
    {
     "name": "stdout",
     "output_type": "stream",
     "text": [
      "\n",
      "Epoch #12\tTrain Loss: 981.569\n",
      "Total testing loss is: 688.2866821289062\n"
     ]
    },
    {
     "data": {
      "application/vnd.jupyter.widget-view+json": {
       "model_id": "be26333d41a24833b22d0bc87b24434d",
       "version_major": 2,
       "version_minor": 0
      },
      "text/plain": [
       "HBox(children=(IntProgress(value=0, description='Progress:', max=2, style=ProgressStyle(description_width='ini…"
      ]
     },
     "metadata": {},
     "output_type": "display_data"
    },
    {
     "name": "stdout",
     "output_type": "stream",
     "text": [
      "\n",
      "Epoch #13\tTrain Loss: 785.171\n",
      "Total testing loss is: 441.67578125\n"
     ]
    },
    {
     "data": {
      "application/vnd.jupyter.widget-view+json": {
       "model_id": "0355c14e0dba4219af8bcc5d37c12adc",
       "version_major": 2,
       "version_minor": 0
      },
      "text/plain": [
       "HBox(children=(IntProgress(value=0, description='Progress:', max=2, style=ProgressStyle(description_width='ini…"
      ]
     },
     "metadata": {},
     "output_type": "display_data"
    },
    {
     "name": "stdout",
     "output_type": "stream",
     "text": [
      "\n",
      "Epoch #14\tTrain Loss: 870.475\n",
      "Total testing loss is: 441.87396240234375\n"
     ]
    },
    {
     "data": {
      "application/vnd.jupyter.widget-view+json": {
       "model_id": "751b4d471f0f4f01900dc668bf2b7965",
       "version_major": 2,
       "version_minor": 0
      },
      "text/plain": [
       "HBox(children=(IntProgress(value=0, description='Progress:', max=2, style=ProgressStyle(description_width='ini…"
      ]
     },
     "metadata": {},
     "output_type": "display_data"
    },
    {
     "name": "stdout",
     "output_type": "stream",
     "text": [
      "\n",
      "Epoch #15\tTrain Loss: 697.187\n",
      "Total testing loss is: 618.7272338867188\n"
     ]
    },
    {
     "data": {
      "application/vnd.jupyter.widget-view+json": {
       "model_id": "0d2f0b456c25415fadd0c62be5922f89",
       "version_major": 2,
       "version_minor": 0
      },
      "text/plain": [
       "HBox(children=(IntProgress(value=0, description='Progress:', max=2, style=ProgressStyle(description_width='ini…"
      ]
     },
     "metadata": {},
     "output_type": "display_data"
    },
    {
     "name": "stdout",
     "output_type": "stream",
     "text": [
      "\n",
      "Epoch #16\tTrain Loss: 736.452\n",
      "Total testing loss is: 617.1235961914062\n"
     ]
    },
    {
     "data": {
      "application/vnd.jupyter.widget-view+json": {
       "model_id": "eb23adc31e034d6e9548779582b54479",
       "version_major": 2,
       "version_minor": 0
      },
      "text/plain": [
       "HBox(children=(IntProgress(value=0, description='Progress:', max=2, style=ProgressStyle(description_width='ini…"
      ]
     },
     "metadata": {},
     "output_type": "display_data"
    },
    {
     "name": "stdout",
     "output_type": "stream",
     "text": [
      "\n",
      "Epoch #17\tTrain Loss: 829.462\n",
      "Total testing loss is: 462.47430419921875\n"
     ]
    },
    {
     "data": {
      "application/vnd.jupyter.widget-view+json": {
       "model_id": "f544994a08d24ad79525c81e5a925434",
       "version_major": 2,
       "version_minor": 0
      },
      "text/plain": [
       "HBox(children=(IntProgress(value=0, description='Progress:', max=2, style=ProgressStyle(description_width='ini…"
      ]
     },
     "metadata": {},
     "output_type": "display_data"
    },
    {
     "name": "stdout",
     "output_type": "stream",
     "text": [
      "\n",
      "Epoch #18\tTrain Loss: 727.892\n",
      "Total testing loss is: 424.5265197753906\n"
     ]
    },
    {
     "data": {
      "application/vnd.jupyter.widget-view+json": {
       "model_id": "e126f0b82ed54701b4ce4c4af17844df",
       "version_major": 2,
       "version_minor": 0
      },
      "text/plain": [
       "HBox(children=(IntProgress(value=0, description='Progress:', max=2, style=ProgressStyle(description_width='ini…"
      ]
     },
     "metadata": {},
     "output_type": "display_data"
    },
    {
     "name": "stdout",
     "output_type": "stream",
     "text": [
      "\n",
      "Epoch #19\tTrain Loss: 770.489\n",
      "Total testing loss is: 420.4339904785156\n"
     ]
    },
    {
     "data": {
      "application/vnd.jupyter.widget-view+json": {
       "model_id": "51d136eff0bc427384558d30c7a5dbc3",
       "version_major": 2,
       "version_minor": 0
      },
      "text/plain": [
       "HBox(children=(IntProgress(value=0, description='Progress:', max=2, style=ProgressStyle(description_width='ini…"
      ]
     },
     "metadata": {},
     "output_type": "display_data"
    },
    {
     "name": "stdout",
     "output_type": "stream",
     "text": [
      "\n",
      "Epoch #20\tTrain Loss: 562.948\n",
      "Total testing loss is: 457.8124694824219\n"
     ]
    },
    {
     "data": {
      "application/vnd.jupyter.widget-view+json": {
       "model_id": "672ed41f7a424179bb37c18f6dc553ef",
       "version_major": 2,
       "version_minor": 0
      },
      "text/plain": [
       "HBox(children=(IntProgress(value=0, description='Progress:', max=2, style=ProgressStyle(description_width='ini…"
      ]
     },
     "metadata": {},
     "output_type": "display_data"
    },
    {
     "name": "stdout",
     "output_type": "stream",
     "text": [
      "\n",
      "Epoch #21\tTrain Loss: 714.565\n",
      "Total testing loss is: 497.3626708984375\n"
     ]
    },
    {
     "data": {
      "application/vnd.jupyter.widget-view+json": {
       "model_id": "9ee9735d3b034a0584cf6ee9b665d2ca",
       "version_major": 2,
       "version_minor": 0
      },
      "text/plain": [
       "HBox(children=(IntProgress(value=0, description='Progress:', max=2, style=ProgressStyle(description_width='ini…"
      ]
     },
     "metadata": {},
     "output_type": "display_data"
    },
    {
     "name": "stdout",
     "output_type": "stream",
     "text": [
      "\n",
      "Epoch #22\tTrain Loss: 612.675\n",
      "Total testing loss is: 456.5964050292969\n"
     ]
    },
    {
     "data": {
      "application/vnd.jupyter.widget-view+json": {
       "model_id": "778ef51a88004a8db87a0b9fe82de022",
       "version_major": 2,
       "version_minor": 0
      },
      "text/plain": [
       "HBox(children=(IntProgress(value=0, description='Progress:', max=2, style=ProgressStyle(description_width='ini…"
      ]
     },
     "metadata": {},
     "output_type": "display_data"
    },
    {
     "name": "stdout",
     "output_type": "stream",
     "text": [
      "\n",
      "Epoch #23\tTrain Loss: 629.624\n",
      "Total testing loss is: 451.6272888183594\n"
     ]
    },
    {
     "data": {
      "application/vnd.jupyter.widget-view+json": {
       "model_id": "a2910bc7d781464ab1b667a48d8fa817",
       "version_major": 2,
       "version_minor": 0
      },
      "text/plain": [
       "HBox(children=(IntProgress(value=0, description='Progress:', max=2, style=ProgressStyle(description_width='ini…"
      ]
     },
     "metadata": {},
     "output_type": "display_data"
    },
    {
     "name": "stdout",
     "output_type": "stream",
     "text": [
      "\n",
      "Epoch #24\tTrain Loss: 560.089\n",
      "Total testing loss is: 534.3895263671875\n"
     ]
    },
    {
     "data": {
      "application/vnd.jupyter.widget-view+json": {
       "model_id": "0b4b5037c6e448319d1f5d7586b38cee",
       "version_major": 2,
       "version_minor": 0
      },
      "text/plain": [
       "HBox(children=(IntProgress(value=0, description='Progress:', max=2, style=ProgressStyle(description_width='ini…"
      ]
     },
     "metadata": {},
     "output_type": "display_data"
    },
    {
     "name": "stdout",
     "output_type": "stream",
     "text": [
      "\n",
      "Epoch #25\tTrain Loss: 634.852\n",
      "Total testing loss is: 516.3740844726562\n"
     ]
    },
    {
     "data": {
      "application/vnd.jupyter.widget-view+json": {
       "model_id": "696fb4c2c8a64f789f7339bbbf8d6189",
       "version_major": 2,
       "version_minor": 0
      },
      "text/plain": [
       "HBox(children=(IntProgress(value=0, description='Progress:', max=2, style=ProgressStyle(description_width='ini…"
      ]
     },
     "metadata": {},
     "output_type": "display_data"
    },
    {
     "name": "stdout",
     "output_type": "stream",
     "text": [
      "\n",
      "Epoch #26\tTrain Loss: 700.923\n",
      "Total testing loss is: 399.1465148925781\n"
     ]
    },
    {
     "data": {
      "application/vnd.jupyter.widget-view+json": {
       "model_id": "a3d56f4d88ce431392826d07a897993e",
       "version_major": 2,
       "version_minor": 0
      },
      "text/plain": [
       "HBox(children=(IntProgress(value=0, description='Progress:', max=2, style=ProgressStyle(description_width='ini…"
      ]
     },
     "metadata": {},
     "output_type": "display_data"
    },
    {
     "name": "stdout",
     "output_type": "stream",
     "text": [
      "\n",
      "Epoch #27\tTrain Loss: 765.964\n",
      "Total testing loss is: 424.9449768066406\n"
     ]
    },
    {
     "data": {
      "application/vnd.jupyter.widget-view+json": {
       "model_id": "b37b04e6f3a14434bbc651b1816a25f3",
       "version_major": 2,
       "version_minor": 0
      },
      "text/plain": [
       "HBox(children=(IntProgress(value=0, description='Progress:', max=2, style=ProgressStyle(description_width='ini…"
      ]
     },
     "metadata": {},
     "output_type": "display_data"
    },
    {
     "name": "stdout",
     "output_type": "stream",
     "text": [
      "\n",
      "Epoch #28\tTrain Loss: 484.585\n",
      "Total testing loss is: 555.965087890625\n"
     ]
    },
    {
     "data": {
      "application/vnd.jupyter.widget-view+json": {
       "model_id": "4c2ed3d5d6ba4a12811f89e298d20d57",
       "version_major": 2,
       "version_minor": 0
      },
      "text/plain": [
       "HBox(children=(IntProgress(value=0, description='Progress:', max=2, style=ProgressStyle(description_width='ini…"
      ]
     },
     "metadata": {},
     "output_type": "display_data"
    },
    {
     "name": "stdout",
     "output_type": "stream",
     "text": [
      "\n",
      "Epoch #29\tTrain Loss: 697.872\n",
      "Total testing loss is: 513.7646484375\n"
     ]
    },
    {
     "data": {
      "application/vnd.jupyter.widget-view+json": {
       "model_id": "016e58a096ba4a818364dd9aa445aee1",
       "version_major": 2,
       "version_minor": 0
      },
      "text/plain": [
       "HBox(children=(IntProgress(value=0, description='Progress:', max=2, style=ProgressStyle(description_width='ini…"
      ]
     },
     "metadata": {},
     "output_type": "display_data"
    },
    {
     "name": "stdout",
     "output_type": "stream",
     "text": [
      "\n",
      "Epoch #30\tTrain Loss: 676.499\n",
      "Total testing loss is: 414.18304443359375\n"
     ]
    },
    {
     "data": {
      "application/vnd.jupyter.widget-view+json": {
       "model_id": "abbb131df96f40bea39cc1141fac785e",
       "version_major": 2,
       "version_minor": 0
      },
      "text/plain": [
       "HBox(children=(IntProgress(value=0, description='Progress:', max=2, style=ProgressStyle(description_width='ini…"
      ]
     },
     "metadata": {},
     "output_type": "display_data"
    },
    {
     "name": "stdout",
     "output_type": "stream",
     "text": [
      "\n",
      "Epoch #31\tTrain Loss: 586.699\n",
      "Total testing loss is: 394.3005676269531\n"
     ]
    },
    {
     "data": {
      "application/vnd.jupyter.widget-view+json": {
       "model_id": "b5334eb1ef2e475082a32baa0484ea7d",
       "version_major": 2,
       "version_minor": 0
      },
      "text/plain": [
       "HBox(children=(IntProgress(value=0, description='Progress:', max=2, style=ProgressStyle(description_width='ini…"
      ]
     },
     "metadata": {},
     "output_type": "display_data"
    },
    {
     "name": "stdout",
     "output_type": "stream",
     "text": [
      "\n",
      "Epoch #32\tTrain Loss: 746.120\n",
      "Total testing loss is: 389.9390869140625\n"
     ]
    },
    {
     "data": {
      "application/vnd.jupyter.widget-view+json": {
       "model_id": "200581802244401d9bd67e6cd16f4ee7",
       "version_major": 2,
       "version_minor": 0
      },
      "text/plain": [
       "HBox(children=(IntProgress(value=0, description='Progress:', max=2, style=ProgressStyle(description_width='ini…"
      ]
     },
     "metadata": {},
     "output_type": "display_data"
    },
    {
     "name": "stdout",
     "output_type": "stream",
     "text": [
      "\n",
      "Epoch #33\tTrain Loss: 679.382\n",
      "Total testing loss is: 449.32122802734375\n"
     ]
    },
    {
     "data": {
      "application/vnd.jupyter.widget-view+json": {
       "model_id": "c2ea90624b754774b2f7357c8c0da935",
       "version_major": 2,
       "version_minor": 0
      },
      "text/plain": [
       "HBox(children=(IntProgress(value=0, description='Progress:', max=2, style=ProgressStyle(description_width='ini…"
      ]
     },
     "metadata": {},
     "output_type": "display_data"
    },
    {
     "name": "stdout",
     "output_type": "stream",
     "text": [
      "\n",
      "Epoch #34\tTrain Loss: 507.451\n",
      "Total testing loss is: 515.2037963867188\n"
     ]
    },
    {
     "data": {
      "application/vnd.jupyter.widget-view+json": {
       "model_id": "8669ecc0c8774623840dfb3ef8587cf4",
       "version_major": 2,
       "version_minor": 0
      },
      "text/plain": [
       "HBox(children=(IntProgress(value=0, description='Progress:', max=2, style=ProgressStyle(description_width='ini…"
      ]
     },
     "metadata": {},
     "output_type": "display_data"
    },
    {
     "name": "stdout",
     "output_type": "stream",
     "text": [
      "\n",
      "Epoch #35\tTrain Loss: 558.381\n",
      "Total testing loss is: 440.92828369140625\n"
     ]
    },
    {
     "data": {
      "application/vnd.jupyter.widget-view+json": {
       "model_id": "e3a120e88841457aa9787307be044f1f",
       "version_major": 2,
       "version_minor": 0
      },
      "text/plain": [
       "HBox(children=(IntProgress(value=0, description='Progress:', max=2, style=ProgressStyle(description_width='ini…"
      ]
     },
     "metadata": {},
     "output_type": "display_data"
    },
    {
     "name": "stdout",
     "output_type": "stream",
     "text": [
      "\n",
      "Epoch #36\tTrain Loss: 590.911\n",
      "Total testing loss is: 388.73504638671875\n"
     ]
    },
    {
     "data": {
      "application/vnd.jupyter.widget-view+json": {
       "model_id": "05c6af397d294454bf93f72b078f3475",
       "version_major": 2,
       "version_minor": 0
      },
      "text/plain": [
       "HBox(children=(IntProgress(value=0, description='Progress:', max=2, style=ProgressStyle(description_width='ini…"
      ]
     },
     "metadata": {},
     "output_type": "display_data"
    },
    {
     "name": "stdout",
     "output_type": "stream",
     "text": [
      "\n",
      "Epoch #37\tTrain Loss: 614.386\n",
      "Total testing loss is: 479.6591491699219\n"
     ]
    },
    {
     "data": {
      "application/vnd.jupyter.widget-view+json": {
       "model_id": "939eba3713634c9482e9c8a4b3cf9a18",
       "version_major": 2,
       "version_minor": 0
      },
      "text/plain": [
       "HBox(children=(IntProgress(value=0, description='Progress:', max=2, style=ProgressStyle(description_width='ini…"
      ]
     },
     "metadata": {},
     "output_type": "display_data"
    },
    {
     "name": "stdout",
     "output_type": "stream",
     "text": [
      "\n",
      "Epoch #38\tTrain Loss: 715.272\n",
      "Total testing loss is: 463.79351806640625\n"
     ]
    },
    {
     "data": {
      "application/vnd.jupyter.widget-view+json": {
       "model_id": "96d5914ffd7046f6bdc3a1b35ac59776",
       "version_major": 2,
       "version_minor": 0
      },
      "text/plain": [
       "HBox(children=(IntProgress(value=0, description='Progress:', max=2, style=ProgressStyle(description_width='ini…"
      ]
     },
     "metadata": {},
     "output_type": "display_data"
    },
    {
     "name": "stdout",
     "output_type": "stream",
     "text": [
      "\n",
      "Epoch #39\tTrain Loss: 555.134\n",
      "Total testing loss is: 366.4443054199219\n"
     ]
    },
    {
     "data": {
      "application/vnd.jupyter.widget-view+json": {
       "model_id": "2aecb6d5a0d044e0ba368053319fecbf",
       "version_major": 2,
       "version_minor": 0
      },
      "text/plain": [
       "HBox(children=(IntProgress(value=0, description='Progress:', max=2, style=ProgressStyle(description_width='ini…"
      ]
     },
     "metadata": {},
     "output_type": "display_data"
    },
    {
     "name": "stdout",
     "output_type": "stream",
     "text": [
      "\n",
      "Epoch #40\tTrain Loss: 809.549\n",
      "Total testing loss is: 496.3365478515625\n"
     ]
    },
    {
     "data": {
      "application/vnd.jupyter.widget-view+json": {
       "model_id": "3a7c10ba62bf4d5884fdeefab5ba5064",
       "version_major": 2,
       "version_minor": 0
      },
      "text/plain": [
       "HBox(children=(IntProgress(value=0, description='Progress:', max=2, style=ProgressStyle(description_width='ini…"
      ]
     },
     "metadata": {},
     "output_type": "display_data"
    },
    {
     "name": "stdout",
     "output_type": "stream",
     "text": [
      "\n",
      "Epoch #41\tTrain Loss: 624.979\n",
      "Total testing loss is: 703.5259399414062\n"
     ]
    },
    {
     "data": {
      "application/vnd.jupyter.widget-view+json": {
       "model_id": "a83dcd253496477c9c029d3ab99720b4",
       "version_major": 2,
       "version_minor": 0
      },
      "text/plain": [
       "HBox(children=(IntProgress(value=0, description='Progress:', max=2, style=ProgressStyle(description_width='ini…"
      ]
     },
     "metadata": {},
     "output_type": "display_data"
    },
    {
     "name": "stdout",
     "output_type": "stream",
     "text": [
      "\n",
      "Epoch #42\tTrain Loss: 796.170\n",
      "Total testing loss is: 442.0589599609375\n"
     ]
    },
    {
     "data": {
      "application/vnd.jupyter.widget-view+json": {
       "model_id": "1be54309b5dd41c781f4ce85a4231810",
       "version_major": 2,
       "version_minor": 0
      },
      "text/plain": [
       "HBox(children=(IntProgress(value=0, description='Progress:', max=2, style=ProgressStyle(description_width='ini…"
      ]
     },
     "metadata": {},
     "output_type": "display_data"
    },
    {
     "name": "stdout",
     "output_type": "stream",
     "text": [
      "\n",
      "Epoch #43\tTrain Loss: 670.178\n",
      "Total testing loss is: 374.7614440917969\n"
     ]
    },
    {
     "data": {
      "application/vnd.jupyter.widget-view+json": {
       "model_id": "3b261690196b4ab0b80c52fd1896749b",
       "version_major": 2,
       "version_minor": 0
      },
      "text/plain": [
       "HBox(children=(IntProgress(value=0, description='Progress:', max=2, style=ProgressStyle(description_width='ini…"
      ]
     },
     "metadata": {},
     "output_type": "display_data"
    },
    {
     "name": "stdout",
     "output_type": "stream",
     "text": [
      "\n",
      "Epoch #44\tTrain Loss: 552.666\n",
      "Total testing loss is: 451.1424560546875\n"
     ]
    },
    {
     "data": {
      "application/vnd.jupyter.widget-view+json": {
       "model_id": "1f3b351132d94c92ab92a8c5193427bc",
       "version_major": 2,
       "version_minor": 0
      },
      "text/plain": [
       "HBox(children=(IntProgress(value=0, description='Progress:', max=2, style=ProgressStyle(description_width='ini…"
      ]
     },
     "metadata": {},
     "output_type": "display_data"
    },
    {
     "name": "stdout",
     "output_type": "stream",
     "text": [
      "\n",
      "Epoch #45\tTrain Loss: 519.246\n",
      "Total testing loss is: 401.5540466308594\n"
     ]
    },
    {
     "data": {
      "application/vnd.jupyter.widget-view+json": {
       "model_id": "21d74aad46584153beb892a62f3aaf62",
       "version_major": 2,
       "version_minor": 0
      },
      "text/plain": [
       "HBox(children=(IntProgress(value=0, description='Progress:', max=2, style=ProgressStyle(description_width='ini…"
      ]
     },
     "metadata": {},
     "output_type": "display_data"
    },
    {
     "name": "stdout",
     "output_type": "stream",
     "text": [
      "\n",
      "Epoch #46\tTrain Loss: 440.305\n",
      "Total testing loss is: 375.07818603515625\n"
     ]
    },
    {
     "data": {
      "application/vnd.jupyter.widget-view+json": {
       "model_id": "bf32755e686f44a78df429c6ba315e70",
       "version_major": 2,
       "version_minor": 0
      },
      "text/plain": [
       "HBox(children=(IntProgress(value=0, description='Progress:', max=2, style=ProgressStyle(description_width='ini…"
      ]
     },
     "metadata": {},
     "output_type": "display_data"
    },
    {
     "name": "stdout",
     "output_type": "stream",
     "text": [
      "\n",
      "Epoch #47\tTrain Loss: 510.487\n",
      "Total testing loss is: 387.0969543457031\n"
     ]
    },
    {
     "data": {
      "application/vnd.jupyter.widget-view+json": {
       "model_id": "8d48a74fe82d46c3a8ec4df86f6aba02",
       "version_major": 2,
       "version_minor": 0
      },
      "text/plain": [
       "HBox(children=(IntProgress(value=0, description='Progress:', max=2, style=ProgressStyle(description_width='ini…"
      ]
     },
     "metadata": {},
     "output_type": "display_data"
    },
    {
     "name": "stdout",
     "output_type": "stream",
     "text": [
      "\n",
      "Epoch #48\tTrain Loss: 507.299\n",
      "Total testing loss is: 394.4309997558594\n"
     ]
    },
    {
     "data": {
      "application/vnd.jupyter.widget-view+json": {
       "model_id": "0d936a38e2ef4cf1bfe81ff5e2d6b382",
       "version_major": 2,
       "version_minor": 0
      },
      "text/plain": [
       "HBox(children=(IntProgress(value=0, description='Progress:', max=2, style=ProgressStyle(description_width='ini…"
      ]
     },
     "metadata": {},
     "output_type": "display_data"
    },
    {
     "name": "stdout",
     "output_type": "stream",
     "text": [
      "\n",
      "Epoch #49\tTrain Loss: 542.772\n",
      "Total testing loss is: 399.13677978515625\n"
     ]
    },
    {
     "data": {
      "application/vnd.jupyter.widget-view+json": {
       "model_id": "51ea017faeb9444f9c5cbce2f8ee53ce",
       "version_major": 2,
       "version_minor": 0
      },
      "text/plain": [
       "HBox(children=(IntProgress(value=0, description='Progress:', max=2, style=ProgressStyle(description_width='ini…"
      ]
     },
     "metadata": {},
     "output_type": "display_data"
    },
    {
     "name": "stdout",
     "output_type": "stream",
     "text": [
      "\n",
      "Epoch #50\tTrain Loss: 571.594\n",
      "Total testing loss is: 353.9814453125\n"
     ]
    },
    {
     "data": {
      "application/vnd.jupyter.widget-view+json": {
       "model_id": "ba375905bad54bd39aad0e6ecf75d4ad",
       "version_major": 2,
       "version_minor": 0
      },
      "text/plain": [
       "HBox(children=(IntProgress(value=0, description='Progress:', max=2, style=ProgressStyle(description_width='ini…"
      ]
     },
     "metadata": {},
     "output_type": "display_data"
    },
    {
     "name": "stdout",
     "output_type": "stream",
     "text": [
      "\n",
      "Epoch #51\tTrain Loss: 431.844\n",
      "Total testing loss is: 326.4339294433594\n"
     ]
    },
    {
     "data": {
      "application/vnd.jupyter.widget-view+json": {
       "model_id": "fcac586ffbad46099a55a088a093dec8",
       "version_major": 2,
       "version_minor": 0
      },
      "text/plain": [
       "HBox(children=(IntProgress(value=0, description='Progress:', max=2, style=ProgressStyle(description_width='ini…"
      ]
     },
     "metadata": {},
     "output_type": "display_data"
    },
    {
     "name": "stdout",
     "output_type": "stream",
     "text": [
      "\n",
      "Epoch #52\tTrain Loss: 583.834\n",
      "Total testing loss is: 431.74359130859375\n"
     ]
    },
    {
     "data": {
      "application/vnd.jupyter.widget-view+json": {
       "model_id": "4e637722aa5d44dcbcf087bb5cdd5ab0",
       "version_major": 2,
       "version_minor": 0
      },
      "text/plain": [
       "HBox(children=(IntProgress(value=0, description='Progress:', max=2, style=ProgressStyle(description_width='ini…"
      ]
     },
     "metadata": {},
     "output_type": "display_data"
    },
    {
     "name": "stdout",
     "output_type": "stream",
     "text": [
      "\n",
      "Epoch #53\tTrain Loss: 475.262\n",
      "Total testing loss is: 432.16351318359375\n"
     ]
    },
    {
     "data": {
      "application/vnd.jupyter.widget-view+json": {
       "model_id": "f2c10dd0f0814baa9f43c661438b34a2",
       "version_major": 2,
       "version_minor": 0
      },
      "text/plain": [
       "HBox(children=(IntProgress(value=0, description='Progress:', max=2, style=ProgressStyle(description_width='ini…"
      ]
     },
     "metadata": {},
     "output_type": "display_data"
    },
    {
     "name": "stdout",
     "output_type": "stream",
     "text": [
      "\n",
      "Epoch #54\tTrain Loss: 540.718\n",
      "Total testing loss is: 328.872802734375\n"
     ]
    },
    {
     "data": {
      "application/vnd.jupyter.widget-view+json": {
       "model_id": "6d936c0e71a64c67905c5043862ffde9",
       "version_major": 2,
       "version_minor": 0
      },
      "text/plain": [
       "HBox(children=(IntProgress(value=0, description='Progress:', max=2, style=ProgressStyle(description_width='ini…"
      ]
     },
     "metadata": {},
     "output_type": "display_data"
    },
    {
     "name": "stdout",
     "output_type": "stream",
     "text": [
      "\n",
      "Epoch #55\tTrain Loss: 458.869\n",
      "Total testing loss is: 311.5693054199219\n"
     ]
    },
    {
     "data": {
      "application/vnd.jupyter.widget-view+json": {
       "model_id": "02f02e86bad94bdc86c9f6ef09a8d52f",
       "version_major": 2,
       "version_minor": 0
      },
      "text/plain": [
       "HBox(children=(IntProgress(value=0, description='Progress:', max=2, style=ProgressStyle(description_width='ini…"
      ]
     },
     "metadata": {},
     "output_type": "display_data"
    },
    {
     "name": "stdout",
     "output_type": "stream",
     "text": [
      "\n",
      "Epoch #56\tTrain Loss: 466.363\n",
      "Total testing loss is: 313.2660217285156\n"
     ]
    },
    {
     "data": {
      "application/vnd.jupyter.widget-view+json": {
       "model_id": "ac46a508ccce4e40b6be0bd47f1e38ef",
       "version_major": 2,
       "version_minor": 0
      },
      "text/plain": [
       "HBox(children=(IntProgress(value=0, description='Progress:', max=2, style=ProgressStyle(description_width='ini…"
      ]
     },
     "metadata": {},
     "output_type": "display_data"
    },
    {
     "name": "stdout",
     "output_type": "stream",
     "text": [
      "\n",
      "Epoch #57\tTrain Loss: 543.895\n",
      "Total testing loss is: 477.3193054199219\n"
     ]
    },
    {
     "data": {
      "application/vnd.jupyter.widget-view+json": {
       "model_id": "17f0f6c4660e4a55b81729b6131ab571",
       "version_major": 2,
       "version_minor": 0
      },
      "text/plain": [
       "HBox(children=(IntProgress(value=0, description='Progress:', max=2, style=ProgressStyle(description_width='ini…"
      ]
     },
     "metadata": {},
     "output_type": "display_data"
    },
    {
     "name": "stdout",
     "output_type": "stream",
     "text": [
      "\n",
      "Epoch #58\tTrain Loss: 610.105\n",
      "Total testing loss is: 317.77313232421875\n"
     ]
    },
    {
     "data": {
      "application/vnd.jupyter.widget-view+json": {
       "model_id": "1bb32135d2c94037932e269df34bd976",
       "version_major": 2,
       "version_minor": 0
      },
      "text/plain": [
       "HBox(children=(IntProgress(value=0, description='Progress:', max=2, style=ProgressStyle(description_width='ini…"
      ]
     },
     "metadata": {},
     "output_type": "display_data"
    },
    {
     "name": "stdout",
     "output_type": "stream",
     "text": [
      "\n",
      "Epoch #59\tTrain Loss: 579.914\n",
      "Total testing loss is: 280.3681945800781\n"
     ]
    },
    {
     "data": {
      "application/vnd.jupyter.widget-view+json": {
       "model_id": "fd54ca970f7d434cbaf67589742d0451",
       "version_major": 2,
       "version_minor": 0
      },
      "text/plain": [
       "HBox(children=(IntProgress(value=0, description='Progress:', max=2, style=ProgressStyle(description_width='ini…"
      ]
     },
     "metadata": {},
     "output_type": "display_data"
    },
    {
     "name": "stdout",
     "output_type": "stream",
     "text": [
      "\n",
      "Epoch #60\tTrain Loss: 533.193\n",
      "Total testing loss is: 395.65545654296875\n"
     ]
    },
    {
     "data": {
      "application/vnd.jupyter.widget-view+json": {
       "model_id": "4e1c3b96fb4749a891a986c5f6e1b626",
       "version_major": 2,
       "version_minor": 0
      },
      "text/plain": [
       "HBox(children=(IntProgress(value=0, description='Progress:', max=2, style=ProgressStyle(description_width='ini…"
      ]
     },
     "metadata": {},
     "output_type": "display_data"
    },
    {
     "name": "stdout",
     "output_type": "stream",
     "text": [
      "\n",
      "Epoch #61\tTrain Loss: 526.780\n",
      "Total testing loss is: 353.08160400390625\n"
     ]
    },
    {
     "data": {
      "application/vnd.jupyter.widget-view+json": {
       "model_id": "048464d7850347d383927bf2a901f3ff",
       "version_major": 2,
       "version_minor": 0
      },
      "text/plain": [
       "HBox(children=(IntProgress(value=0, description='Progress:', max=2, style=ProgressStyle(description_width='ini…"
      ]
     },
     "metadata": {},
     "output_type": "display_data"
    },
    {
     "name": "stdout",
     "output_type": "stream",
     "text": [
      "\n",
      "Epoch #62\tTrain Loss: 552.568\n",
      "Total testing loss is: 269.744140625\n"
     ]
    },
    {
     "data": {
      "application/vnd.jupyter.widget-view+json": {
       "model_id": "e910526d962f466a90453c1cae9dee9d",
       "version_major": 2,
       "version_minor": 0
      },
      "text/plain": [
       "HBox(children=(IntProgress(value=0, description='Progress:', max=2, style=ProgressStyle(description_width='ini…"
      ]
     },
     "metadata": {},
     "output_type": "display_data"
    },
    {
     "name": "stdout",
     "output_type": "stream",
     "text": [
      "\n",
      "Epoch #63\tTrain Loss: 444.980\n",
      "Total testing loss is: 255.46652221679688\n"
     ]
    },
    {
     "data": {
      "application/vnd.jupyter.widget-view+json": {
       "model_id": "c2fb061c8e7642fea5e7826fe2881ac9",
       "version_major": 2,
       "version_minor": 0
      },
      "text/plain": [
       "HBox(children=(IntProgress(value=0, description='Progress:', max=2, style=ProgressStyle(description_width='ini…"
      ]
     },
     "metadata": {},
     "output_type": "display_data"
    },
    {
     "name": "stdout",
     "output_type": "stream",
     "text": [
      "\n",
      "Epoch #64\tTrain Loss: 478.348\n",
      "Total testing loss is: 301.2331848144531\n"
     ]
    },
    {
     "data": {
      "application/vnd.jupyter.widget-view+json": {
       "model_id": "008166ef58484ff38508a4ba3dd9809f",
       "version_major": 2,
       "version_minor": 0
      },
      "text/plain": [
       "HBox(children=(IntProgress(value=0, description='Progress:', max=2, style=ProgressStyle(description_width='ini…"
      ]
     },
     "metadata": {},
     "output_type": "display_data"
    },
    {
     "name": "stdout",
     "output_type": "stream",
     "text": [
      "\n",
      "Epoch #65\tTrain Loss: 402.317\n",
      "Total testing loss is: 275.5191955566406\n"
     ]
    },
    {
     "data": {
      "application/vnd.jupyter.widget-view+json": {
       "model_id": "e1c5a8c831cd4127a846434267fbb7be",
       "version_major": 2,
       "version_minor": 0
      },
      "text/plain": [
       "HBox(children=(IntProgress(value=0, description='Progress:', max=2, style=ProgressStyle(description_width='ini…"
      ]
     },
     "metadata": {},
     "output_type": "display_data"
    },
    {
     "name": "stdout",
     "output_type": "stream",
     "text": [
      "\n",
      "Epoch #66\tTrain Loss: 393.092\n",
      "Total testing loss is: 222.47805786132812\n"
     ]
    },
    {
     "data": {
      "application/vnd.jupyter.widget-view+json": {
       "model_id": "cd8ee78a1dbc473992f88a6426bb2a95",
       "version_major": 2,
       "version_minor": 0
      },
      "text/plain": [
       "HBox(children=(IntProgress(value=0, description='Progress:', max=2, style=ProgressStyle(description_width='ini…"
      ]
     },
     "metadata": {},
     "output_type": "display_data"
    },
    {
     "name": "stdout",
     "output_type": "stream",
     "text": [
      "\n",
      "Epoch #67\tTrain Loss: 464.985\n",
      "Total testing loss is: 279.2442321777344\n"
     ]
    },
    {
     "data": {
      "application/vnd.jupyter.widget-view+json": {
       "model_id": "9f225dbe18e3408ab8472f332b81aa21",
       "version_major": 2,
       "version_minor": 0
      },
      "text/plain": [
       "HBox(children=(IntProgress(value=0, description='Progress:', max=2, style=ProgressStyle(description_width='ini…"
      ]
     },
     "metadata": {},
     "output_type": "display_data"
    },
    {
     "name": "stdout",
     "output_type": "stream",
     "text": [
      "\n",
      "Epoch #68\tTrain Loss: 413.036\n",
      "Total testing loss is: 264.67620849609375\n"
     ]
    },
    {
     "data": {
      "application/vnd.jupyter.widget-view+json": {
       "model_id": "1663ccb6d29f47beb301c82a0a8f8010",
       "version_major": 2,
       "version_minor": 0
      },
      "text/plain": [
       "HBox(children=(IntProgress(value=0, description='Progress:', max=2, style=ProgressStyle(description_width='ini…"
      ]
     },
     "metadata": {},
     "output_type": "display_data"
    },
    {
     "name": "stdout",
     "output_type": "stream",
     "text": [
      "\n",
      "Epoch #69\tTrain Loss: 401.432\n",
      "Total testing loss is: 185.27503967285156\n"
     ]
    },
    {
     "data": {
      "application/vnd.jupyter.widget-view+json": {
       "model_id": "db5c820965c7418e9b263c658130d68e",
       "version_major": 2,
       "version_minor": 0
      },
      "text/plain": [
       "HBox(children=(IntProgress(value=0, description='Progress:', max=2, style=ProgressStyle(description_width='ini…"
      ]
     },
     "metadata": {},
     "output_type": "display_data"
    },
    {
     "name": "stdout",
     "output_type": "stream",
     "text": [
      "\n",
      "Epoch #70\tTrain Loss: 348.105\n",
      "Total testing loss is: 211.39352416992188\n"
     ]
    },
    {
     "data": {
      "application/vnd.jupyter.widget-view+json": {
       "model_id": "1d12f6973b74459eb58c02b6f8aa2692",
       "version_major": 2,
       "version_minor": 0
      },
      "text/plain": [
       "HBox(children=(IntProgress(value=0, description='Progress:', max=2, style=ProgressStyle(description_width='ini…"
      ]
     },
     "metadata": {},
     "output_type": "display_data"
    },
    {
     "name": "stdout",
     "output_type": "stream",
     "text": [
      "\n",
      "Epoch #71\tTrain Loss: 343.367\n",
      "Total testing loss is: 155.7105255126953\n"
     ]
    },
    {
     "data": {
      "application/vnd.jupyter.widget-view+json": {
       "model_id": "7d71a27ad65a4456b706a75f42c43259",
       "version_major": 2,
       "version_minor": 0
      },
      "text/plain": [
       "HBox(children=(IntProgress(value=0, description='Progress:', max=2, style=ProgressStyle(description_width='ini…"
      ]
     },
     "metadata": {},
     "output_type": "display_data"
    },
    {
     "name": "stdout",
     "output_type": "stream",
     "text": [
      "\n",
      "Epoch #72\tTrain Loss: 316.741\n",
      "Total testing loss is: 229.32301330566406\n"
     ]
    },
    {
     "data": {
      "application/vnd.jupyter.widget-view+json": {
       "model_id": "157f99396ab74c19bbb745f8ecc3cdf0",
       "version_major": 2,
       "version_minor": 0
      },
      "text/plain": [
       "HBox(children=(IntProgress(value=0, description='Progress:', max=2, style=ProgressStyle(description_width='ini…"
      ]
     },
     "metadata": {},
     "output_type": "display_data"
    },
    {
     "name": "stdout",
     "output_type": "stream",
     "text": [
      "\n",
      "Epoch #73\tTrain Loss: 329.733\n",
      "Total testing loss is: 154.5546417236328\n"
     ]
    },
    {
     "data": {
      "application/vnd.jupyter.widget-view+json": {
       "model_id": "37672bba63e6434db70dae5485939f08",
       "version_major": 2,
       "version_minor": 0
      },
      "text/plain": [
       "HBox(children=(IntProgress(value=0, description='Progress:', max=2, style=ProgressStyle(description_width='ini…"
      ]
     },
     "metadata": {},
     "output_type": "display_data"
    },
    {
     "name": "stdout",
     "output_type": "stream",
     "text": [
      "\n",
      "Epoch #74\tTrain Loss: 253.444\n",
      "Total testing loss is: 164.87564086914062\n"
     ]
    },
    {
     "data": {
      "application/vnd.jupyter.widget-view+json": {
       "model_id": "5f6beeb8121e419497e87d382c03e773",
       "version_major": 2,
       "version_minor": 0
      },
      "text/plain": [
       "HBox(children=(IntProgress(value=0, description='Progress:', max=2, style=ProgressStyle(description_width='ini…"
      ]
     },
     "metadata": {},
     "output_type": "display_data"
    },
    {
     "name": "stdout",
     "output_type": "stream",
     "text": [
      "\n",
      "Epoch #75\tTrain Loss: 262.517\n",
      "Total testing loss is: 142.81057739257812\n"
     ]
    },
    {
     "data": {
      "application/vnd.jupyter.widget-view+json": {
       "model_id": "e106eaab455b4c8c8d28fe62e633f4d6",
       "version_major": 2,
       "version_minor": 0
      },
      "text/plain": [
       "HBox(children=(IntProgress(value=0, description='Progress:', max=2, style=ProgressStyle(description_width='ini…"
      ]
     },
     "metadata": {},
     "output_type": "display_data"
    },
    {
     "name": "stdout",
     "output_type": "stream",
     "text": [
      "\n",
      "Epoch #76\tTrain Loss: 263.289\n",
      "Total testing loss is: 120.77748107910156\n"
     ]
    },
    {
     "data": {
      "application/vnd.jupyter.widget-view+json": {
       "model_id": "85a1595a078946de90389d75461c5337",
       "version_major": 2,
       "version_minor": 0
      },
      "text/plain": [
       "HBox(children=(IntProgress(value=0, description='Progress:', max=2, style=ProgressStyle(description_width='ini…"
      ]
     },
     "metadata": {},
     "output_type": "display_data"
    },
    {
     "name": "stdout",
     "output_type": "stream",
     "text": [
      "\n",
      "Epoch #77\tTrain Loss: 258.892\n",
      "Total testing loss is: 104.6033935546875\n"
     ]
    },
    {
     "data": {
      "application/vnd.jupyter.widget-view+json": {
       "model_id": "71366834fe014730ab117e4ce6e76930",
       "version_major": 2,
       "version_minor": 0
      },
      "text/plain": [
       "HBox(children=(IntProgress(value=0, description='Progress:', max=2, style=ProgressStyle(description_width='ini…"
      ]
     },
     "metadata": {},
     "output_type": "display_data"
    },
    {
     "name": "stdout",
     "output_type": "stream",
     "text": [
      "\n",
      "Epoch #78\tTrain Loss: 278.197\n",
      "Total testing loss is: 120.7933120727539\n"
     ]
    },
    {
     "data": {
      "application/vnd.jupyter.widget-view+json": {
       "model_id": "b6a67795cdb541099d0a7e63afc81a05",
       "version_major": 2,
       "version_minor": 0
      },
      "text/plain": [
       "HBox(children=(IntProgress(value=0, description='Progress:', max=2, style=ProgressStyle(description_width='ini…"
      ]
     },
     "metadata": {},
     "output_type": "display_data"
    },
    {
     "name": "stdout",
     "output_type": "stream",
     "text": [
      "\n",
      "Epoch #79\tTrain Loss: 313.852\n",
      "Total testing loss is: 103.1022720336914\n"
     ]
    },
    {
     "data": {
      "application/vnd.jupyter.widget-view+json": {
       "model_id": "51f93d3779184492bf78d114ae227655",
       "version_major": 2,
       "version_minor": 0
      },
      "text/plain": [
       "HBox(children=(IntProgress(value=0, description='Progress:', max=2, style=ProgressStyle(description_width='ini…"
      ]
     },
     "metadata": {},
     "output_type": "display_data"
    },
    {
     "name": "stdout",
     "output_type": "stream",
     "text": [
      "\n",
      "Epoch #80\tTrain Loss: 267.294\n",
      "Total testing loss is: 104.96471405029297\n"
     ]
    },
    {
     "data": {
      "application/vnd.jupyter.widget-view+json": {
       "model_id": "1290a691204d4837860bd22d7460cd7d",
       "version_major": 2,
       "version_minor": 0
      },
      "text/plain": [
       "HBox(children=(IntProgress(value=0, description='Progress:', max=2, style=ProgressStyle(description_width='ini…"
      ]
     },
     "metadata": {},
     "output_type": "display_data"
    },
    {
     "name": "stdout",
     "output_type": "stream",
     "text": [
      "\n",
      "Epoch #81\tTrain Loss: 245.467\n",
      "Total testing loss is: 140.23638916015625\n"
     ]
    },
    {
     "data": {
      "application/vnd.jupyter.widget-view+json": {
       "model_id": "abd269df13634798a25158704bbbcdfa",
       "version_major": 2,
       "version_minor": 0
      },
      "text/plain": [
       "HBox(children=(IntProgress(value=0, description='Progress:', max=2, style=ProgressStyle(description_width='ini…"
      ]
     },
     "metadata": {},
     "output_type": "display_data"
    },
    {
     "name": "stdout",
     "output_type": "stream",
     "text": [
      "\n",
      "Epoch #82\tTrain Loss: 247.840\n",
      "Total testing loss is: 127.06895446777344\n"
     ]
    },
    {
     "data": {
      "application/vnd.jupyter.widget-view+json": {
       "model_id": "423ff43eba1e4450b1aecdde1a46cc05",
       "version_major": 2,
       "version_minor": 0
      },
      "text/plain": [
       "HBox(children=(IntProgress(value=0, description='Progress:', max=2, style=ProgressStyle(description_width='ini…"
      ]
     },
     "metadata": {},
     "output_type": "display_data"
    },
    {
     "name": "stdout",
     "output_type": "stream",
     "text": [
      "\n",
      "Epoch #83\tTrain Loss: 285.391\n",
      "Total testing loss is: 157.68670654296875\n"
     ]
    },
    {
     "data": {
      "application/vnd.jupyter.widget-view+json": {
       "model_id": "63bffe79d9d3464f9dcb5c05335892dd",
       "version_major": 2,
       "version_minor": 0
      },
      "text/plain": [
       "HBox(children=(IntProgress(value=0, description='Progress:', max=2, style=ProgressStyle(description_width='ini…"
      ]
     },
     "metadata": {},
     "output_type": "display_data"
    },
    {
     "name": "stdout",
     "output_type": "stream",
     "text": [
      "\n",
      "Epoch #84\tTrain Loss: 263.002\n",
      "Total testing loss is: 151.347900390625\n"
     ]
    },
    {
     "data": {
      "application/vnd.jupyter.widget-view+json": {
       "model_id": "31a7624eb5364e0dad5d0b470ecf2f98",
       "version_major": 2,
       "version_minor": 0
      },
      "text/plain": [
       "HBox(children=(IntProgress(value=0, description='Progress:', max=2, style=ProgressStyle(description_width='ini…"
      ]
     },
     "metadata": {},
     "output_type": "display_data"
    },
    {
     "name": "stdout",
     "output_type": "stream",
     "text": [
      "\n",
      "Epoch #85\tTrain Loss: 264.830\n",
      "Total testing loss is: 101.86678314208984\n"
     ]
    },
    {
     "data": {
      "application/vnd.jupyter.widget-view+json": {
       "model_id": "8cf56d54b1d640179d73df9714f01910",
       "version_major": 2,
       "version_minor": 0
      },
      "text/plain": [
       "HBox(children=(IntProgress(value=0, description='Progress:', max=2, style=ProgressStyle(description_width='ini…"
      ]
     },
     "metadata": {},
     "output_type": "display_data"
    },
    {
     "name": "stdout",
     "output_type": "stream",
     "text": [
      "\n",
      "Epoch #86\tTrain Loss: 280.151\n",
      "Total testing loss is: 123.15404510498047\n"
     ]
    },
    {
     "data": {
      "application/vnd.jupyter.widget-view+json": {
       "model_id": "62c8c38427d244f193c7dbd1cd2f6231",
       "version_major": 2,
       "version_minor": 0
      },
      "text/plain": [
       "HBox(children=(IntProgress(value=0, description='Progress:', max=2, style=ProgressStyle(description_width='ini…"
      ]
     },
     "metadata": {},
     "output_type": "display_data"
    },
    {
     "name": "stdout",
     "output_type": "stream",
     "text": [
      "\n",
      "Epoch #87\tTrain Loss: 213.979\n",
      "Total testing loss is: 229.2808837890625\n"
     ]
    },
    {
     "data": {
      "application/vnd.jupyter.widget-view+json": {
       "model_id": "bc1456563fbe41ec8df7174fe8a8de6d",
       "version_major": 2,
       "version_minor": 0
      },
      "text/plain": [
       "HBox(children=(IntProgress(value=0, description='Progress:', max=2, style=ProgressStyle(description_width='ini…"
      ]
     },
     "metadata": {},
     "output_type": "display_data"
    },
    {
     "name": "stdout",
     "output_type": "stream",
     "text": [
      "\n",
      "Epoch #88\tTrain Loss: 297.529\n",
      "Total testing loss is: 114.20057678222656\n"
     ]
    },
    {
     "data": {
      "application/vnd.jupyter.widget-view+json": {
       "model_id": "1bb77736810141a4a0bf052317ffdfa8",
       "version_major": 2,
       "version_minor": 0
      },
      "text/plain": [
       "HBox(children=(IntProgress(value=0, description='Progress:', max=2, style=ProgressStyle(description_width='ini…"
      ]
     },
     "metadata": {},
     "output_type": "display_data"
    },
    {
     "name": "stdout",
     "output_type": "stream",
     "text": [
      "\n",
      "Epoch #89\tTrain Loss: 223.019\n",
      "Total testing loss is: 109.39474487304688\n"
     ]
    },
    {
     "data": {
      "application/vnd.jupyter.widget-view+json": {
       "model_id": "1c474bb0f6fc444abfbc3495c0ac7bca",
       "version_major": 2,
       "version_minor": 0
      },
      "text/plain": [
       "HBox(children=(IntProgress(value=0, description='Progress:', max=2, style=ProgressStyle(description_width='ini…"
      ]
     },
     "metadata": {},
     "output_type": "display_data"
    },
    {
     "name": "stdout",
     "output_type": "stream",
     "text": [
      "\n",
      "Epoch #90\tTrain Loss: 246.307\n",
      "Total testing loss is: 99.02792358398438\n"
     ]
    },
    {
     "data": {
      "application/vnd.jupyter.widget-view+json": {
       "model_id": "3d89e621a13a477c80a0822a418d143a",
       "version_major": 2,
       "version_minor": 0
      },
      "text/plain": [
       "HBox(children=(IntProgress(value=0, description='Progress:', max=2, style=ProgressStyle(description_width='ini…"
      ]
     },
     "metadata": {},
     "output_type": "display_data"
    },
    {
     "name": "stdout",
     "output_type": "stream",
     "text": [
      "\n",
      "Epoch #91\tTrain Loss: 237.327\n",
      "Total testing loss is: 131.70184326171875\n"
     ]
    },
    {
     "data": {
      "application/vnd.jupyter.widget-view+json": {
       "model_id": "583cfc56efa045e3914baf474904f2be",
       "version_major": 2,
       "version_minor": 0
      },
      "text/plain": [
       "HBox(children=(IntProgress(value=0, description='Progress:', max=2, style=ProgressStyle(description_width='ini…"
      ]
     },
     "metadata": {},
     "output_type": "display_data"
    },
    {
     "name": "stdout",
     "output_type": "stream",
     "text": [
      "\n",
      "Epoch #92\tTrain Loss: 207.409\n",
      "Total testing loss is: 128.117919921875\n"
     ]
    },
    {
     "data": {
      "application/vnd.jupyter.widget-view+json": {
       "model_id": "4c612c1a33fb49919e7fc89411f254e0",
       "version_major": 2,
       "version_minor": 0
      },
      "text/plain": [
       "HBox(children=(IntProgress(value=0, description='Progress:', max=2, style=ProgressStyle(description_width='ini…"
      ]
     },
     "metadata": {},
     "output_type": "display_data"
    },
    {
     "name": "stdout",
     "output_type": "stream",
     "text": [
      "\n",
      "Epoch #93\tTrain Loss: 234.540\n",
      "Total testing loss is: 98.59480285644531\n"
     ]
    },
    {
     "data": {
      "application/vnd.jupyter.widget-view+json": {
       "model_id": "1230388a0b8d421e907e2efdfe695fdb",
       "version_major": 2,
       "version_minor": 0
      },
      "text/plain": [
       "HBox(children=(IntProgress(value=0, description='Progress:', max=2, style=ProgressStyle(description_width='ini…"
      ]
     },
     "metadata": {},
     "output_type": "display_data"
    },
    {
     "name": "stdout",
     "output_type": "stream",
     "text": [
      "\n",
      "Epoch #94\tTrain Loss: 207.905\n",
      "Total testing loss is: 94.32394409179688\n"
     ]
    },
    {
     "data": {
      "application/vnd.jupyter.widget-view+json": {
       "model_id": "5fbbef3b9c2742ecb0e0ca79eb9ec874",
       "version_major": 2,
       "version_minor": 0
      },
      "text/plain": [
       "HBox(children=(IntProgress(value=0, description='Progress:', max=2, style=ProgressStyle(description_width='ini…"
      ]
     },
     "metadata": {},
     "output_type": "display_data"
    },
    {
     "name": "stdout",
     "output_type": "stream",
     "text": [
      "\n",
      "Epoch #95\tTrain Loss: 256.385\n",
      "Total testing loss is: 96.65640258789062\n"
     ]
    },
    {
     "data": {
      "application/vnd.jupyter.widget-view+json": {
       "model_id": "bedb5affe668402c84c0b5e51d815a74",
       "version_major": 2,
       "version_minor": 0
      },
      "text/plain": [
       "HBox(children=(IntProgress(value=0, description='Progress:', max=2, style=ProgressStyle(description_width='ini…"
      ]
     },
     "metadata": {},
     "output_type": "display_data"
    },
    {
     "name": "stdout",
     "output_type": "stream",
     "text": [
      "\n",
      "Epoch #96\tTrain Loss: 214.647\n",
      "Total testing loss is: 113.67732238769531\n"
     ]
    },
    {
     "data": {
      "application/vnd.jupyter.widget-view+json": {
       "model_id": "b6269189ec19451e81786eb56d178c69",
       "version_major": 2,
       "version_minor": 0
      },
      "text/plain": [
       "HBox(children=(IntProgress(value=0, description='Progress:', max=2, style=ProgressStyle(description_width='ini…"
      ]
     },
     "metadata": {},
     "output_type": "display_data"
    },
    {
     "name": "stdout",
     "output_type": "stream",
     "text": [
      "\n",
      "Epoch #97\tTrain Loss: 203.254\n",
      "Total testing loss is: 128.62783813476562\n"
     ]
    },
    {
     "data": {
      "application/vnd.jupyter.widget-view+json": {
       "model_id": "f2db56a820724efa9385273f73575dca",
       "version_major": 2,
       "version_minor": 0
      },
      "text/plain": [
       "HBox(children=(IntProgress(value=0, description='Progress:', max=2, style=ProgressStyle(description_width='ini…"
      ]
     },
     "metadata": {},
     "output_type": "display_data"
    },
    {
     "name": "stdout",
     "output_type": "stream",
     "text": [
      "\n",
      "Epoch #98\tTrain Loss: 254.411\n",
      "Total testing loss is: 125.54566192626953\n"
     ]
    },
    {
     "data": {
      "application/vnd.jupyter.widget-view+json": {
       "model_id": "849fa8ef705040a7a382b92680804412",
       "version_major": 2,
       "version_minor": 0
      },
      "text/plain": [
       "HBox(children=(IntProgress(value=0, description='Progress:', max=2, style=ProgressStyle(description_width='ini…"
      ]
     },
     "metadata": {},
     "output_type": "display_data"
    },
    {
     "name": "stdout",
     "output_type": "stream",
     "text": [
      "\n",
      "Epoch #99\tTrain Loss: 214.894\n",
      "Total testing loss is: 107.69532775878906\n"
     ]
    },
    {
     "data": {
      "application/vnd.jupyter.widget-view+json": {
       "model_id": "a088dbf1f2e34a8489dedd404bdc6b98",
       "version_major": 2,
       "version_minor": 0
      },
      "text/plain": [
       "HBox(children=(IntProgress(value=0, description='Progress:', max=2, style=ProgressStyle(description_width='ini…"
      ]
     },
     "metadata": {},
     "output_type": "display_data"
    },
    {
     "name": "stdout",
     "output_type": "stream",
     "text": [
      "\n",
      "Epoch #100\tTrain Loss: 190.226\n",
      "Total testing loss is: 100.14764404296875\n"
     ]
    }
   ],
   "source": [
    "#empty list to hold loss per epoch\n",
    "train_epoch_losses = []\n",
    "pce_train_epoch_losses = []\n",
    "voc_train_epoch_losses = []\n",
    "jsc_train_epoch_losses = []\n",
    "ff_train_epoch_losses = []\n",
    "\n",
    "test_epoch_losses = []\n",
    "pce_test_epoch_losses = []\n",
    "voc_test_epoch_losses = []\n",
    "jsc_test_epoch_losses = []\n",
    "ff_test_epoch_losses = []\n",
    "\n",
    "for epoch in range(num_epochs):\n",
    "    \n",
    "    train_epoch_loss, pce_train_epoch_loss, voc_train_epoch_loss, jsc_train_epoch_loss, ff_train_epoch_loss = train_model(model = model,\n",
    "                                                                                                                          training_data_set = training_data_set,\n",
    "                                                                                                                          criterion = criterion,\n",
    "                                                                                                                          optimizer = optimizer)\n",
    "    train_epoch_losses.append(train_epoch_loss)\n",
    "    pce_train_epoch_losses.append(pce_train_epoch_loss)\n",
    "    voc_train_epoch_losses.append(voc_train_epoch_loss)\n",
    "    jsc_train_epoch_losses.append(jsc_train_epoch_loss)\n",
    "    ff_train_epoch_losses.append(ff_train_epoch_loss)\n",
    "    \n",
    "    test_epoch_loss, pce_test_epoch_loss, voc_test_epoch_loss, jsc_test_epoch_loss, ff_test_epoch_loss = eval_model(model = model,\n",
    "                                                                                                                    testing_data_set = testing_data_set,\n",
    "                                                                                                                    criterion = criterion,\n",
    "                                                                                                                    optimizer = optimizer)\n",
    "    test_epoch_losses.append(test_epoch_loss)\n",
    "    pce_test_epoch_losses.append(pce_test_epoch_loss)\n",
    "    voc_test_epoch_losses.append(voc_test_epoch_loss)\n",
    "    jsc_test_epoch_losses.append(jsc_test_epoch_loss)\n",
    "    ff_test_epoch_losses.append(ff_test_epoch_loss)"
   ]
  },
  {
   "cell_type": "code",
   "execution_count": 77,
   "metadata": {},
   "outputs": [
    {
     "data": {
      "image/png": "[encoded data removed]",
      "text/plain": [
       "<Figure size 576x432 with 1 Axes>"
      ]
     },
     "metadata": {
      "needs_background": "light"
     },
     "output_type": "display_data"
    }
   ],
   "source": [
    "fig, ax = plt.subplots(figsize = (8,6))\n",
    "\n",
    "epochs = np.arange(1, (num_epochs+1), 1)\n",
    "\n",
    "plt.plot(epochs, train_epoch_losses, c = 'k', label = 'training error')\n",
    "plt.plot(epochs, test_epoch_losses, c = 'r', label = 'testing error')\n",
    "plt.legend(loc = 'upper right')\n",
    "plt.title(\"Total Training & Testing Error\")\n",
    "plt.show()"
   ]
  },
  {
   "cell_type": "code",
   "execution_count": 80,
   "metadata": {},
   "outputs": [
    {
     "data": {
      "image/png": "[encoded data removed]",
      "text/plain": [
       "<Figure size 576x432 with 1 Axes>"
      ]
     },
     "metadata": {
      "needs_background": "light"
     },
     "output_type": "display_data"
    }
   ],
   "source": [
    "fig, ax = plt.subplots(figsize = (8,6))\n",
    "\n",
    "epochs = np.arange(1, (num_epochs+1), 1)\n",
    "\n",
    "plt.plot(epochs, pce_train_epoch_losses, c = 'k', label = 'pce training')\n",
    "plt.plot(epochs, pce_test_epoch_losses, '-.', c = 'k', label = 'pce testing')\n",
    "\n",
    "plt.plot(epochs, voc_train_epoch_losses, c = 'r', label = 'voc training')\n",
    "plt.plot(epochs, voc_test_epoch_losses, '-.', c = 'r', label = 'voc testing')\n",
    "\n",
    "plt.plot(epochs, jsc_train_epoch_losses, c = 'g', label = 'jsc training')\n",
    "plt.plot(epochs, jsc_test_epoch_losses, '-.', c = 'g', label = 'jsc testing') #This error is second worst\n",
    "\n",
    "plt.plot(epochs, ff_train_epoch_losses, c = 'b', label = 'ff training') \n",
    "plt.plot(epochs, ff_test_epoch_losses, '-.', c = 'b', label = 'ff testing') #This error is by far the worst\n",
    "\n",
    "plt.legend(loc = 'upper right')\n",
    "plt.title(\"Branch Training & Testing Error\")\n",
    "plt.show()"
   ]
  },
  {
   "cell_type": "code",
   "execution_count": null,
   "metadata": {},
   "outputs": [],
   "source": []
  }
 ],
 "metadata": {
  "kernelspec": {
   "display_name": "Python 3",
   "language": "python",
   "name": "python3"
  },
  "language_info": {
   "codemirror_mode": {
    "name": "ipython",
    "version": 3
   },
   "file_extension": ".py",
   "mimetype": "text/x-python",
   "name": "python",
   "nbconvert_exporter": "python",
   "pygments_lexer": "ipython3",
   "version": "3.7.4"
  }
 },
 "nbformat": 4,
 "nbformat_minor": 4
}
