{
 "cells": [
  {
   "cell_type": "code",
   "execution_count": 1,
   "metadata": {},
   "outputs": [],
   "source": [
    "import pandas as pd\n",
    "import numpy as np\n",
    "import matplotlib.pyplot as plt\n",
    "%matplotlib inline\n",
    "\n",
    "from sklearn.model_selection import train_test_split\n",
    "\n",
    "import torch\n",
    "import torch.nn as nn\n",
    "import torch.nn.functional as F\n",
    "\n",
    "from tqdm import tqdm, tqdm_notebook\n",
    "\n",
    "import sys\n",
    "\n",
    "sys.path.append('./')\n",
    "import PhysicallyInformedLossFunctions as PhysLoss"
   ]
  },
  {
   "cell_type": "markdown",
   "metadata": {},
   "source": [
    "# This notebook seeks to use all OPV processing conditions and morphological descriptors to predict device performance. \n",
    "\n",
    "## There will be 3 Neural Networks outlined, each with similar architecture, but varying inputs. This first NN will only use processing conditions to try to predict performance\n",
    "\n",
    "### Inputs:\n",
    "- DataFrame containing device processing conditions and their subsequent performance. \n",
    "\n",
    "*_Note:_* This DataFrame will only contain devices with reasonable performance values.\n",
    "\n",
    "### Outputs:\n",
    "- Tensor of predicted performance for given processing conditions"
   ]
  },
  {
   "cell_type": "code",
   "execution_count": 2,
   "metadata": {},
   "outputs": [
    {
     "name": "stdout",
     "output_type": "stream",
     "text": [
      "(366, 11)\n"
     ]
    },
    {
     "data": {
      "text/html": [
       "<div>\n",
       "<style scoped>\n",
       "    .dataframe tbody tr th:only-of-type {\n",
       "        vertical-align: middle;\n",
       "    }\n",
       "\n",
       "    .dataframe tbody tr th {\n",
       "        vertical-align: top;\n",
       "    }\n",
       "\n",
       "    .dataframe thead th {\n",
       "        text-align: right;\n",
       "    }\n",
       "</style>\n",
       "<table border=\"1\" class=\"dataframe\">\n",
       "  <thead>\n",
       "    <tr style=\"text-align: right;\">\n",
       "      <th></th>\n",
       "      <th>Unnamed: 0</th>\n",
       "      <th>Unnamed: 0.1</th>\n",
       "      <th>File Name</th>\n",
       "      <th>Time (min)</th>\n",
       "      <th>Device</th>\n",
       "      <th>Temp (C)</th>\n",
       "      <th>PCE</th>\n",
       "      <th>VocL</th>\n",
       "      <th>Jsc</th>\n",
       "      <th>FF</th>\n",
       "      <th>Substrate</th>\n",
       "    </tr>\n",
       "  </thead>\n",
       "  <tbody>\n",
       "    <tr>\n",
       "      <td>0</td>\n",
       "      <td>0</td>\n",
       "      <td>291</td>\n",
       "      <td>2019_4_16_P3HTPCBM_NA_3000_SUB1</td>\n",
       "      <td>0</td>\n",
       "      <td>5</td>\n",
       "      <td>0</td>\n",
       "      <td>0.053196</td>\n",
       "      <td>0.088773</td>\n",
       "      <td>2.319470</td>\n",
       "      <td>25.835041</td>\n",
       "      <td>1</td>\n",
       "    </tr>\n",
       "    <tr>\n",
       "      <td>1</td>\n",
       "      <td>1</td>\n",
       "      <td>283</td>\n",
       "      <td>2019_4_16_P3HTPCBM_NA_1000_SUB7</td>\n",
       "      <td>0</td>\n",
       "      <td>5</td>\n",
       "      <td>0</td>\n",
       "      <td>0.323514</td>\n",
       "      <td>0.706579</td>\n",
       "      <td>2.021489</td>\n",
       "      <td>22.649638</td>\n",
       "      <td>7</td>\n",
       "    </tr>\n",
       "    <tr>\n",
       "      <td>2</td>\n",
       "      <td>2</td>\n",
       "      <td>284</td>\n",
       "      <td>2019_4_16_P3HTPCBM_NA_1000_SUB7</td>\n",
       "      <td>0</td>\n",
       "      <td>6</td>\n",
       "      <td>0</td>\n",
       "      <td>0.620043</td>\n",
       "      <td>0.665916</td>\n",
       "      <td>1.867738</td>\n",
       "      <td>49.852415</td>\n",
       "      <td>7</td>\n",
       "    </tr>\n",
       "    <tr>\n",
       "      <td>3</td>\n",
       "      <td>3</td>\n",
       "      <td>280</td>\n",
       "      <td>2019_4_16_P3HTPCBM_NA_1000_SUB7</td>\n",
       "      <td>0</td>\n",
       "      <td>2</td>\n",
       "      <td>0</td>\n",
       "      <td>0.628255</td>\n",
       "      <td>0.654254</td>\n",
       "      <td>1.915640</td>\n",
       "      <td>50.127434</td>\n",
       "      <td>7</td>\n",
       "    </tr>\n",
       "    <tr>\n",
       "      <td>4</td>\n",
       "      <td>4</td>\n",
       "      <td>287</td>\n",
       "      <td>2019_4_16_P3HTPCBM_NA_3000_SUB1</td>\n",
       "      <td>0</td>\n",
       "      <td>1</td>\n",
       "      <td>0</td>\n",
       "      <td>0.637683</td>\n",
       "      <td>0.662407</td>\n",
       "      <td>2.204954</td>\n",
       "      <td>43.659713</td>\n",
       "      <td>1</td>\n",
       "    </tr>\n",
       "  </tbody>\n",
       "</table>\n",
       "</div>"
      ],
      "text/plain": [
       "   Unnamed: 0  Unnamed: 0.1                        File Name  Time (min)  \\\n",
       "0           0           291  2019_4_16_P3HTPCBM_NA_3000_SUB1           0   \n",
       "1           1           283  2019_4_16_P3HTPCBM_NA_1000_SUB7           0   \n",
       "2           2           284  2019_4_16_P3HTPCBM_NA_1000_SUB7           0   \n",
       "3           3           280  2019_4_16_P3HTPCBM_NA_1000_SUB7           0   \n",
       "4           4           287  2019_4_16_P3HTPCBM_NA_3000_SUB1           0   \n",
       "\n",
       "   Device  Temp (C)       PCE      VocL       Jsc         FF  Substrate  \n",
       "0       5         0  0.053196  0.088773  2.319470  25.835041          1  \n",
       "1       5         0  0.323514  0.706579  2.021489  22.649638          7  \n",
       "2       6         0  0.620043  0.665916  1.867738  49.852415          7  \n",
       "3       2         0  0.628255  0.654254  1.915640  50.127434          7  \n",
       "4       1         0  0.637683  0.662407  2.204954  43.659713          1  "
      ]
     },
     "execution_count": 2,
     "metadata": {},
     "output_type": "execute_result"
    }
   ],
   "source": [
    "#Take in data as a dataframe for easy preprocessing\n",
    "device_df = pd.read_excel('/Users/wesleytatum/Desktop/OPV_device_df.xlsx')\n",
    "print (device_df.shape)\n",
    "device_df.head()"
   ]
  },
  {
   "cell_type": "code",
   "execution_count": 23,
   "metadata": {},
   "outputs": [],
   "source": [
    "# Hyper parameters\n",
    "num_epochs = 15\n",
    "batch_size = int(len(device_df['PCE'])*0.8*0.9) # 90% of x_train samples\n",
    "learning_rate = 0.001\n",
    "\n",
    "# Device configuration (GPU if available, otherwise CPU)\n",
    "device = torch.device('cuda:0' if torch.cuda.is_available() else 'cpu')"
   ]
  },
  {
   "cell_type": "code",
   "execution_count": 24,
   "metadata": {},
   "outputs": [],
   "source": [
    "X = device_df[['Time (min)', 'Temp (C)']] #input features used to make prediction\n",
    "Y = device_df[['PCE', 'VocL', 'Jsc', 'FF']] #target features to be predicted\n",
    "\n",
    "x_train, x_test, y_train, y_test = train_test_split(X,Y, test_size = 0.2, shuffle = True) #split dataset into separate testing and training datasets\n",
    "\n",
    "pce_train = y_train['PCE']\n",
    "pce_test = y_test['PCE']\n",
    "voc_train = y_train['VocL']\n",
    "voc_test = y_test['VocL']\n",
    "jsc_train = y_train['Jsc']\n",
    "jsc_test = y_test['Jsc']\n",
    "ff_train = y_train['FF']\n",
    "ff_test = y_test['FF']\n",
    "\n",
    "x_train_tensor = torch.tensor(x_train.values.astype(np.float32)) #convert pd.DataFrame -> np.ndarray -> torch.tensor\n",
    "pce_train_tensor = torch.tensor(pce_train.values.astype(np.float32))\n",
    "voc_train_tensor = torch.tensor(voc_train.values.astype(np.float32))\n",
    "jsc_train_tensor = torch.tensor(jsc_train.values.astype(np.float32))\n",
    "ff_train_tensor = torch.tensor(ff_train.values.astype(np.float32))\n",
    "\n",
    "#create tensor with features and targets\n",
    "train_tensor = torch.utils.data.TensorDataset(x_train_tensor, pce_train_tensor, voc_train_tensor, jsc_train_tensor, ff_train_tensor)\n",
    "#create iterable dataset with batches\n",
    "training_data_set = torch.utils.data.DataLoader(dataset = train_tensor, batch_size = batch_size, shuffle = True)\n",
    "\n",
    "x_test_tensor = torch.tensor(x_test.values.astype(np.float32))\n",
    "pce_test_tensor = torch.tensor(pce_test.values.astype(np.float32))\n",
    "voc_test_tensor = torch.tensor(voc_test.values.astype(np.float32))\n",
    "jsc_test_tensor = torch.tensor(jsc_test.values.astype(np.float32))\n",
    "ff_test_tensor = torch.tensor(ff_test.values.astype(np.float32))\n",
    "\n",
    "test_tensor = torch.utils.data.TensorDataset(x_test_tensor, pce_test_tensor, voc_test_tensor, jsc_test_tensor, ff_test_tensor)\n",
    "testing_data_set = torch.utils.data.DataLoader(dataset = test_tensor, batch_size = batch_size, shuffle = True)"
   ]
  },
  {
   "cell_type": "code",
   "execution_count": 25,
   "metadata": {},
   "outputs": [],
   "source": [
    "#define the neural network\n",
    "class NN1(nn.Module):\n",
    "    \n",
    "    def __init__(self, in_dims, out_dims):\n",
    "        super(NN1, self).__init__()\n",
    "        \n",
    "        #emedding layer\n",
    "        self.em_layer = nn.Linear(in_dims, out_dims)\n",
    "        \n",
    "        #hidden layers\n",
    "        self.h_layer1 = nn.Linear(out_dims, 32)\n",
    "        self.h_layer2 = nn.Linear(32, 16)\n",
    "        self.h_layer3 = nn.Linear(16, 8)\n",
    "        \n",
    "        #output layers\n",
    "        self.PCE_branch = nn.Sequential(\n",
    "            nn.Dropout(p = 0.3),\n",
    "            nn.Linear(8, 32),\n",
    "            nn.Linear(32, 64),\n",
    "            nn.Linear(64, 16),\n",
    "            nn.Dropout(p = 0.3),\n",
    "            nn.Softplus(),\n",
    "            nn.Linear(16, 1)\n",
    "        )\n",
    "        self.Voc_branch = nn.Sequential(\n",
    "            nn.Dropout(p = 0.3),\n",
    "            nn.Linear(8, 32),\n",
    "            nn.Linear(32, 64),\n",
    "            nn.Linear(64, 16),\n",
    "            nn.Dropout(p = 0.3),\n",
    "            nn.Softplus(),\n",
    "            nn.Linear(16, 1)\n",
    "        )\n",
    "        self.Jsc_branch = nn.Sequential(\n",
    "            nn.Dropout(p = 0.3),\n",
    "            nn.Linear(8, 32),\n",
    "            nn.Linear(32, 64),\n",
    "            nn.Linear(64, 16),\n",
    "            nn.Dropout(p = 0.3),\n",
    "            nn.Softplus(),\n",
    "            nn.Linear(16, 1)\n",
    "        )\n",
    "        self.FF_branch = nn.Sequential(\n",
    "            nn.Dropout(p = 0.3),\n",
    "            nn.Linear(8, 32),\n",
    "            nn.Linear(32, 64),\n",
    "            nn.Linear(64, 16),\n",
    "            nn.Dropout(p = 0.3),\n",
    "            nn.Softplus(),\n",
    "            nn.Linear(16, 1)\n",
    "        )\n",
    "        \n",
    "    def forward(self, x):\n",
    "        #data enters embedding layer\n",
    "        out = self.em_layer(x)\n",
    "        \n",
    "        #embedded data is passed to hidden layers\n",
    "        out = self.h_layer1(out)\n",
    "        out = self.h_layer2(out)\n",
    "        out = self.h_layer3(out)\n",
    "        \n",
    "        #embedded data is passed to output layer\n",
    "        PCE_out = self.PCE_branch(out)\n",
    "        Voc_out = self.Voc_branch(out)\n",
    "        Jsc_out = self.Jsc_branch(out)\n",
    "        FF_out = self.FF_branch(out)\n",
    "        \n",
    "        return PCE_out, Voc_out, Jsc_out, FF_out"
   ]
  },
  {
   "cell_type": "code",
   "execution_count": 26,
   "metadata": {},
   "outputs": [],
   "source": [
    "def train_model(model, training_data_set, optimizer):\n",
    "    train_epoch_loss = []\n",
    "    pce_train_epoch_loss = []\n",
    "    voc_train_epoch_loss = []\n",
    "    jsc_train_epoch_loss = []\n",
    "    ff_train_epoch_loss = []\n",
    "    \n",
    "    train_losses = []\n",
    "    pce_train_losses = []\n",
    "    voc_train_losses = []\n",
    "    jsc_train_losses = []\n",
    "    ff_train_losses = []\n",
    "    \n",
    "    train_total = 0\n",
    "    \n",
    "    #switch model to training mode\n",
    "    model.train()\n",
    "    \n",
    "    pce_criterion = PhysLoss.ThresholdedMSELoss(lower = 0, upper = 6)\n",
    "    voc_criterion = PhysLoss.ThresholdedMSELoss(lower = 0, upper = 1)\n",
    "    jsc_criterion = PhysLoss.ThresholdedMSELoss(lower = 0, upper = 10)\n",
    "    ff_criterion = PhysLoss.ThresholdedMSELoss(lower = 10, upper = 85)\n",
    "    \n",
    "    #wrapper to create progress bar & results for each epoch's training\n",
    "    progress = tqdm_notebook(training_data_set, desc = 'Progress:', leave = True)\n",
    "    \n",
    "    for train_data, pce_labels, voc_labels, jsc_labels, ff_labels in progress:\n",
    "        \n",
    "        train_data = train_data.to(device)\n",
    "        pce_labels = pce_labels.to(device)\n",
    "        voc_labels = voc_labels.to(device)\n",
    "        jsc_labels = jsc_labels.to(device)\n",
    "        ff_labels = ff_labels.to(device)\n",
    "        \n",
    "        model.zero_grad() #zero out any gradients from prior loops \n",
    "        PCE_out, Voc_out, Jsc_out, FF_out = model(train_data) #gather model predictions for this loop\n",
    "        \n",
    "        #calculate error in the predictions\n",
    "        pce_loss = pce_criterion(predictions = PCE_out, labels = pce_labels)\n",
    "        voc_loss = voc_criterion(Voc_out, voc_labels)\n",
    "        jsc_loss = jsc_criterion(Jsc_out, jsc_labels)\n",
    "        ff_loss = ff_criterion(FF_out, ff_labels)\n",
    "        \n",
    "        total_loss = pce_loss + voc_loss + jsc_loss + ff_loss\n",
    "        \n",
    "        #BACKPROPOGATE LIKE A MF\n",
    "        torch.autograd.backward([pce_loss, voc_loss, jsc_loss, ff_loss])\n",
    "        optimizer.step()\n",
    "        \n",
    "        #send results to progress bar and save loss for this batch\n",
    "        progress.set_description(f'Loss: {total_loss.item()}:.3f')\n",
    "        train_losses.append(total_loss.item())\n",
    "        train_total+=1\n",
    "        \n",
    "        pce_train_losses.append(pce_loss.item())\n",
    "        voc_train_losses.append(pce_loss.item())\n",
    "        jsc_train_losses.append(pce_loss.item())\n",
    "        ff_train_losses.append(pce_loss.item())\n",
    "        \n",
    "    #calculate and save total error for this epoch of training\n",
    "    epoch_loss = sum(train_losses)/train_total\n",
    "    train_epoch_loss.append(epoch_loss)\n",
    "    \n",
    "    pce_train_epoch_loss.append(sum(pce_train_losses)/train_total)\n",
    "    voc_train_epoch_loss.append(sum(voc_train_losses)/train_total)\n",
    "    jsc_train_epoch_loss.append(sum(jsc_train_losses)/train_total)\n",
    "    ff_train_epoch_loss.append(sum(ff_train_losses)/train_total)\n",
    "    \n",
    "    #update progress bar\n",
    "    tqdm.write(f'Epoch #{epoch + 1}\\tTrain Loss: {epoch_loss:.3f}')\n",
    "    \n",
    "    return train_epoch_loss, pce_train_epoch_loss, voc_train_epoch_loss, jsc_train_epoch_loss, ff_train_epoch_loss"
   ]
  },
  {
   "cell_type": "code",
   "execution_count": 27,
   "metadata": {},
   "outputs": [],
   "source": [
    "def eval_model(model, testing_data_set, optimizer):\n",
    "    #evaluate the model\n",
    "    model.eval()\n",
    "    \n",
    "    pce_criterion = PhysLoss.ThresholdedMSELoss(lower = 0, upper = 6)\n",
    "    voc_criterion = PhysLoss.ThresholdedMSELoss(lower = 0, upper = 1)\n",
    "    jsc_criterion = PhysLoss.ThresholdedMSELoss(lower = 0, upper = 10)\n",
    "    ff_criterion = PhysLoss.ThresholdedMSELoss(lower = 10, upper = 85)\n",
    "\n",
    "    #don't update nodes during evaluation b/c not training\n",
    "    with torch.no_grad():\n",
    "#         correct = 0\n",
    "        test_losses = []\n",
    "        pce_test_losses = []\n",
    "        voc_test_losses = []\n",
    "        jsc_test_losses = []\n",
    "        ff_test_losses = []\n",
    "    \n",
    "        test_total = 0\n",
    "\n",
    "        for inputs, pce_labels, voc_labels, jsc_labels, ff_labels in testing_data_set:\n",
    "            inputs = inputs.to(device)\n",
    "            pce_labels = pce_labels.to(device)\n",
    "            voc_labels = voc_labels.to(device)\n",
    "            jsc_labels = jsc_labels.to(device)\n",
    "            ff_labels = ff_labels.to(device)\n",
    "\n",
    "            PCE_out, Voc_out, Jsc_out, FF_out = model(inputs)\n",
    "\n",
    "    \n",
    "            # calculate loss per batch of testing data\n",
    "            pce_test_loss = pce_criterion(PCE_out, pce_labels)\n",
    "            voc_test_loss = voc_criterion(Voc_out, voc_labels)\n",
    "            jsc_test_loss = jsc_criterion(Jsc_out, jsc_labels)\n",
    "            ff_test_loss = ff_criterion(FF_out, ff_labels)\n",
    "            \n",
    "            test_loss = pce_test_loss + voc_test_loss + jsc_test_loss + ff_test_loss\n",
    "            \n",
    "            test_losses.append(test_loss.item())\n",
    "            pce_test_losses.append(pce_test_loss.item())\n",
    "            voc_test_losses.append(voc_test_loss.item())\n",
    "            jsc_test_losses.append(jsc_test_loss.item())\n",
    "            ff_test_losses.append(ff_test_loss.item())\n",
    "            test_total += 1 \n",
    "            \n",
    "#             print (f\"Test Loss: {test_loss}\")\n",
    "\n",
    "#             print (test_total)\n",
    "    #         correct += (predicted == labels).sum().item()\n",
    "\n",
    "    #     print ('Model accuracy is: ', ((correct/total)*100), '%')\n",
    "\n",
    "        test_epoch_loss = sum(test_losses)/test_total\n",
    "        pce_test_epoch_loss = sum(pce_test_losses)/test_total\n",
    "        voc_test_epoch_loss = sum(voc_test_losses)/test_total\n",
    "        jsc_test_epoch_loss = sum(jsc_test_losses)/test_total\n",
    "        ff_test_epoch_loss = sum(ff_test_losses)/test_total\n",
    "\n",
    "        print(f\"Total testing loss is: {test_epoch_loss}\")\n",
    "    return test_epoch_loss, pce_test_epoch_loss, voc_test_epoch_loss, jsc_test_epoch_loss, ff_test_epoch_loss"
   ]
  },
  {
   "cell_type": "markdown",
   "metadata": {},
   "source": [
    "Now that the data, model, training, and evaluating are all set up, let's actually use everything"
   ]
  },
  {
   "cell_type": "code",
   "execution_count": 28,
   "metadata": {},
   "outputs": [],
   "source": [
    "# Instantiate our beautiful NN model\n",
    "# takes in 2 features (anneal time, anneal temp) \n",
    "# predicts 4 metrics (PCE, Voc, Jsc, FF)\n",
    "model = NN1(in_dims = 2, out_dims = 4).to(device)\n",
    "\n",
    "#define the optimizer\n",
    "optimizer = torch.optim.Adam(params = model.parameters(), lr = learning_rate)"
   ]
  },
  {
   "cell_type": "code",
   "execution_count": 29,
   "metadata": {
    "scrolled": true
   },
   "outputs": [
    {
     "data": {
      "application/vnd.jupyter.widget-view+json": {
       "model_id": "b80786b35f1147018b24c2a4bcae1517",
       "version_major": 2,
       "version_minor": 0
      },
      "text/plain": [
       "HBox(children=(IntProgress(value=0, description='Progress:', max=2, style=ProgressStyle(description_width='ini…"
      ]
     },
     "metadata": {},
     "output_type": "display_data"
    },
    {
     "name": "stdout",
     "output_type": "stream",
     "text": [
      "\n",
      "Epoch #1\tTrain Loss: 94.520\n",
      "Total testing loss is: 67.20777130126953\n"
     ]
    },
    {
     "data": {
      "application/vnd.jupyter.widget-view+json": {
       "model_id": "79cc4701e639472990731829ad6ecd18",
       "version_major": 2,
       "version_minor": 0
      },
      "text/plain": [
       "HBox(children=(IntProgress(value=0, description='Progress:', max=2, style=ProgressStyle(description_width='ini…"
      ]
     },
     "metadata": {},
     "output_type": "display_data"
    },
    {
     "name": "stdout",
     "output_type": "stream",
     "text": [
      "\n",
      "Epoch #2\tTrain Loss: 88.625\n",
      "Total testing loss is: 7.272464275360107\n"
     ]
    },
    {
     "data": {
      "application/vnd.jupyter.widget-view+json": {
       "model_id": "c5ff196ec3b04fe88873ef6275e9cacc",
       "version_major": 2,
       "version_minor": 0
      },
      "text/plain": [
       "HBox(children=(IntProgress(value=0, description='Progress:', max=2, style=ProgressStyle(description_width='ini…"
      ]
     },
     "metadata": {},
     "output_type": "display_data"
    },
    {
     "name": "stdout",
     "output_type": "stream",
     "text": [
      "\n",
      "Epoch #3\tTrain Loss: 46.567\n",
      "Total testing loss is: 32.861812591552734\n"
     ]
    },
    {
     "data": {
      "application/vnd.jupyter.widget-view+json": {
       "model_id": "dd4699730e02434f9087ce68b9ab68ae",
       "version_major": 2,
       "version_minor": 0
      },
      "text/plain": [
       "HBox(children=(IntProgress(value=0, description='Progress:', max=2, style=ProgressStyle(description_width='ini…"
      ]
     },
     "metadata": {},
     "output_type": "display_data"
    },
    {
     "name": "stdout",
     "output_type": "stream",
     "text": [
      "\n",
      "Epoch #4\tTrain Loss: 74.977\n",
      "Total testing loss is: 45.4080924987793\n"
     ]
    },
    {
     "data": {
      "application/vnd.jupyter.widget-view+json": {
       "model_id": "6dc34555b31c45a5a9842a7c948448d1",
       "version_major": 2,
       "version_minor": 0
      },
      "text/plain": [
       "HBox(children=(IntProgress(value=0, description='Progress:', max=2, style=ProgressStyle(description_width='ini…"
      ]
     },
     "metadata": {},
     "output_type": "display_data"
    },
    {
     "name": "stdout",
     "output_type": "stream",
     "text": [
      "\n",
      "Epoch #5\tTrain Loss: 40.807\n",
      "Total testing loss is: 60.13554763793945\n"
     ]
    },
    {
     "data": {
      "application/vnd.jupyter.widget-view+json": {
       "model_id": "cab2e3b79c5841398d43dae747741f9e",
       "version_major": 2,
       "version_minor": 0
      },
      "text/plain": [
       "HBox(children=(IntProgress(value=0, description='Progress:', max=2, style=ProgressStyle(description_width='ini…"
      ]
     },
     "metadata": {},
     "output_type": "display_data"
    },
    {
     "name": "stdout",
     "output_type": "stream",
     "text": [
      "\n",
      "Epoch #6\tTrain Loss: 59.693\n",
      "Total testing loss is: 61.68775177001953\n"
     ]
    },
    {
     "data": {
      "application/vnd.jupyter.widget-view+json": {
       "model_id": "179faef3f73c446bb6a7d5cd9172166a",
       "version_major": 2,
       "version_minor": 0
      },
      "text/plain": [
       "HBox(children=(IntProgress(value=0, description='Progress:', max=2, style=ProgressStyle(description_width='ini…"
      ]
     },
     "metadata": {},
     "output_type": "display_data"
    },
    {
     "name": "stdout",
     "output_type": "stream",
     "text": [
      "\n",
      "Epoch #7\tTrain Loss: 83.111\n",
      "Total testing loss is: 63.296939849853516\n"
     ]
    },
    {
     "data": {
      "application/vnd.jupyter.widget-view+json": {
       "model_id": "576856a82435454d8b4260bfcca3e924",
       "version_major": 2,
       "version_minor": 0
      },
      "text/plain": [
       "HBox(children=(IntProgress(value=0, description='Progress:', max=2, style=ProgressStyle(description_width='ini…"
      ]
     },
     "metadata": {},
     "output_type": "display_data"
    },
    {
     "name": "stdout",
     "output_type": "stream",
     "text": [
      "\n",
      "Epoch #8\tTrain Loss: 80.124\n",
      "Total testing loss is: 53.8942985534668\n"
     ]
    },
    {
     "data": {
      "application/vnd.jupyter.widget-view+json": {
       "model_id": "32ce5101a2164c64a157a70ff2b17e35",
       "version_major": 2,
       "version_minor": 0
      },
      "text/plain": [
       "HBox(children=(IntProgress(value=0, description='Progress:', max=2, style=ProgressStyle(description_width='ini…"
      ]
     },
     "metadata": {},
     "output_type": "display_data"
    },
    {
     "name": "stdout",
     "output_type": "stream",
     "text": [
      "\n",
      "Epoch #9\tTrain Loss: 74.809\n",
      "Total testing loss is: 42.486366271972656\n"
     ]
    },
    {
     "data": {
      "application/vnd.jupyter.widget-view+json": {
       "model_id": "7424cbe382c14e7399dde1e92396bc61",
       "version_major": 2,
       "version_minor": 0
      },
      "text/plain": [
       "HBox(children=(IntProgress(value=0, description='Progress:', max=2, style=ProgressStyle(description_width='ini…"
      ]
     },
     "metadata": {},
     "output_type": "display_data"
    },
    {
     "name": "stdout",
     "output_type": "stream",
     "text": [
      "\n",
      "Epoch #10\tTrain Loss: 57.099\n",
      "Total testing loss is: 48.71713638305664\n"
     ]
    },
    {
     "data": {
      "application/vnd.jupyter.widget-view+json": {
       "model_id": "ae220b7f5ee346749968c392508124dd",
       "version_major": 2,
       "version_minor": 0
      },
      "text/plain": [
       "HBox(children=(IntProgress(value=0, description='Progress:', max=2, style=ProgressStyle(description_width='ini…"
      ]
     },
     "metadata": {},
     "output_type": "display_data"
    },
    {
     "name": "stdout",
     "output_type": "stream",
     "text": [
      "\n",
      "Epoch #11\tTrain Loss: 82.091\n",
      "Total testing loss is: 54.48576354980469\n"
     ]
    },
    {
     "data": {
      "application/vnd.jupyter.widget-view+json": {
       "model_id": "ecc5c871281f4efb9737d90d8bdbaf13",
       "version_major": 2,
       "version_minor": 0
      },
      "text/plain": [
       "HBox(children=(IntProgress(value=0, description='Progress:', max=2, style=ProgressStyle(description_width='ini…"
      ]
     },
     "metadata": {},
     "output_type": "display_data"
    },
    {
     "name": "stdout",
     "output_type": "stream",
     "text": [
      "\n",
      "Epoch #12\tTrain Loss: 42.614\n",
      "Total testing loss is: 50.28800582885742\n"
     ]
    },
    {
     "data": {
      "application/vnd.jupyter.widget-view+json": {
       "model_id": "d750ddc9a25146c5a8e97832b826caef",
       "version_major": 2,
       "version_minor": 0
      },
      "text/plain": [
       "HBox(children=(IntProgress(value=0, description='Progress:', max=2, style=ProgressStyle(description_width='ini…"
      ]
     },
     "metadata": {},
     "output_type": "display_data"
    },
    {
     "name": "stdout",
     "output_type": "stream",
     "text": [
      "\n",
      "Epoch #13\tTrain Loss: 61.963\n",
      "Total testing loss is: 52.18843078613281\n"
     ]
    },
    {
     "data": {
      "application/vnd.jupyter.widget-view+json": {
       "model_id": "82ea1e8fe2ed42a9aae59b845f188546",
       "version_major": 2,
       "version_minor": 0
      },
      "text/plain": [
       "HBox(children=(IntProgress(value=0, description='Progress:', max=2, style=ProgressStyle(description_width='ini…"
      ]
     },
     "metadata": {},
     "output_type": "display_data"
    },
    {
     "name": "stdout",
     "output_type": "stream",
     "text": [
      "\n",
      "Epoch #14\tTrain Loss: 74.322\n",
      "Total testing loss is: 46.1551513671875\n"
     ]
    },
    {
     "data": {
      "application/vnd.jupyter.widget-view+json": {
       "model_id": "f3d81937c1a44c659ebcbcad40164b13",
       "version_major": 2,
       "version_minor": 0
      },
      "text/plain": [
       "HBox(children=(IntProgress(value=0, description='Progress:', max=2, style=ProgressStyle(description_width='ini…"
      ]
     },
     "metadata": {},
     "output_type": "display_data"
    },
    {
     "name": "stdout",
     "output_type": "stream",
     "text": [
      "\n",
      "Epoch #15\tTrain Loss: 71.520\n",
      "Total testing loss is: 44.19752502441406\n"
     ]
    }
   ],
   "source": [
    "#empty list to hold loss per epoch\n",
    "train_epoch_losses = []\n",
    "pce_train_epoch_losses = []\n",
    "voc_train_epoch_losses = []\n",
    "jsc_train_epoch_losses = []\n",
    "ff_train_epoch_losses = []\n",
    "\n",
    "test_epoch_losses = []\n",
    "pce_test_epoch_losses = []\n",
    "voc_test_epoch_losses = []\n",
    "jsc_test_epoch_losses = []\n",
    "ff_test_epoch_losses = []\n",
    "\n",
    "for epoch in range(num_epochs):\n",
    "    \n",
    "    train_epoch_loss, pce_train_epoch_loss, voc_train_epoch_loss, jsc_train_epoch_loss, ff_train_epoch_loss = train_model(model = model,\n",
    "                                                                                                                          training_data_set = training_data_set,\n",
    "                                                                                                                          optimizer = optimizer)\n",
    "    train_epoch_losses.append(train_epoch_loss)\n",
    "    pce_train_epoch_losses.append(pce_train_epoch_loss)\n",
    "    voc_train_epoch_losses.append(voc_train_epoch_loss)\n",
    "    jsc_train_epoch_losses.append(jsc_train_epoch_loss)\n",
    "    ff_train_epoch_losses.append(ff_train_epoch_loss)\n",
    "    \n",
    "    test_epoch_loss, pce_test_epoch_loss, voc_test_epoch_loss, jsc_test_epoch_loss, ff_test_epoch_loss = eval_model(model = model,\n",
    "                                                                                                                    testing_data_set = testing_data_set,\n",
    "                                                                                                                    optimizer = optimizer)\n",
    "    test_epoch_losses.append(test_epoch_loss)\n",
    "    pce_test_epoch_losses.append(pce_test_epoch_loss)\n",
    "    voc_test_epoch_losses.append(voc_test_epoch_loss)\n",
    "    jsc_test_epoch_losses.append(jsc_test_epoch_loss)\n",
    "    ff_test_epoch_losses.append(ff_test_epoch_loss)"
   ]
  },
  {
   "cell_type": "code",
   "execution_count": 30,
   "metadata": {},
   "outputs": [
    {
     "data": {
      "image/png": "[encoded data removed]",
      "text/plain": [
       "<Figure size 576x432 with 1 Axes>"
      ]
     },
     "metadata": {
      "needs_background": "light"
     },
     "output_type": "display_data"
    }
   ],
   "source": [
    "fig, ax = plt.subplots(figsize = (8,6))\n",
    "\n",
    "epochs = np.arange(1, (num_epochs+1), 1)\n",
    "\n",
    "plt.plot(epochs, train_epoch_losses, c = 'k', label = 'training error')\n",
    "plt.plot(epochs, test_epoch_losses, c = 'r', label = 'testing error')\n",
    "plt.legend(loc = 'upper right')\n",
    "plt.title(\"Total Training & Testing Error\")\n",
    "ax.set_xlabel('Epoch')\n",
    "ax.set_ylabel('Total MSE Loss')\n",
    "plt.show()"
   ]
  },
  {
   "cell_type": "code",
   "execution_count": 32,
   "metadata": {},
   "outputs": [
    {
     "data": {
      "image/png": "[encoded data removed]",
      "text/plain": [
       "<Figure size 576x432 with 1 Axes>"
      ]
     },
     "metadata": {
      "needs_background": "light"
     },
     "output_type": "display_data"
    }
   ],
   "source": [
    "fig, ax = plt.subplots(figsize = (8,6))\n",
    "\n",
    "epochs = np.arange(1, (num_epochs+1), 1)\n",
    "\n",
    "plt.plot(epochs, pce_train_epoch_losses, c = 'k', label = 'pce training')\n",
    "plt.plot(epochs, pce_test_epoch_losses, '-.', c = 'k', label = 'pce testing')\n",
    "\n",
    "plt.plot(epochs, voc_train_epoch_losses, c = 'r', label = 'voc training')\n",
    "plt.plot(epochs, voc_test_epoch_losses, '-.', c = 'r', label = 'voc testing')\n",
    "\n",
    "plt.plot(epochs, jsc_train_epoch_losses, c = 'g', label = 'jsc training')\n",
    "plt.plot(epochs, jsc_test_epoch_losses, '-.', c = 'g', label = 'jsc testing') #This error is second worst\n",
    "\n",
    "plt.plot(epochs, ff_train_epoch_losses, c = 'b', label = 'ff training') \n",
    "# plt.plot(epochs, ff_test_epoch_losses, '-.', c = 'b', label = 'ff testing') #This error is by far the worst\n",
    "\n",
    "plt.legend(loc = 'upper right')\n",
    "plt.title(\"Branch Training & Testing Error\")\n",
    "ax.set_xlabel('epoch')\n",
    "ax.set_ylabel('MSE')\n",
    "plt.show()"
   ]
  },
  {
   "cell_type": "code",
   "execution_count": null,
   "metadata": {},
   "outputs": [],
   "source": []
  },
  {
   "cell_type": "code",
   "execution_count": null,
   "metadata": {},
   "outputs": [],
   "source": []
  }
 ],
 "metadata": {
  "kernelspec": {
   "display_name": "Python 3",
   "language": "python",
   "name": "python3"
  },
  "language_info": {
   "codemirror_mode": {
    "name": "ipython",
    "version": 3
   },
   "file_extension": ".py",
   "mimetype": "text/x-python",
   "name": "python",
   "nbconvert_exporter": "python",
   "pygments_lexer": "ipython3",
   "version": "3.7.4"
  }
 },
 "nbformat": 4,
 "nbformat_minor": 4
}
