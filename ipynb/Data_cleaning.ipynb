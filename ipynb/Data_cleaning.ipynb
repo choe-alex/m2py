{
 "cells": [
  {
   "cell_type": "code",
   "execution_count": 1,
   "metadata": {},
   "outputs": [
    {
     "name": "stderr",
     "output_type": "stream",
     "text": [
      "/Users/wesleytatum/miniconda3/lib/python3.6/site-packages/pycroscopy/__init__.py:31: FutureWarning: Contents of pycroscopy.core such as hdf_utils, plot_utils have been moved to pyUSID but will continue to be available implicitly till the next release. Please update import statements to import such modules directly frompyUSID. See - https://pycroscopy.github.io/pycroscopy/whats_new.html under June 28 2018\n",
      "  'pyUSID. See - https://pycroscopy.github.io/pycroscopy/whats_new.html under June 28 2018', FutureWarning)\n"
     ]
    }
   ],
   "source": [
    "import os\n",
    "\n",
    "from methods import main_methods as mm\n",
    "import pyUSID_helpers as puh\n",
    "\n",
    "import pyUSID as pu\n",
    "import pycroscopy as px\n",
    "\n",
    "import numpy as np\n",
    "import matplotlib.pyplot as plt\n",
    "%matplotlib inline"
   ]
  },
  {
   "cell_type": "code",
   "execution_count": 2,
   "metadata": {},
   "outputs": [],
   "source": [
    "qnm_fields = ['Adhesion', 'Deformation', 'Dissipation', 'Height', 'Modulus', 'Stiffness']\n",
    "amfm_fields = ['Height', 'Indentaiton', 'Modulus', 'Phase']\n",
    "cafm_fields = ['Current', 'Height']"
   ]
  },
  {
   "cell_type": "code",
   "execution_count": 18,
   "metadata": {},
   "outputs": [],
   "source": [
    "qnm_in_path = '/Users/wesleytatum/Desktop/Grad School/Research/DIRECT_AFM/QNM/backgrounded'\n",
    "qnm_out_path = '/Users/wesleytatum/Desktop/Grad School/Research/DIRECT_AFM/QNM/combined_npy/'\n",
    "amfm_in_path = '/Users/wesleytatum/Desktop/Grad School/Research/DIRECT_AFM/AMFM/backgrounded'\n",
    "amfm_out_path = '/Users/wesleytatum/Desktop/Grad School/Research/DIRECT_AFM/AMFM/combined_npy/'\n",
    "cafm_in_path = '/Users/wesleytatum/Desktop/Grad School/Research/DIRECT_AFM/cAFM/backgrounded'\n",
    "cafm_out_path = '/Users/wesleytatum/Desktop/Grad School/Research/DIRECT_AFM/cAFM/combined_npy/'"
   ]
  },
  {
   "cell_type": "code",
   "execution_count": 4,
   "metadata": {},
   "outputs": [],
   "source": [
    "qnm_files = mm.get_all_paths(qnm_in_path)\n",
    "amfm_files = mm.get_all_paths(amfm_in_path)\n",
    "cafm_files = mm.get_all_paths(cafm_in_path)"
   ]
  },
  {
   "cell_type": "code",
   "execution_count": 5,
   "metadata": {},
   "outputs": [],
   "source": [
    "p1_qnm = np.zeros((512,512,6))\n",
    "p1_qnm_90 = np.zeros((512,512,6))\n",
    "p2_qnm = np.zeros((512,512,6))\n",
    "p2_qnm_90 = np.zeros((512,512,6))\n",
    "p3_qnm = np.zeros((512,512,6))\n",
    "p3_qnm_90 = np.zeros((512,512,6))"
   ]
  },
  {
   "cell_type": "code",
   "execution_count": 6,
   "metadata": {},
   "outputs": [],
   "source": [
    "p1_amfm = np.zeros((512,512,4))\n",
    "p1_amfm_90 = np.zeros((512,512,4))\n",
    "p2_amfm = np.zeros((512,512,4))\n",
    "p2_amfm_90 = np.zeros((512,512,4))\n",
    "p3_amfm = np.zeros((512,512,4))\n",
    "p3_amfm_90 = np.zeros((512,512,4))"
   ]
  },
  {
   "cell_type": "code",
   "execution_count": 7,
   "metadata": {},
   "outputs": [],
   "source": [
    "p1_cafm = np.zeros((512,512,2))\n",
    "p1_cafm_90 = np.zeros((512,512,2))\n",
    "p2_cafm = np.zeros((512,512,2))\n",
    "p2_cafm_90 = np.zeros((512,512,2))\n",
    "p3_cafm = np.zeros((512,512,2))\n",
    "p3_cafm_90 = np.zeros((512,512,2))"
   ]
  },
  {
   "cell_type": "code",
   "execution_count": 8,
   "metadata": {},
   "outputs": [],
   "source": [
    "p1_qnm_fls = []\n",
    "p1_qnm_90_fls = []\n",
    "p2_qnm_fls = []\n",
    "p2_qnm_90_fls = []\n",
    "p3_qnm_fls = []\n",
    "p3_qnm_90_fls = []\n",
    "\n",
    "p1_amfm_fls = []\n",
    "p1_amfm_90_fls = []\n",
    "p2_amfm_fls = []\n",
    "p2_amfm_90_fls = []\n",
    "p3_amfm_fls = []\n",
    "p3_amfm_90_fls = []\n",
    "\n",
    "p1_cafm_fls = []\n",
    "p1_cafm_90_fls = []\n",
    "p2_cafm_fls = []\n",
    "p2_cafm_90_fls = []\n",
    "p3_cafm_fls = []\n",
    "p3_cafm_90_fls = []"
   ]
  },
  {
   "cell_type": "code",
   "execution_count": 9,
   "metadata": {},
   "outputs": [],
   "source": [
    "for fl in qnm_files:\n",
    "    if fl[76:83] == 'WT2-107':\n",
    "        if fl[-6:-4] == '90':\n",
    "            p1_qnm_90_fls.append(fl)\n",
    "        else:\n",
    "            p1_qnm_fls.append(fl)\n",
    "            \n",
    "    elif fl[76:82] == 'WT2-97':\n",
    "        if fl[-6:-4] == '90':\n",
    "            p2_qnm_90_fls.append(fl)\n",
    "        else:\n",
    "            p2_qnm_fls.append(fl)\n",
    "    \n",
    "    else:\n",
    "        if fl[-6:-4] == '90':\n",
    "            p3_qnm_90_fls.append(fl)\n",
    "        else:\n",
    "            p3_qnm_fls.append(fl)"
   ]
  },
  {
   "cell_type": "code",
   "execution_count": 10,
   "metadata": {},
   "outputs": [],
   "source": [
    "for fl in amfm_files:\n",
    "    if fl[77:84] == 'WT2-107':\n",
    "        if fl[-6:-4] == '90':\n",
    "            p1_amfm_90_fls.append(fl)\n",
    "        else:\n",
    "            p1_amfm_fls.append(fl)\n",
    "            \n",
    "    elif fl[77:83] == 'WT2-97':\n",
    "        if fl[-6:-4] == '90':\n",
    "            p2_amfm_90_fls.append(fl)\n",
    "        else:\n",
    "            p2_amfm_fls.append(fl)\n",
    "    \n",
    "    else:\n",
    "        if fl[-6:-4] == '90':\n",
    "            p3_amfm_90_fls.append(fl)\n",
    "        else:\n",
    "            p3_amfm_fls.append(fl)"
   ]
  },
  {
   "cell_type": "code",
   "execution_count": 11,
   "metadata": {},
   "outputs": [],
   "source": [
    "for fl in cafm_files:\n",
    "    if fl[77:84] == 'WT2-107':\n",
    "        if fl[-6:-4] == '90':\n",
    "            p1_cafm_90_fls.append(fl)\n",
    "        else:\n",
    "            p1_cafm_fls.append(fl)\n",
    "            \n",
    "    elif fl[77:83] == 'WT2-97':\n",
    "        if fl[-6:-4] == '90':\n",
    "            p2_cafm_90_fls.append(fl)\n",
    "        else:\n",
    "            p2_cafm_fls.append(fl)\n",
    "    \n",
    "    else:\n",
    "        if fl[-6:-4] == '90':\n",
    "            p3_cafm_90_fls.append(fl)\n",
    "        else:\n",
    "            p3_cafm_fls.append(fl)"
   ]
  },
  {
   "cell_type": "code",
   "execution_count": 12,
   "metadata": {},
   "outputs": [],
   "source": [
    "p1_qnm_fls.sort()\n",
    "p1_qnm_90_fls.sort()\n",
    "p2_qnm_fls.sort()\n",
    "p2_qnm_90_fls.sort()\n",
    "p3_qnm_fls.sort()\n",
    "p3_qnm_90_fls.sort()\n",
    "\n",
    "p1_amfm_fls.sort()\n",
    "p1_amfm_90_fls.sort()\n",
    "p2_amfm_fls.sort()\n",
    "p2_amfm_90_fls.sort()\n",
    "p3_amfm_fls.sort()\n",
    "p3_amfm_90_fls.sort()\n",
    "\n",
    "p1_cafm_fls.sort()\n",
    "p1_cafm_90_fls.sort()\n",
    "p2_cafm_fls.sort()\n",
    "p2_cafm_90_fls.sort()\n",
    "p3_cafm_fls.sort()\n",
    "p3_cafm_90_fls.sort()"
   ]
  },
  {
   "cell_type": "code",
   "execution_count": 13,
   "metadata": {},
   "outputs": [],
   "source": [
    "for i in range(len(p1_qnm_fls)):\n",
    "    layer = np.genfromtxt(p1_qnm_fls[i])\n",
    "    p1_qnm[:,:,i] = layer\n",
    "\n",
    "for i in range(len(p1_qnm_fls)):\n",
    "    layer = np.genfromtxt(p1_qnm_90_fls[i])\n",
    "    p1_qnm_90[:,:,i] = layer\n",
    "    \n",
    "for i in range(len(p1_qnm_fls)):\n",
    "    layer = np.genfromtxt(p2_qnm_fls[i])\n",
    "    p2_qnm[:,:,i] = layer\n",
    "    \n",
    "for i in range(len(p1_qnm_fls)):\n",
    "    layer = np.genfromtxt(p2_qnm_90_fls[i])\n",
    "    p2_qnm_90[:,:,i] = layer\n",
    "    \n",
    "for i in range(len(p1_qnm_fls)):\n",
    "    layer = np.genfromtxt(p3_qnm_fls[i])\n",
    "    p3_qnm[:,:,i] = layer\n",
    "    \n",
    "for i in range(len(p1_qnm_fls)):\n",
    "    layer = np.genfromtxt(p3_qnm_90_fls[i])\n",
    "    p3_qnm_90[:,:,i] = layer"
   ]
  },
  {
   "cell_type": "code",
   "execution_count": 14,
   "metadata": {},
   "outputs": [],
   "source": [
    "for i in range(len(p1_amfm_fls)):\n",
    "    layer = np.genfromtxt(p1_amfm_fls[i])\n",
    "    p1_amfm[:,:,i] = layer\n",
    "    \n",
    "for i in range(len(p1_amfm_fls)):\n",
    "    layer = np.genfromtxt(p1_amfm_90_fls[i])\n",
    "    p1_amfm_90[:,:,i] = layer\n",
    "    \n",
    "for i in range(len(p1_amfm_fls)):\n",
    "    layer = np.genfromtxt(p2_amfm_fls[i])\n",
    "    p2_amfm[:,:,i] = layer\n",
    "    \n",
    "for i in range(len(p1_amfm_fls)):\n",
    "    layer = np.genfromtxt(p2_amfm_90_fls[i])\n",
    "    p2_amfm_90[:,:,i] = layer\n",
    "    \n",
    "for i in range(len(p1_amfm_fls)):\n",
    "    layer = np.genfromtxt(p3_amfm_fls[i])\n",
    "    p3_amfm[:,:,i] = layer\n",
    "    \n",
    "for i in range(len(p1_amfm_fls)):\n",
    "    layer = np.genfromtxt(p3_amfm_90_fls[i])\n",
    "    p3_amfm_90[:,:,i] = layer"
   ]
  },
  {
   "cell_type": "code",
   "execution_count": 15,
   "metadata": {},
   "outputs": [],
   "source": [
    "for i in range(len(p1_cafm_fls)):\n",
    "    layer = np.genfromtxt(p1_cafm_fls[i])\n",
    "    p1_cafm[:,:,i] = layer\n",
    "    \n",
    "for i in range(len(p1_cafm_fls)):\n",
    "    layer = np.genfromtxt(p1_cafm_90_fls[i])\n",
    "    p1_cafm_90[:,:,i] = layer\n",
    "    \n",
    "for i in range(len(p1_cafm_fls)):\n",
    "    layer = np.genfromtxt(p2_cafm_fls[i])\n",
    "    p2_cafm[:,:,i] = layer\n",
    "    \n",
    "for i in range(len(p1_cafm_fls)):\n",
    "    layer = np.genfromtxt(p2_cafm_90_fls[i])\n",
    "    p2_cafm_90[:,:,i] = layer\n",
    "    \n",
    "for i in range(len(p1_cafm_fls)):\n",
    "    layer = np.genfromtxt(p3_cafm_fls[i])\n",
    "    p3_cafm[:,:,i] = layer\n",
    "    \n",
    "for i in range(len(p1_cafm_fls)):\n",
    "    layer = np.genfromtxt(p3_cafm_90_fls[i])\n",
    "    p3_cafm_90[:,:,i] = layer"
   ]
  },
  {
   "cell_type": "code",
   "execution_count": 20,
   "metadata": {},
   "outputs": [],
   "source": [
    "np.save(qnm_out_path+\"WT2-107_qnm\", p1_qnm)\n",
    "np.save(qnm_out_path+\"WT2-107_qnm_90\", p1_qnm_90)\n",
    "np.save(qnm_out_path+\"WT2-97_qnm\", p2_qnm)\n",
    "np.save(qnm_out_path+\"WT2-97_qnm_90\", p2_qnm_90)\n",
    "np.save(qnm_out_path+\"Rieke_qnm\", p3_qnm)\n",
    "np.save(qnm_out_path+\"Rieke_qnm_90\", p3_qnm_90)\n",
    "\n",
    "np.save(amfm_out_path+\"WT2-107_amfm\", p1_amfm)\n",
    "np.save(amfm_out_path+\"WT2-107_amfm_90\", p1_amfm_90)\n",
    "np.save(amfm_out_path+\"WT2-97_amfm\", p2_amfm)\n",
    "np.save(amfm_out_path+\"WT2-97_amfm_90\", p2_amfm_90)\n",
    "np.save(amfm_out_path+\"Rieke_amfm\", p3_amfm)\n",
    "np.save(amfm_out_path+\"Rieke_amfm_90\", p3_amfm_90)\n",
    "\n",
    "np.save(cafm_out_path+\"WT2-107_cafm\", p1_cafm)\n",
    "np.save(cafm_out_path+\"WT2-107_cafm_90\", p1_cafm_90)\n",
    "np.save(cafm_out_path+\"WT2-97_cafm\", p2_cafm)\n",
    "np.save(cafm_out_path+\"WT2-97_cafm_90\", p2_cafm_90)\n",
    "np.save(cafm_out_path+\"Rieke_cafm\", p3_cafm)\n",
    "np.save(cafm_out_path+\"Rieke_cafm_90\", p3_cafm_90)"
   ]
  },
  {
   "cell_type": "code",
   "execution_count": null,
   "metadata": {},
   "outputs": [],
   "source": []
  },
  {
   "cell_type": "code",
   "execution_count": null,
   "metadata": {},
   "outputs": [],
   "source": []
  }
 ],
 "metadata": {
  "kernelspec": {
   "display_name": "Python 3",
   "language": "python",
   "name": "python3"
  },
  "language_info": {
   "codemirror_mode": {
    "name": "ipython",
    "version": 3
   },
   "file_extension": ".py",
   "mimetype": "text/x-python",
   "name": "python",
   "nbconvert_exporter": "python",
   "pygments_lexer": "ipython3",
   "version": "3.7.3"
  }
 },
 "nbformat": 4,
 "nbformat_minor": 4
}
