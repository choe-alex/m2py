{
 "cells": [
  {
   "cell_type": "markdown",
   "metadata": {},
   "source": [
    "The calculations of loss during the training of networks can use weighting to reinforce the learning of specific variables and features in data. In order to reinforce physically reasonable predictions, you can impose more strict penalties for predictions in physically invalid predictions. For example, a prediction of Power Conversion Efficiency (PCE) above the Schockley-Quassier predicted maximum PCE could increase exponentially, rather than linearly.\n",
    "\n",
    "The classes developed below are wrappers for PyTorch tensors loss functions, which additionally modify these classes using theoretically and emprically derived boundaries for network loss calculations."
   ]
  },
  {
   "cell_type": "code",
   "execution_count": 1,
   "metadata": {},
   "outputs": [],
   "source": [
    "import pandas as pd\n",
    "import numpy as np\n",
    "import matplotlib.pyplot as plt\n",
    "%matplotlib inline\n",
    "\n",
    "from sklearn.model_selection import train_test_split\n",
    "\n",
    "import torch\n",
    "import torch.nn as nn\n",
    "import torch.nn.functional as F\n",
    "\n",
    "from tqdm import tqdm, tqdm_notebook"
   ]
  },
  {
   "cell_type": "code",
   "execution_count": 2,
   "metadata": {},
   "outputs": [
    {
     "name": "stdout",
     "output_type": "stream",
     "text": [
      "(366, 11)\n"
     ]
    }
   ],
   "source": [
    "#Take in data as a dataframe for easy preprocessing\n",
    "device_df = pd.read_excel('/Users/wesleytatum/Desktop/OPV_device_df.xlsx')\n",
    "print (device_df.shape)\n",
    "device_df.head()\n",
    "\n",
    "# Hyper parameters\n",
    "num_epochs = 100\n",
    "batch_size = int(len(device_df['PCE'])*0.8*0.9) # 90% of x_train samples\n",
    "learning_rate = 0.0008\n",
    "\n",
    "# Device configuration (GPU if available, otherwise CPU)\n",
    "device = torch.device('cuda:0' if torch.cuda.is_available() else 'cpu')\n",
    "\n",
    "X = device_df[['Time (min)', 'Temp (C)']] #input features used to make prediction\n",
    "Y = device_df[['PCE', 'VocL', 'Jsc', 'FF']] #target features to be predicted\n",
    "\n",
    "x_train, x_test, y_train, y_test = train_test_split(X,Y, test_size = 0.2, shuffle = True) #split dataset into separate testing and training datasets\n",
    "\n",
    "pce_train = y_train['PCE']\n",
    "pce_test = y_test['PCE']\n",
    "\n",
    "\n",
    "x_train_tensor = torch.tensor(x_train.values.astype(np.float32)) #convert pd.DataFrame -> np.ndarray -> torch.tensor\n",
    "pce_train_tensor = torch.tensor(pce_train.values.astype(np.float32))\n",
    "\n",
    "\n",
    "#create tensor with features and targets\n",
    "train_tensor = torch.utils.data.TensorDataset(x_train_tensor, pce_train_tensor)\n",
    "#create iterable dataset with batches\n",
    "training_data_set = torch.utils.data.DataLoader(dataset = train_tensor, batch_size = batch_size, shuffle = True)\n",
    "\n",
    "x_test_tensor = torch.tensor(x_test.values.astype(np.float32))\n",
    "pce_test_tensor = torch.tensor(pce_test.values.astype(np.float32))\n",
    "\n",
    "\n",
    "test_tensor = torch.utils.data.TensorDataset(x_test_tensor, pce_test_tensor)\n",
    "testing_data_set = torch.utils.data.DataLoader(dataset = test_tensor, batch_size = batch_size, shuffle = True)"
   ]
  },
  {
   "cell_type": "code",
   "execution_count": 3,
   "metadata": {},
   "outputs": [],
   "source": [
    "#define the neural network\n",
    "class NN1(nn.Module):\n",
    "    \n",
    "    def __init__(self, in_dims, out_dims):\n",
    "        super(NN1, self).__init__()\n",
    "        \n",
    "        #emedding layer\n",
    "        self.em_layer = nn.Linear(in_dims, out_dims)\n",
    "        \n",
    "        #hidden layers\n",
    "        self.h_layer1 = nn.Linear(out_dims, 32)\n",
    "        self.h_layer2 = nn.Linear(32, 16)\n",
    "        self.h_layer3 = nn.Linear(16, 8)\n",
    "        \n",
    "        #output layers\n",
    "        self.PCE_branch = nn.Sequential(\n",
    "            nn.Dropout(p = 0.3),\n",
    "            nn.Linear(8, 32),\n",
    "            nn.Linear(32, 64),\n",
    "            nn.Linear(64, 16),\n",
    "            nn.Dropout(p = 0.3),\n",
    "            nn.Softplus(),\n",
    "            nn.Linear(16, 1)\n",
    "        )\n",
    "        \n",
    "    def forward(self, x):\n",
    "        #data enters embedding layer\n",
    "        out = self.em_layer(x)\n",
    "        \n",
    "        #embedded data is passed to hidden layers\n",
    "        out = self.h_layer1(out)\n",
    "        out = self.h_layer2(out)\n",
    "        out = self.h_layer3(out)\n",
    "        \n",
    "        #embedded data is passed to output layer\n",
    "        out = self.PCE_branch(out)\n",
    "        \n",
    "        return out"
   ]
  },
  {
   "cell_type": "code",
   "execution_count": 47,
   "metadata": {},
   "outputs": [],
   "source": [
    "def train_model(model, training_data_set, criterion, optimizer):\n",
    "    train_epoch_loss = []\n",
    "    train_losses = []\n",
    "    \n",
    "    train_total = 0\n",
    "    \n",
    "    #switch model to training mode\n",
    "    model.train()\n",
    "    \n",
    "    criterion = criterion\n",
    "    \n",
    "    #wrapper to create progress bar & results for each epoch's training\n",
    "    progress = tqdm_notebook(training_data_set, desc = 'Progress:', leave = True)\n",
    "    \n",
    "    for train_data, labels in progress:\n",
    "        \n",
    "        train_data = train_data.to(device)\n",
    "        labels = labels.to(device)\n",
    "        \n",
    "        model.zero_grad() #zero out any gradients from prior loops \n",
    "        out = model(train_data) #gather model predictions for this loop\n",
    "        \n",
    "        #calculate error in the predictions\n",
    "        loss = criterion(out, labels)\n",
    "\n",
    "        #BACKPROPOGATE LIKE A MF\n",
    "        loss.backward\n",
    "        optimizer.step()\n",
    "        \n",
    "        #send results to progress bar and save loss for this batch\n",
    "        progress.set_description(f'Loss: {loss.item()}:.3f')\n",
    "        train_losses.append(loss.item())\n",
    "        train_total+=1\n",
    "\n",
    "        train_losses.append(loss.item())\n",
    "        \n",
    "    #calculate and save total error for this epoch of training\n",
    "    epoch_loss = sum(train_losses)/train_total\n",
    "    train_epoch_loss.append(epoch_loss)\n",
    "    \n",
    "    train_epoch_loss.append(sum(train_losses)/train_total)\n",
    "    \n",
    "    #update progress bar\n",
    "    tqdm.write(f'Epoch #{epoch + 1}\\tTrain Loss: {epoch_loss:.3f}')\n",
    "    \n",
    "    return train_epoch_loss"
   ]
  },
  {
   "cell_type": "code",
   "execution_count": 48,
   "metadata": {},
   "outputs": [],
   "source": [
    "def eval_model(model, testing_data_set, criterion, optimizer):\n",
    "    #evaluate the model\n",
    "    model.eval()\n",
    "    \n",
    "    criterion = criterion\n",
    "\n",
    "\n",
    "    #don't update nodes during evaluation b/c not training\n",
    "    with torch.no_grad():\n",
    "#         correct = 0\n",
    "        test_losses = []\n",
    "    \n",
    "        test_total = 0\n",
    "\n",
    "        for inputs, labels in testing_data_set:\n",
    "            \n",
    "            inputs = inputs.to(device)\n",
    "            labels = labels.to(device)\n",
    "\n",
    "            out = model(inputs)\n",
    "\n",
    "    \n",
    "            # calculate loss per batch of testing data\n",
    "            test_loss = criterion(out, labels)\n",
    "            \n",
    "            test_losses.append(test_loss.item())\n",
    "            test_total += 1 \n",
    "            \n",
    "\n",
    "        test_epoch_loss = sum(test_losses)/test_total\n",
    "\n",
    "        print(f\"Total testing loss is: {test_epoch_loss}\")\n",
    "    return test_epoch_loss"
   ]
  },
  {
   "cell_type": "code",
   "execution_count": 49,
   "metadata": {},
   "outputs": [],
   "source": [
    "class PCE_Loss(nn.Module):\n",
    "    \"\"\"\n",
    "    This class contains loss functions that use a mean-squared-error loss for reasonable predictions.\n",
    "    They inherit from torch.nn.Module just like the custom model. For physically unreasonable conditions,\n",
    "    prediction loss is more severely calculated. What qualifies as reasonable is based on empirically\n",
    "    gathered datasets and literature reported boundaries of performance in P3HT:PCBM OPV devices.\n",
    "    \n",
    "    For the following Power Conversion Efficiency predictions that are improbable, the loss is penalized:\n",
    "    - PCE < 0%\n",
    "    - PCE > 6%\n",
    "    \"\"\"\n",
    "\n",
    "    def __init__(self):\n",
    "        super(PCE_Loss, self).__init__()\n",
    "\n",
    "    @staticmethod   \n",
    "    def forward(predictions, labels):\n",
    "#     def forward(predictions, labels):\n",
    "        print (predictions.size())\n",
    "        print (labels.size())\n",
    "        \n",
    "        result_list = torch.zeros(predictions.size(0))\n",
    "        el_count = 0\n",
    "        \n",
    "        for x, y in zip(predictions, labels):\n",
    "            print (f\"{el_count+1}/{result_list.size(0)}\")\n",
    "            \n",
    "            # if (x >= 0) == 1 (True)\n",
    "            if torch.le(x, torch.tensor([0])) == torch.tensor([1]):\n",
    "                #Exponential MSE for x <= 0\n",
    "                print(f\"prediction = {x}, lower threshold violated\")\n",
    "                error = torch.add(x, torch.neg(y))\n",
    "                element_result = torch.pow(error, 2)\n",
    "                element_result = torch.pow(element_result, 2)\n",
    "\n",
    "           # if (x <= 6) == 1 (True)\n",
    "            elif torch.ge(x, torch.tensor([6])) == torch.tensor([1]):\n",
    "                #exponential MSE for x >= 6\n",
    "                print(f\"prediction = {x}, upper threshold violated\")\n",
    "                error = torch.add(x, torch.neg(y))\n",
    "                element_result = torch.pow(error, 2)\n",
    "                element_result = torch.pow(element_result, 2)\n",
    "\n",
    "                # all other values of x\n",
    "            else:\n",
    "                print(f\"prediction = {x}\")\n",
    "                error = torch.add(x, torch.neg(y))\n",
    "                element_result = torch.pow(error, 2)\n",
    "                \n",
    "            result_list[el_count] = element_result\n",
    "            el_count+=1\n",
    "\n",
    "            result = result_list.mean()\n",
    "\n",
    "            return result"
   ]
  },
  {
   "cell_type": "code",
   "execution_count": 50,
   "metadata": {},
   "outputs": [],
   "source": [
    "# Instantiate our beautiful NN model\n",
    "# takes in 2 features (anneal time, anneal temp) \n",
    "# predicts 4 metrics (PCE, Voc, Jsc, FF)\n",
    "model = NN1(in_dims = 2, out_dims = 4).to(device)\n",
    "\n",
    "#define the loss function and the optimizer\n",
    "criterion = PCE_Loss()\n",
    "optimizer = torch.optim.Adam(params = model.parameters(), lr = learning_rate)"
   ]
  },
  {
   "cell_type": "code",
   "execution_count": 52,
   "metadata": {},
   "outputs": [
    {
     "name": "stdout",
     "output_type": "stream",
     "text": [
      "TEST\n",
      "TEST1\n"
     ]
    },
    {
     "data": {
      "application/vnd.jupyter.widget-view+json": {
       "model_id": "57f90a284eb64826ac9f4cfaa3373841",
       "version_major": 2,
       "version_minor": 0
      },
      "text/plain": [
       "HBox(children=(IntProgress(value=0, description='Progress:', max=2, style=ProgressStyle(description_width='ini…"
      ]
     },
     "metadata": {},
     "output_type": "display_data"
    },
    {
     "name": "stdout",
     "output_type": "stream",
     "text": [
      "torch.Size([263, 1])\n",
      "torch.Size([263])\n",
      "1/263\n",
      "prediction = tensor([0.6578], grad_fn=<SelectBackward>)\n",
      "torch.Size([29, 1])\n",
      "torch.Size([29])\n",
      "1/29\n",
      "prediction = tensor([0.8744], grad_fn=<SelectBackward>)\n",
      "\n",
      "Epoch #1\tTrain Loss: 0.122\n",
      "torch.Size([74, 1])\n",
      "torch.Size([74])\n",
      "1/74\n",
      "prediction = tensor([0.7143])\n",
      "Total testing loss is: 0.05650336667895317\n",
      "TEST\n",
      "TEST1\n"
     ]
    },
    {
     "data": {
      "application/vnd.jupyter.widget-view+json": {
       "model_id": "fc2cb4153f654195a801240e1dc29b9b",
       "version_major": 2,
       "version_minor": 0
      },
      "text/plain": [
       "HBox(children=(IntProgress(value=0, description='Progress:', max=2, style=ProgressStyle(description_width='ini…"
      ]
     },
     "metadata": {},
     "output_type": "display_data"
    },
    {
     "name": "stdout",
     "output_type": "stream",
     "text": [
      "torch.Size([263, 1])\n",
      "torch.Size([263])\n",
      "1/263\n",
      "prediction = tensor([1.2718], grad_fn=<SelectBackward>)\n",
      "torch.Size([29, 1])\n",
      "torch.Size([29])\n",
      "1/29\n",
      "prediction = tensor([1.2715], grad_fn=<SelectBackward>)\n",
      "\n",
      "Epoch #2\tTrain Loss: 0.022\n",
      "torch.Size([74, 1])\n",
      "torch.Size([74])\n",
      "1/74\n",
      "prediction = tensor([0.8713])\n",
      "Total testing loss is: 0.0005327144172042608\n",
      "TEST\n",
      "TEST1\n"
     ]
    },
    {
     "data": {
      "application/vnd.jupyter.widget-view+json": {
       "model_id": "7fd4f98f96f649a8b34866cd90669b5e",
       "version_major": 2,
       "version_minor": 0
      },
      "text/plain": [
       "HBox(children=(IntProgress(value=0, description='Progress:', max=2, style=ProgressStyle(description_width='ini…"
      ]
     },
     "metadata": {},
     "output_type": "display_data"
    },
    {
     "name": "stdout",
     "output_type": "stream",
     "text": [
      "torch.Size([263, 1])\n",
      "torch.Size([263])\n",
      "1/263\n",
      "prediction = tensor([0.7855], grad_fn=<SelectBackward>)\n",
      "torch.Size([29, 1])\n",
      "torch.Size([29])\n",
      "1/29\n",
      "prediction = tensor([0.8378], grad_fn=<SelectBackward>)\n",
      "\n",
      "Epoch #3\tTrain Loss: 0.133\n",
      "torch.Size([74, 1])\n",
      "torch.Size([74])\n",
      "1/74\n",
      "prediction = tensor([0.8720])\n",
      "Total testing loss is: 0.03688045218586922\n",
      "TEST\n",
      "TEST1\n"
     ]
    },
    {
     "data": {
      "application/vnd.jupyter.widget-view+json": {
       "model_id": "dd607bba06504247ad523e823d9b429a",
       "version_major": 2,
       "version_minor": 0
      },
      "text/plain": [
       "HBox(children=(IntProgress(value=0, description='Progress:', max=2, style=ProgressStyle(description_width='ini…"
      ]
     },
     "metadata": {},
     "output_type": "display_data"
    },
    {
     "name": "stdout",
     "output_type": "stream",
     "text": [
      "torch.Size([263, 1])\n",
      "torch.Size([263])\n",
      "1/263\n",
      "prediction = tensor([1.1910], grad_fn=<SelectBackward>)\n",
      "torch.Size([29, 1])\n",
      "torch.Size([29])\n",
      "1/29\n",
      "prediction = tensor([0.6557], grad_fn=<SelectBackward>)\n",
      "\n",
      "Epoch #4\tTrain Loss: 0.139\n",
      "torch.Size([74, 1])\n",
      "torch.Size([74])\n",
      "1/74\n",
      "prediction = tensor([0.8713])\n",
      "Total testing loss is: 0.0022651241160929203\n",
      "TEST\n",
      "TEST1\n"
     ]
    },
    {
     "data": {
      "application/vnd.jupyter.widget-view+json": {
       "model_id": "3d20b89eda7f4ba29ab6d04a9ff3ffdc",
       "version_major": 2,
       "version_minor": 0
      },
      "text/plain": [
       "HBox(children=(IntProgress(value=0, description='Progress:', max=2, style=ProgressStyle(description_width='ini…"
      ]
     },
     "metadata": {},
     "output_type": "display_data"
    },
    {
     "name": "stdout",
     "output_type": "stream",
     "text": [
      "torch.Size([263, 1])\n",
      "torch.Size([263])\n",
      "1/263\n",
      "prediction = tensor([0.7886], grad_fn=<SelectBackward>)\n",
      "torch.Size([29, 1])\n",
      "torch.Size([29])\n",
      "1/29\n",
      "prediction = tensor([0.9255], grad_fn=<SelectBackward>)\n",
      "\n",
      "Epoch #5\tTrain Loss: 0.072\n",
      "torch.Size([74, 1])\n",
      "torch.Size([74])\n",
      "1/74\n",
      "prediction = tensor([0.7755])\n",
      "Total testing loss is: 0.04173268750309944\n",
      "TEST\n",
      "TEST1\n"
     ]
    },
    {
     "data": {
      "application/vnd.jupyter.widget-view+json": {
       "model_id": "3fa0ce4353a449809d38900e433f08c9",
       "version_major": 2,
       "version_minor": 0
      },
      "text/plain": [
       "HBox(children=(IntProgress(value=0, description='Progress:', max=2, style=ProgressStyle(description_width='ini…"
      ]
     },
     "metadata": {},
     "output_type": "display_data"
    },
    {
     "name": "stdout",
     "output_type": "stream",
     "text": [
      "torch.Size([263, 1])\n",
      "torch.Size([263])\n",
      "1/263\n",
      "prediction = tensor([0.8621], grad_fn=<SelectBackward>)\n",
      "torch.Size([29, 1])\n",
      "torch.Size([29])\n",
      "1/29\n",
      "prediction = tensor([0.7615], grad_fn=<SelectBackward>)\n",
      "\n",
      "Epoch #6\tTrain Loss: 0.004\n",
      "torch.Size([74, 1])\n",
      "torch.Size([74])\n",
      "1/74\n",
      "prediction = tensor([0.7150])\n",
      "Total testing loss is: 0.00010172858310397714\n",
      "TEST\n",
      "TEST1\n"
     ]
    },
    {
     "data": {
      "application/vnd.jupyter.widget-view+json": {
       "model_id": "b8bd6b6794754ce0a8e8766badc06f00",
       "version_major": 2,
       "version_minor": 0
      },
      "text/plain": [
       "HBox(children=(IntProgress(value=0, description='Progress:', max=2, style=ProgressStyle(description_width='ini…"
      ]
     },
     "metadata": {},
     "output_type": "display_data"
    },
    {
     "name": "stdout",
     "output_type": "stream",
     "text": [
      "torch.Size([263, 1])\n",
      "torch.Size([263])\n",
      "1/263\n",
      "prediction = tensor([0.7896], grad_fn=<SelectBackward>)\n",
      "torch.Size([29, 1])\n",
      "torch.Size([29])\n",
      "1/29\n",
      "prediction = tensor([0.9547], grad_fn=<SelectBackward>)\n",
      "\n",
      "Epoch #7\tTrain Loss: 0.045\n",
      "torch.Size([74, 1])\n",
      "torch.Size([74])\n",
      "1/74\n",
      "prediction = tensor([0.9407])\n",
      "Total testing loss is: 0.019672762602567673\n",
      "TEST\n",
      "TEST1\n"
     ]
    },
    {
     "data": {
      "application/vnd.jupyter.widget-view+json": {
       "model_id": "0239d6fbd7ee48ceaac2ad950c7c140d",
       "version_major": 2,
       "version_minor": 0
      },
      "text/plain": [
       "HBox(children=(IntProgress(value=0, description='Progress:', max=2, style=ProgressStyle(description_width='ini…"
      ]
     },
     "metadata": {},
     "output_type": "display_data"
    },
    {
     "name": "stdout",
     "output_type": "stream",
     "text": [
      "torch.Size([263, 1])\n",
      "torch.Size([263])\n",
      "1/263\n",
      "prediction = tensor([0.7962], grad_fn=<SelectBackward>)\n",
      "torch.Size([29, 1])\n",
      "torch.Size([29])\n",
      "1/29\n",
      "prediction = tensor([0.7287], grad_fn=<SelectBackward>)\n",
      "\n",
      "Epoch #8\tTrain Loss: 0.010\n",
      "torch.Size([74, 1])\n",
      "torch.Size([74])\n",
      "1/74\n",
      "prediction = tensor([0.8158])\n",
      "Total testing loss is: 0.0363103486597538\n",
      "TEST\n",
      "TEST1\n"
     ]
    },
    {
     "data": {
      "application/vnd.jupyter.widget-view+json": {
       "model_id": "3b85e1de30384dd0a6dddb16b12ab0d4",
       "version_major": 2,
       "version_minor": 0
      },
      "text/plain": [
       "HBox(children=(IntProgress(value=0, description='Progress:', max=2, style=ProgressStyle(description_width='ini…"
      ]
     },
     "metadata": {},
     "output_type": "display_data"
    },
    {
     "name": "stdout",
     "output_type": "stream",
     "text": [
      "torch.Size([263, 1])\n",
      "torch.Size([263])\n",
      "1/263\n",
      "prediction = tensor([0.8448], grad_fn=<SelectBackward>)\n",
      "torch.Size([29, 1])\n",
      "torch.Size([29])\n",
      "1/29\n",
      "prediction = tensor([0.7459], grad_fn=<SelectBackward>)\n",
      "\n",
      "Epoch #9\tTrain Loss: 0.002\n",
      "torch.Size([74, 1])\n",
      "torch.Size([74])\n",
      "1/74\n",
      "prediction = tensor([0.8713])\n",
      "Total testing loss is: 0.02907503955066204\n",
      "TEST\n",
      "TEST1\n"
     ]
    },
    {
     "data": {
      "application/vnd.jupyter.widget-view+json": {
       "model_id": "88d4815b26d144e1b602eef8616446f7",
       "version_major": 2,
       "version_minor": 0
      },
      "text/plain": [
       "HBox(children=(IntProgress(value=0, description='Progress:', max=2, style=ProgressStyle(description_width='ini…"
      ]
     },
     "metadata": {},
     "output_type": "display_data"
    },
    {
     "name": "stdout",
     "output_type": "stream",
     "text": [
      "torch.Size([263, 1])\n",
      "torch.Size([263])\n",
      "1/263\n",
      "prediction = tensor([0.9876], grad_fn=<SelectBackward>)\n",
      "torch.Size([29, 1])\n",
      "torch.Size([29])\n",
      "1/29\n",
      "prediction = tensor([1.1287], grad_fn=<SelectBackward>)\n",
      "\n",
      "Epoch #10\tTrain Loss: 0.105\n",
      "torch.Size([74, 1])\n",
      "torch.Size([74])\n",
      "1/74\n",
      "prediction = tensor([0.7143])\n",
      "Total testing loss is: 0.05558706447482109\n",
      "TEST\n",
      "TEST1\n"
     ]
    },
    {
     "data": {
      "application/vnd.jupyter.widget-view+json": {
       "model_id": "5d37d3d2870c43868447ceba41ff1d11",
       "version_major": 2,
       "version_minor": 0
      },
      "text/plain": [
       "HBox(children=(IntProgress(value=0, description='Progress:', max=2, style=ProgressStyle(description_width='ini…"
      ]
     },
     "metadata": {},
     "output_type": "display_data"
    },
    {
     "name": "stdout",
     "output_type": "stream",
     "text": [
      "torch.Size([263, 1])\n",
      "torch.Size([263])\n",
      "1/263\n",
      "prediction = tensor([1.0233], grad_fn=<SelectBackward>)\n",
      "torch.Size([29, 1])\n",
      "torch.Size([29])\n",
      "1/29\n",
      "prediction = tensor([0.7571], grad_fn=<SelectBackward>)\n",
      "\n",
      "Epoch #11\tTrain Loss: 0.011\n",
      "torch.Size([74, 1])\n",
      "torch.Size([74])\n",
      "1/74\n",
      "prediction = tensor([0.8720])\n",
      "Total testing loss is: 0.04445544630289078\n",
      "TEST\n",
      "TEST1\n"
     ]
    },
    {
     "data": {
      "application/vnd.jupyter.widget-view+json": {
       "model_id": "1efc8055f75341e7a5c78578bc0da4d3",
       "version_major": 2,
       "version_minor": 0
      },
      "text/plain": [
       "HBox(children=(IntProgress(value=0, description='Progress:', max=2, style=ProgressStyle(description_width='ini…"
      ]
     },
     "metadata": {},
     "output_type": "display_data"
    },
    {
     "name": "stdout",
     "output_type": "stream",
     "text": [
      "torch.Size([263, 1])\n",
      "torch.Size([263])\n",
      "1/263\n",
      "prediction = tensor([0.7807], grad_fn=<SelectBackward>)\n",
      "torch.Size([29, 1])\n",
      "torch.Size([29])\n",
      "1/29\n",
      "prediction = tensor([1.3727], grad_fn=<SelectBackward>)\n",
      "\n",
      "Epoch #12\tTrain Loss: 0.023\n",
      "torch.Size([74, 1])\n",
      "torch.Size([74])\n",
      "1/74\n",
      "prediction = tensor([0.7536])\n",
      "Total testing loss is: 0.044714365154504776\n",
      "TEST\n",
      "TEST1\n"
     ]
    },
    {
     "data": {
      "application/vnd.jupyter.widget-view+json": {
       "model_id": "8d91ff6084b640bfba43ebde8f8e4bd7",
       "version_major": 2,
       "version_minor": 0
      },
      "text/plain": [
       "HBox(children=(IntProgress(value=0, description='Progress:', max=2, style=ProgressStyle(description_width='ini…"
      ]
     },
     "metadata": {},
     "output_type": "display_data"
    },
    {
     "name": "stdout",
     "output_type": "stream",
     "text": [
      "torch.Size([263, 1])\n",
      "torch.Size([263])\n",
      "1/263\n",
      "prediction = tensor([0.7077], grad_fn=<SelectBackward>)\n",
      "torch.Size([29, 1])\n",
      "torch.Size([29])\n",
      "1/29\n",
      "prediction = tensor([0.7930], grad_fn=<SelectBackward>)\n",
      "\n",
      "Epoch #13\tTrain Loss: 0.119\n",
      "torch.Size([74, 1])\n",
      "torch.Size([74])\n",
      "1/74\n",
      "prediction = tensor([0.8713])\n",
      "Total testing loss is: 0.04951411485671997\n",
      "TEST\n",
      "TEST1\n"
     ]
    },
    {
     "data": {
      "application/vnd.jupyter.widget-view+json": {
       "model_id": "25e23308a42e414ca2a006501a515ef4",
       "version_major": 2,
       "version_minor": 0
      },
      "text/plain": [
       "HBox(children=(IntProgress(value=0, description='Progress:', max=2, style=ProgressStyle(description_width='ini…"
      ]
     },
     "metadata": {},
     "output_type": "display_data"
    },
    {
     "name": "stdout",
     "output_type": "stream",
     "text": [
      "torch.Size([263, 1])\n",
      "torch.Size([263])\n",
      "1/263\n",
      "prediction = tensor([0.5289], grad_fn=<SelectBackward>)\n",
      "torch.Size([29, 1])\n",
      "torch.Size([29])\n",
      "1/29\n",
      "prediction = tensor([0.9808], grad_fn=<SelectBackward>)\n",
      "\n",
      "Epoch #14\tTrain Loss: 0.102\n",
      "torch.Size([74, 1])\n",
      "torch.Size([74])\n",
      "1/74\n",
      "prediction = tensor([1.0057])\n",
      "Total testing loss is: 0.026239732280373573\n",
      "TEST\n",
      "TEST1\n"
     ]
    },
    {
     "data": {
      "application/vnd.jupyter.widget-view+json": {
       "model_id": "8ca81bdb3f814eb39c3b6b2f2e92829e",
       "version_major": 2,
       "version_minor": 0
      },
      "text/plain": [
       "HBox(children=(IntProgress(value=0, description='Progress:', max=2, style=ProgressStyle(description_width='ini…"
      ]
     },
     "metadata": {},
     "output_type": "display_data"
    },
    {
     "name": "stdout",
     "output_type": "stream",
     "text": [
      "torch.Size([263, 1])\n",
      "torch.Size([263])\n",
      "1/263\n",
      "prediction = tensor([1.6257], grad_fn=<SelectBackward>)\n",
      "torch.Size([29, 1])\n",
      "torch.Size([29])\n",
      "1/29\n",
      "prediction = tensor([0.2928], grad_fn=<SelectBackward>)\n",
      "\n",
      "Epoch #15\tTrain Loss: 0.146\n",
      "torch.Size([74, 1])\n",
      "torch.Size([74])\n",
      "1/74\n",
      "prediction = tensor([0.7150])\n",
      "Total testing loss is: 1.6586742503932328e-06\n",
      "TEST\n",
      "TEST1\n"
     ]
    },
    {
     "data": {
      "application/vnd.jupyter.widget-view+json": {
       "model_id": "ccddad946e6b4f2a940ae01e3ba02fea",
       "version_major": 2,
       "version_minor": 0
      },
      "text/plain": [
       "HBox(children=(IntProgress(value=0, description='Progress:', max=2, style=ProgressStyle(description_width='ini…"
      ]
     },
     "metadata": {},
     "output_type": "display_data"
    },
    {
     "name": "stdout",
     "output_type": "stream",
     "text": [
      "torch.Size([263, 1])\n",
      "torch.Size([263])\n",
      "1/263\n",
      "prediction = tensor([0.3877], grad_fn=<SelectBackward>)\n",
      "torch.Size([29, 1])\n",
      "torch.Size([29])\n",
      "1/29\n",
      "prediction = tensor([1.4029], grad_fn=<SelectBackward>)\n",
      "\n",
      "Epoch #16\tTrain Loss: 0.041\n",
      "torch.Size([74, 1])\n",
      "torch.Size([74])\n",
      "1/74\n",
      "prediction = tensor([0.8713])\n",
      "Total testing loss is: 0.012055296450853348\n",
      "TEST\n",
      "TEST1\n"
     ]
    },
    {
     "data": {
      "application/vnd.jupyter.widget-view+json": {
       "model_id": "df966b2210fa4fa0bcd9aa3a35294b1b",
       "version_major": 2,
       "version_minor": 0
      },
      "text/plain": [
       "HBox(children=(IntProgress(value=0, description='Progress:', max=2, style=ProgressStyle(description_width='ini…"
      ]
     },
     "metadata": {},
     "output_type": "display_data"
    },
    {
     "name": "stdout",
     "output_type": "stream",
     "text": [
      "torch.Size([263, 1])\n",
      "torch.Size([263])\n",
      "1/263\n",
      "prediction = tensor([0.7233], grad_fn=<SelectBackward>)\n",
      "torch.Size([29, 1])\n",
      "torch.Size([29])\n",
      "1/29\n",
      "prediction = tensor([0.9941], grad_fn=<SelectBackward>)\n",
      "\n",
      "Epoch #17\tTrain Loss: 0.070\n",
      "torch.Size([74, 1])\n",
      "torch.Size([74])\n",
      "1/74\n",
      "prediction = tensor([0.7536])\n",
      "Total testing loss is: 0.04337715357542038\n",
      "TEST\n",
      "TEST1\n"
     ]
    },
    {
     "data": {
      "application/vnd.jupyter.widget-view+json": {
       "model_id": "9a6fc55d3f2d46dba576ab7daf652fb9",
       "version_major": 2,
       "version_minor": 0
      },
      "text/plain": [
       "HBox(children=(IntProgress(value=0, description='Progress:', max=2, style=ProgressStyle(description_width='ini…"
      ]
     },
     "metadata": {},
     "output_type": "display_data"
    },
    {
     "name": "stdout",
     "output_type": "stream",
     "text": [
      "torch.Size([263, 1])\n",
      "torch.Size([263])\n",
      "1/263\n",
      "prediction = tensor([1.0254], grad_fn=<SelectBackward>)\n",
      "torch.Size([29, 1])\n",
      "torch.Size([29])\n",
      "1/29\n",
      "prediction = tensor([0.7451], grad_fn=<SelectBackward>)\n",
      "\n",
      "Epoch #18\tTrain Loss: 0.123\n",
      "torch.Size([74, 1])\n",
      "torch.Size([74])\n",
      "1/74\n",
      "prediction = tensor([1.0057])\n",
      "Total testing loss is: 0.02247963286936283\n",
      "TEST\n",
      "TEST1\n"
     ]
    },
    {
     "data": {
      "application/vnd.jupyter.widget-view+json": {
       "model_id": "bc121cb074f34f5ca874f3751b7528fb",
       "version_major": 2,
       "version_minor": 0
      },
      "text/plain": [
       "HBox(children=(IntProgress(value=0, description='Progress:', max=2, style=ProgressStyle(description_width='ini…"
      ]
     },
     "metadata": {},
     "output_type": "display_data"
    },
    {
     "name": "stdout",
     "output_type": "stream",
     "text": [
      "torch.Size([263, 1])\n",
      "torch.Size([263])\n",
      "1/263\n",
      "prediction = tensor([0.5535], grad_fn=<SelectBackward>)\n",
      "torch.Size([29, 1])\n",
      "torch.Size([29])\n",
      "1/29\n",
      "prediction = tensor([0.9678], grad_fn=<SelectBackward>)\n",
      "\n",
      "Epoch #19\tTrain Loss: 0.095\n",
      "torch.Size([74, 1])\n",
      "torch.Size([74])\n",
      "1/74\n",
      "prediction = tensor([0.9407])\n",
      "Total testing loss is: 0.014595738612115383\n",
      "TEST\n",
      "TEST1\n"
     ]
    },
    {
     "data": {
      "application/vnd.jupyter.widget-view+json": {
       "model_id": "ed9f2fd5f9f64d6f89dbe09a4d44be46",
       "version_major": 2,
       "version_minor": 0
      },
      "text/plain": [
       "HBox(children=(IntProgress(value=0, description='Progress:', max=2, style=ProgressStyle(description_width='ini…"
      ]
     },
     "metadata": {},
     "output_type": "display_data"
    },
    {
     "name": "stdout",
     "output_type": "stream",
     "text": [
      "torch.Size([263, 1])\n",
      "torch.Size([263])\n",
      "1/263\n",
      "prediction = tensor([0.7711], grad_fn=<SelectBackward>)\n",
      "torch.Size([29, 1])\n",
      "torch.Size([29])\n",
      "1/29\n",
      "prediction = tensor([1.1710], grad_fn=<SelectBackward>)\n",
      "\n",
      "Epoch #20\tTrain Loss: 0.093\n",
      "torch.Size([74, 1])\n",
      "torch.Size([74])\n",
      "1/74\n",
      "prediction = tensor([0.8158])\n",
      "Total testing loss is: 0.02977668307721615\n",
      "TEST\n",
      "TEST1\n"
     ]
    },
    {
     "data": {
      "application/vnd.jupyter.widget-view+json": {
       "model_id": "84fff098efd445aca8d543da3008d529",
       "version_major": 2,
       "version_minor": 0
      },
      "text/plain": [
       "HBox(children=(IntProgress(value=0, description='Progress:', max=2, style=ProgressStyle(description_width='ini…"
      ]
     },
     "metadata": {},
     "output_type": "display_data"
    },
    {
     "name": "stdout",
     "output_type": "stream",
     "text": [
      "torch.Size([263, 1])\n",
      "torch.Size([263])\n",
      "1/263\n",
      "prediction = tensor([0.6384], grad_fn=<SelectBackward>)\n",
      "torch.Size([29, 1])\n",
      "torch.Size([29])\n",
      "1/29\n",
      "prediction = tensor([1.0399], grad_fn=<SelectBackward>)\n",
      "\n",
      "Epoch #21\tTrain Loss: 0.021\n",
      "torch.Size([74, 1])\n",
      "torch.Size([74])\n",
      "1/74\n",
      "prediction = tensor([0.7143])\n",
      "Total testing loss is: 0.05558706447482109\n",
      "TEST\n",
      "TEST1\n"
     ]
    },
    {
     "data": {
      "application/vnd.jupyter.widget-view+json": {
       "model_id": "ead5b99f39e84d7a83097c79c3ae3c7f",
       "version_major": 2,
       "version_minor": 0
      },
      "text/plain": [
       "HBox(children=(IntProgress(value=0, description='Progress:', max=2, style=ProgressStyle(description_width='ini…"
      ]
     },
     "metadata": {},
     "output_type": "display_data"
    },
    {
     "name": "stdout",
     "output_type": "stream",
     "text": [
      "torch.Size([263, 1])\n",
      "torch.Size([263])\n",
      "1/263\n",
      "prediction = tensor([0.4044], grad_fn=<SelectBackward>)\n",
      "torch.Size([29, 1])\n",
      "torch.Size([29])\n",
      "1/29\n",
      "prediction = tensor([0.3987], grad_fn=<SelectBackward>)\n",
      "\n",
      "Epoch #22\tTrain Loss: 0.025\n",
      "torch.Size([74, 1])\n",
      "torch.Size([74])\n",
      "1/74\n",
      "prediction = tensor([0.8720])\n",
      "Total testing loss is: 0.04445544630289078\n",
      "TEST\n",
      "TEST1\n"
     ]
    },
    {
     "data": {
      "application/vnd.jupyter.widget-view+json": {
       "model_id": "ea8b7ca2668e4987817eee9a7e9f6d1a",
       "version_major": 2,
       "version_minor": 0
      },
      "text/plain": [
       "HBox(children=(IntProgress(value=0, description='Progress:', max=2, style=ProgressStyle(description_width='ini…"
      ]
     },
     "metadata": {},
     "output_type": "display_data"
    },
    {
     "name": "stdout",
     "output_type": "stream",
     "text": [
      "torch.Size([263, 1])\n",
      "torch.Size([263])\n",
      "1/263\n",
      "prediction = tensor([0.2887], grad_fn=<SelectBackward>)\n",
      "torch.Size([29, 1])\n",
      "torch.Size([29])\n",
      "1/29\n",
      "prediction = tensor([0.8262], grad_fn=<SelectBackward>)\n",
      "\n",
      "Epoch #23\tTrain Loss: 0.099\n",
      "torch.Size([74, 1])\n",
      "torch.Size([74])\n",
      "1/74\n",
      "prediction = tensor([0.8720])\n",
      "Total testing loss is: 0.037067823112010956\n",
      "TEST\n",
      "TEST1\n"
     ]
    },
    {
     "data": {
      "application/vnd.jupyter.widget-view+json": {
       "model_id": "501d01b02fb442288147abddb8873bb3",
       "version_major": 2,
       "version_minor": 0
      },
      "text/plain": [
       "HBox(children=(IntProgress(value=0, description='Progress:', max=2, style=ProgressStyle(description_width='ini…"
      ]
     },
     "metadata": {},
     "output_type": "display_data"
    },
    {
     "name": "stdout",
     "output_type": "stream",
     "text": [
      "torch.Size([263, 1])\n",
      "torch.Size([263])\n",
      "1/263\n",
      "prediction = tensor([0.8688], grad_fn=<SelectBackward>)\n",
      "torch.Size([29, 1])\n",
      "torch.Size([29])\n",
      "1/29\n",
      "prediction = tensor([0.7077], grad_fn=<SelectBackward>)\n",
      "\n",
      "Epoch #24\tTrain Loss: 0.002\n",
      "torch.Size([74, 1])\n",
      "torch.Size([74])\n",
      "1/74\n",
      "prediction = tensor([0.7536])\n",
      "Total testing loss is: 0.034805819392204285\n",
      "TEST\n",
      "TEST1\n"
     ]
    },
    {
     "data": {
      "application/vnd.jupyter.widget-view+json": {
       "model_id": "03edb820554540558af1c34518f121cb",
       "version_major": 2,
       "version_minor": 0
      },
      "text/plain": [
       "HBox(children=(IntProgress(value=0, description='Progress:', max=2, style=ProgressStyle(description_width='ini…"
      ]
     },
     "metadata": {},
     "output_type": "display_data"
    },
    {
     "name": "stdout",
     "output_type": "stream",
     "text": [
      "torch.Size([263, 1])\n",
      "torch.Size([263])\n",
      "1/263\n",
      "prediction = tensor([1.4407], grad_fn=<SelectBackward>)\n",
      "torch.Size([29, 1])\n",
      "torch.Size([29])\n",
      "1/29\n",
      "prediction = tensor([0.7232], grad_fn=<SelectBackward>)\n",
      "\n",
      "Epoch #25\tTrain Loss: 0.001\n",
      "torch.Size([74, 1])\n",
      "torch.Size([74])\n",
      "1/74\n",
      "prediction = tensor([0.9407])\n",
      "Total testing loss is: 0.017638202756643295\n",
      "TEST\n",
      "TEST1\n"
     ]
    },
    {
     "data": {
      "application/vnd.jupyter.widget-view+json": {
       "model_id": "f153669504e44745911e7264ababa241",
       "version_major": 2,
       "version_minor": 0
      },
      "text/plain": [
       "HBox(children=(IntProgress(value=0, description='Progress:', max=2, style=ProgressStyle(description_width='ini…"
      ]
     },
     "metadata": {},
     "output_type": "display_data"
    },
    {
     "name": "stdout",
     "output_type": "stream",
     "text": [
      "torch.Size([263, 1])\n",
      "torch.Size([263])\n",
      "1/263\n",
      "prediction = tensor([0.7180], grad_fn=<SelectBackward>)\n",
      "torch.Size([29, 1])\n",
      "torch.Size([29])\n",
      "1/29\n",
      "prediction = tensor([1.0620], grad_fn=<SelectBackward>)\n",
      "\n",
      "Epoch #26\tTrain Loss: 0.012\n",
      "torch.Size([74, 1])\n",
      "torch.Size([74])\n",
      "1/74\n",
      "prediction = tensor([0.8720])\n",
      "Total testing loss is: 0.040968943387269974\n",
      "TEST\n",
      "TEST1\n"
     ]
    },
    {
     "data": {
      "application/vnd.jupyter.widget-view+json": {
       "model_id": "6f6f1ca2943e40f4b7a7c09b07e3f1f2",
       "version_major": 2,
       "version_minor": 0
      },
      "text/plain": [
       "HBox(children=(IntProgress(value=0, description='Progress:', max=2, style=ProgressStyle(description_width='ini…"
      ]
     },
     "metadata": {},
     "output_type": "display_data"
    },
    {
     "name": "stdout",
     "output_type": "stream",
     "text": [
      "torch.Size([263, 1])\n",
      "torch.Size([263])\n",
      "1/263\n",
      "prediction = tensor([0.9762], grad_fn=<SelectBackward>)\n",
      "torch.Size([29, 1])\n",
      "torch.Size([29])\n",
      "1/29\n",
      "prediction = tensor([0.7611], grad_fn=<SelectBackward>)\n",
      "\n",
      "Epoch #27\tTrain Loss: 0.035\n",
      "torch.Size([74, 1])\n",
      "torch.Size([74])\n",
      "1/74\n",
      "prediction = tensor([0.8713])\n",
      "Total testing loss is: 0.0005327144172042608\n",
      "TEST\n",
      "TEST1\n"
     ]
    },
    {
     "data": {
      "application/vnd.jupyter.widget-view+json": {
       "model_id": "7b723f03cbb14c2090f0c8f7ceedba5a",
       "version_major": 2,
       "version_minor": 0
      },
      "text/plain": [
       "HBox(children=(IntProgress(value=0, description='Progress:', max=2, style=ProgressStyle(description_width='ini…"
      ]
     },
     "metadata": {},
     "output_type": "display_data"
    },
    {
     "name": "stdout",
     "output_type": "stream",
     "text": [
      "torch.Size([263, 1])\n",
      "torch.Size([263])\n",
      "1/263\n",
      "prediction = tensor([0.4918], grad_fn=<SelectBackward>)\n",
      "torch.Size([29, 1])\n",
      "torch.Size([29])\n",
      "1/29\n",
      "prediction = tensor([0.6109], grad_fn=<SelectBackward>)\n",
      "\n",
      "Epoch #28\tTrain Loss: 0.153\n",
      "torch.Size([74, 1])\n",
      "torch.Size([74])\n",
      "1/74\n",
      "prediction = tensor([0.9407])\n",
      "Total testing loss is: 0.017638202756643295\n",
      "TEST\n",
      "TEST1\n"
     ]
    },
    {
     "data": {
      "application/vnd.jupyter.widget-view+json": {
       "model_id": "8ead7972320a40bb8bc7f72ae54d8306",
       "version_major": 2,
       "version_minor": 0
      },
      "text/plain": [
       "HBox(children=(IntProgress(value=0, description='Progress:', max=2, style=ProgressStyle(description_width='ini…"
      ]
     },
     "metadata": {},
     "output_type": "display_data"
    },
    {
     "name": "stdout",
     "output_type": "stream",
     "text": [
      "torch.Size([263, 1])\n",
      "torch.Size([263])\n",
      "1/263\n",
      "prediction = tensor([0.9683], grad_fn=<SelectBackward>)\n",
      "torch.Size([29, 1])\n",
      "torch.Size([29])\n",
      "1/29\n",
      "prediction = tensor([1.1293], grad_fn=<SelectBackward>)\n",
      "\n",
      "Epoch #29\tTrain Loss: 0.021\n",
      "torch.Size([74, 1])\n",
      "torch.Size([74])\n",
      "1/74\n",
      "prediction = tensor([1.0057])\n",
      "Total testing loss is: 0.0007218543323688209\n",
      "TEST\n",
      "TEST1\n"
     ]
    },
    {
     "data": {
      "application/vnd.jupyter.widget-view+json": {
       "model_id": "96194a8c08ae4074997197392ff7c89a",
       "version_major": 2,
       "version_minor": 0
      },
      "text/plain": [
       "HBox(children=(IntProgress(value=0, description='Progress:', max=2, style=ProgressStyle(description_width='ini…"
      ]
     },
     "metadata": {},
     "output_type": "display_data"
    },
    {
     "name": "stdout",
     "output_type": "stream",
     "text": [
      "torch.Size([263, 1])\n",
      "torch.Size([263])\n",
      "1/263\n",
      "prediction = tensor([0.9897], grad_fn=<SelectBackward>)\n",
      "torch.Size([29, 1])\n",
      "torch.Size([29])\n",
      "1/29\n",
      "prediction = tensor([0.5413], grad_fn=<SelectBackward>)\n",
      "\n",
      "Epoch #30\tTrain Loss: 0.164\n",
      "torch.Size([74, 1])\n",
      "torch.Size([74])\n",
      "1/74\n",
      "prediction = tensor([0.8158])\n",
      "Total testing loss is: 0.0363103486597538\n",
      "TEST\n",
      "TEST1\n"
     ]
    },
    {
     "data": {
      "application/vnd.jupyter.widget-view+json": {
       "model_id": "933918baf1d040cd8216548e472f7761",
       "version_major": 2,
       "version_minor": 0
      },
      "text/plain": [
       "HBox(children=(IntProgress(value=0, description='Progress:', max=2, style=ProgressStyle(description_width='ini…"
      ]
     },
     "metadata": {},
     "output_type": "display_data"
    },
    {
     "name": "stdout",
     "output_type": "stream",
     "text": [
      "torch.Size([263, 1])\n",
      "torch.Size([263])\n",
      "1/263\n",
      "prediction = tensor([0.4646], grad_fn=<SelectBackward>)\n",
      "torch.Size([29, 1])\n",
      "torch.Size([29])\n",
      "1/29\n",
      "prediction = tensor([1.2257], grad_fn=<SelectBackward>)\n",
      "\n",
      "Epoch #31\tTrain Loss: 0.045\n",
      "torch.Size([74, 1])\n",
      "torch.Size([74])\n",
      "1/74\n",
      "prediction = tensor([0.9356])\n",
      "Total testing loss is: 0.04603060707449913\n",
      "TEST\n",
      "TEST1\n"
     ]
    },
    {
     "data": {
      "application/vnd.jupyter.widget-view+json": {
       "model_id": "2827c33ebe684e59bf22cd9c281490bc",
       "version_major": 2,
       "version_minor": 0
      },
      "text/plain": [
       "HBox(children=(IntProgress(value=0, description='Progress:', max=2, style=ProgressStyle(description_width='ini…"
      ]
     },
     "metadata": {},
     "output_type": "display_data"
    },
    {
     "name": "stdout",
     "output_type": "stream",
     "text": [
      "torch.Size([263, 1])\n",
      "torch.Size([263])\n",
      "1/263\n",
      "prediction = tensor([1.0383], grad_fn=<SelectBackward>)\n",
      "torch.Size([29, 1])\n",
      "torch.Size([29])\n",
      "1/29\n",
      "prediction = tensor([1.6154], grad_fn=<SelectBackward>)\n",
      "\n",
      "Epoch #32\tTrain Loss: 0.002\n",
      "torch.Size([74, 1])\n",
      "torch.Size([74])\n",
      "1/74\n",
      "prediction = tensor([0.8713])\n",
      "Total testing loss is: 0.0009974134154617786\n",
      "TEST\n",
      "TEST1\n"
     ]
    },
    {
     "data": {
      "application/vnd.jupyter.widget-view+json": {
       "model_id": "28710c00c98043be9025bef0e58b119f",
       "version_major": 2,
       "version_minor": 0
      },
      "text/plain": [
       "HBox(children=(IntProgress(value=0, description='Progress:', max=2, style=ProgressStyle(description_width='ini…"
      ]
     },
     "metadata": {},
     "output_type": "display_data"
    },
    {
     "name": "stdout",
     "output_type": "stream",
     "text": [
      "torch.Size([263, 1])\n",
      "torch.Size([263])\n",
      "1/263\n",
      "prediction = tensor([1.1237], grad_fn=<SelectBackward>)\n",
      "torch.Size([29, 1])\n",
      "torch.Size([29])\n",
      "1/29\n",
      "prediction = tensor([1.1523], grad_fn=<SelectBackward>)\n",
      "\n",
      "Epoch #33\tTrain Loss: 0.022\n",
      "torch.Size([74, 1])\n",
      "torch.Size([74])\n",
      "1/74\n",
      "prediction = tensor([0.6615])\n",
      "Total testing loss is: 0.053006816655397415\n",
      "TEST\n",
      "TEST1\n"
     ]
    },
    {
     "data": {
      "application/vnd.jupyter.widget-view+json": {
       "model_id": "be364ffd472048d587ac3060e3d4a3ef",
       "version_major": 2,
       "version_minor": 0
      },
      "text/plain": [
       "HBox(children=(IntProgress(value=0, description='Progress:', max=2, style=ProgressStyle(description_width='ini…"
      ]
     },
     "metadata": {},
     "output_type": "display_data"
    },
    {
     "name": "stdout",
     "output_type": "stream",
     "text": [
      "torch.Size([263, 1])\n",
      "torch.Size([263])\n",
      "1/263\n",
      "prediction = tensor([1.3376], grad_fn=<SelectBackward>)\n",
      "torch.Size([29, 1])\n",
      "torch.Size([29])\n",
      "1/29\n",
      "prediction = tensor([0.7401], grad_fn=<SelectBackward>)\n",
      "\n",
      "Epoch #34\tTrain Loss: 0.045\n",
      "torch.Size([74, 1])\n",
      "torch.Size([74])\n",
      "1/74\n",
      "prediction = tensor([0.7536])\n",
      "Total testing loss is: 0.04337715357542038\n",
      "TEST\n",
      "TEST1\n"
     ]
    },
    {
     "data": {
      "application/vnd.jupyter.widget-view+json": {
       "model_id": "6b2081ac4d6e45d6a6ff6c35d38c4cc0",
       "version_major": 2,
       "version_minor": 0
      },
      "text/plain": [
       "HBox(children=(IntProgress(value=0, description='Progress:', max=2, style=ProgressStyle(description_width='ini…"
      ]
     },
     "metadata": {},
     "output_type": "display_data"
    },
    {
     "name": "stdout",
     "output_type": "stream",
     "text": [
      "torch.Size([263, 1])\n",
      "torch.Size([263])\n",
      "1/263\n",
      "prediction = tensor([1.1761], grad_fn=<SelectBackward>)\n",
      "torch.Size([29, 1])\n",
      "torch.Size([29])\n",
      "1/29\n",
      "prediction = tensor([0.7871], grad_fn=<SelectBackward>)\n",
      "\n",
      "Epoch #35\tTrain Loss: 0.133\n",
      "torch.Size([74, 1])\n",
      "torch.Size([74])\n",
      "1/74\n",
      "prediction = tensor([0.9407])\n",
      "Total testing loss is: 0.01926867477595806\n",
      "TEST\n",
      "TEST1\n"
     ]
    },
    {
     "data": {
      "application/vnd.jupyter.widget-view+json": {
       "model_id": "bc07166c9fee4d5198184855f395dae9",
       "version_major": 2,
       "version_minor": 0
      },
      "text/plain": [
       "HBox(children=(IntProgress(value=0, description='Progress:', max=2, style=ProgressStyle(description_width='ini…"
      ]
     },
     "metadata": {},
     "output_type": "display_data"
    },
    {
     "name": "stdout",
     "output_type": "stream",
     "text": [
      "torch.Size([263, 1])\n",
      "torch.Size([263])\n",
      "1/263\n",
      "prediction = tensor([0.7300], grad_fn=<SelectBackward>)\n",
      "torch.Size([29, 1])\n",
      "torch.Size([29])\n",
      "1/29\n",
      "prediction = tensor([0.7710], grad_fn=<SelectBackward>)\n",
      "\n",
      "Epoch #36\tTrain Loss: 0.085\n",
      "torch.Size([74, 1])\n",
      "torch.Size([74])\n",
      "1/74\n",
      "prediction = tensor([0.8158])\n",
      "Total testing loss is: 0.02977668307721615\n",
      "TEST\n",
      "TEST1\n"
     ]
    },
    {
     "data": {
      "application/vnd.jupyter.widget-view+json": {
       "model_id": "67d1a11f99a941d9a3ad233a3540a295",
       "version_major": 2,
       "version_minor": 0
      },
      "text/plain": [
       "HBox(children=(IntProgress(value=0, description='Progress:', max=2, style=ProgressStyle(description_width='ini…"
      ]
     },
     "metadata": {},
     "output_type": "display_data"
    },
    {
     "name": "stdout",
     "output_type": "stream",
     "text": [
      "torch.Size([263, 1])\n",
      "torch.Size([263])\n",
      "1/263\n",
      "prediction = tensor([0.3685], grad_fn=<SelectBackward>)\n",
      "torch.Size([29, 1])\n",
      "torch.Size([29])\n",
      "1/29\n",
      "prediction = tensor([1.1762], grad_fn=<SelectBackward>)\n",
      "\n",
      "Epoch #37\tTrain Loss: 0.061\n",
      "torch.Size([74, 1])\n",
      "torch.Size([74])\n",
      "1/74\n",
      "prediction = tensor([1.0057])\n",
      "Total testing loss is: 0.02247963286936283\n",
      "TEST\n",
      "TEST1\n"
     ]
    },
    {
     "data": {
      "application/vnd.jupyter.widget-view+json": {
       "model_id": "f4b0c31505f14273995d056c9b778d17",
       "version_major": 2,
       "version_minor": 0
      },
      "text/plain": [
       "HBox(children=(IntProgress(value=0, description='Progress:', max=2, style=ProgressStyle(description_width='ini…"
      ]
     },
     "metadata": {},
     "output_type": "display_data"
    },
    {
     "name": "stdout",
     "output_type": "stream",
     "text": [
      "torch.Size([263, 1])\n",
      "torch.Size([263])\n",
      "1/263\n",
      "prediction = tensor([0.5091], grad_fn=<SelectBackward>)\n",
      "torch.Size([29, 1])\n",
      "torch.Size([29])\n",
      "1/29\n",
      "prediction = tensor([0.8482], grad_fn=<SelectBackward>)\n",
      "\n",
      "Epoch #38\tTrain Loss: 0.141\n",
      "torch.Size([74, 1])\n",
      "torch.Size([74])\n",
      "1/74\n",
      "prediction = tensor([0.9356])\n",
      "Total testing loss is: 0.034108806401491165\n",
      "TEST\n",
      "TEST1\n"
     ]
    },
    {
     "data": {
      "application/vnd.jupyter.widget-view+json": {
       "model_id": "0964b03067a44b34ac77414b0173bde1",
       "version_major": 2,
       "version_minor": 0
      },
      "text/plain": [
       "HBox(children=(IntProgress(value=0, description='Progress:', max=2, style=ProgressStyle(description_width='ini…"
      ]
     },
     "metadata": {},
     "output_type": "display_data"
    },
    {
     "name": "stdout",
     "output_type": "stream",
     "text": [
      "torch.Size([263, 1])\n",
      "torch.Size([263])\n",
      "1/263\n",
      "prediction = tensor([0.7465], grad_fn=<SelectBackward>)\n",
      "torch.Size([29, 1])\n",
      "torch.Size([29])\n",
      "1/29\n",
      "prediction = tensor([0.9322], grad_fn=<SelectBackward>)\n",
      "\n",
      "Epoch #39\tTrain Loss: 0.106\n",
      "torch.Size([74, 1])\n",
      "torch.Size([74])\n",
      "1/74\n",
      "prediction = tensor([0.7150])\n",
      "Total testing loss is: 3.0643113859696314e-05\n",
      "TEST\n",
      "TEST1\n"
     ]
    },
    {
     "data": {
      "application/vnd.jupyter.widget-view+json": {
       "model_id": "5b4e6db95b4942e4be9f642ce2cbed6a",
       "version_major": 2,
       "version_minor": 0
      },
      "text/plain": [
       "HBox(children=(IntProgress(value=0, description='Progress:', max=2, style=ProgressStyle(description_width='ini…"
      ]
     },
     "metadata": {},
     "output_type": "display_data"
    },
    {
     "name": "stdout",
     "output_type": "stream",
     "text": [
      "torch.Size([263, 1])\n",
      "torch.Size([263])\n",
      "1/263\n",
      "prediction = tensor([0.8782], grad_fn=<SelectBackward>)\n",
      "torch.Size([29, 1])\n",
      "torch.Size([29])\n",
      "1/29\n",
      "prediction = tensor([1.0348], grad_fn=<SelectBackward>)\n",
      "\n",
      "Epoch #40\tTrain Loss: 0.010\n",
      "torch.Size([74, 1])\n",
      "torch.Size([74])\n",
      "1/74\n",
      "prediction = tensor([1.0057])\n",
      "Total testing loss is: 0.007172341458499432\n",
      "TEST\n",
      "TEST1\n"
     ]
    },
    {
     "data": {
      "application/vnd.jupyter.widget-view+json": {
       "model_id": "90ef46562d9e44a79491ffd6102af890",
       "version_major": 2,
       "version_minor": 0
      },
      "text/plain": [
       "HBox(children=(IntProgress(value=0, description='Progress:', max=2, style=ProgressStyle(description_width='ini…"
      ]
     },
     "metadata": {},
     "output_type": "display_data"
    },
    {
     "name": "stdout",
     "output_type": "stream",
     "text": [
      "torch.Size([263, 1])\n",
      "torch.Size([263])\n",
      "1/263\n",
      "prediction = tensor([0.5916], grad_fn=<SelectBackward>)\n",
      "torch.Size([29, 1])\n",
      "torch.Size([29])\n",
      "1/29\n",
      "prediction = tensor([0.4696], grad_fn=<SelectBackward>)\n",
      "\n",
      "Epoch #41\tTrain Loss: 0.183\n",
      "torch.Size([74, 1])\n",
      "torch.Size([74])\n",
      "1/74\n",
      "prediction = tensor([0.8713])\n",
      "Total testing loss is: 0.04973883181810379\n",
      "TEST\n",
      "TEST1\n"
     ]
    },
    {
     "data": {
      "application/vnd.jupyter.widget-view+json": {
       "model_id": "9750912cb4894fa285527cf694d99e6c",
       "version_major": 2,
       "version_minor": 0
      },
      "text/plain": [
       "HBox(children=(IntProgress(value=0, description='Progress:', max=2, style=ProgressStyle(description_width='ini…"
      ]
     },
     "metadata": {},
     "output_type": "display_data"
    },
    {
     "name": "stdout",
     "output_type": "stream",
     "text": [
      "torch.Size([263, 1])\n",
      "torch.Size([263])\n",
      "1/263\n",
      "prediction = tensor([0.6787], grad_fn=<SelectBackward>)\n",
      "torch.Size([29, 1])\n",
      "torch.Size([29])\n",
      "1/29\n",
      "prediction = tensor([1.2464], grad_fn=<SelectBackward>)\n",
      "\n",
      "Epoch #42\tTrain Loss: 0.065\n",
      "torch.Size([74, 1])\n",
      "torch.Size([74])\n",
      "1/74\n",
      "prediction = tensor([0.8720])\n",
      "Total testing loss is: 0.03904689475893974\n",
      "TEST\n",
      "TEST1\n"
     ]
    },
    {
     "data": {
      "application/vnd.jupyter.widget-view+json": {
       "model_id": "0d136357e1d148038e47bdd5c575ca80",
       "version_major": 2,
       "version_minor": 0
      },
      "text/plain": [
       "HBox(children=(IntProgress(value=0, description='Progress:', max=2, style=ProgressStyle(description_width='ini…"
      ]
     },
     "metadata": {},
     "output_type": "display_data"
    },
    {
     "name": "stdout",
     "output_type": "stream",
     "text": [
      "torch.Size([263, 1])\n",
      "torch.Size([263])\n",
      "1/263\n",
      "prediction = tensor([1.0026], grad_fn=<SelectBackward>)\n",
      "torch.Size([29, 1])\n",
      "torch.Size([29])\n",
      "1/29\n",
      "prediction = tensor([0.5663], grad_fn=<SelectBackward>)\n",
      "\n",
      "Epoch #43\tTrain Loss: 0.011\n",
      "torch.Size([74, 1])\n",
      "torch.Size([74])\n",
      "1/74\n",
      "prediction = tensor([0.9356])\n",
      "Total testing loss is: 0.034108806401491165\n",
      "TEST\n",
      "TEST1\n"
     ]
    },
    {
     "data": {
      "application/vnd.jupyter.widget-view+json": {
       "model_id": "ece5e9bd742247f39dec8e1b0c402a4b",
       "version_major": 2,
       "version_minor": 0
      },
      "text/plain": [
       "HBox(children=(IntProgress(value=0, description='Progress:', max=2, style=ProgressStyle(description_width='ini…"
      ]
     },
     "metadata": {},
     "output_type": "display_data"
    },
    {
     "name": "stdout",
     "output_type": "stream",
     "text": [
      "torch.Size([263, 1])\n",
      "torch.Size([263])\n",
      "1/263\n",
      "prediction = tensor([1.1515], grad_fn=<SelectBackward>)\n",
      "torch.Size([29, 1])\n",
      "torch.Size([29])\n",
      "1/29\n",
      "prediction = tensor([0.7159], grad_fn=<SelectBackward>)\n",
      "\n",
      "Epoch #44\tTrain Loss: 0.007\n",
      "torch.Size([74, 1])\n",
      "torch.Size([74])\n",
      "1/74\n",
      "prediction = tensor([0.6615])\n",
      "Total testing loss is: 0.05295213311910629\n",
      "TEST\n",
      "TEST1\n"
     ]
    },
    {
     "data": {
      "application/vnd.jupyter.widget-view+json": {
       "model_id": "d4a0d675280f4caeb64dd192a92a6883",
       "version_major": 2,
       "version_minor": 0
      },
      "text/plain": [
       "HBox(children=(IntProgress(value=0, description='Progress:', max=2, style=ProgressStyle(description_width='ini…"
      ]
     },
     "metadata": {},
     "output_type": "display_data"
    },
    {
     "name": "stdout",
     "output_type": "stream",
     "text": [
      "torch.Size([263, 1])\n",
      "torch.Size([263])\n",
      "1/263\n",
      "prediction = tensor([0.2772], grad_fn=<SelectBackward>)\n",
      "torch.Size([29, 1])\n",
      "torch.Size([29])\n",
      "1/29\n",
      "prediction = tensor([0.3290], grad_fn=<SelectBackward>)\n",
      "\n",
      "Epoch #45\tTrain Loss: 0.210\n",
      "torch.Size([74, 1])\n",
      "torch.Size([74])\n",
      "1/74\n",
      "prediction = tensor([0.8713])\n",
      "Total testing loss is: 0.0009843235602602363\n",
      "TEST\n",
      "TEST1\n"
     ]
    },
    {
     "data": {
      "application/vnd.jupyter.widget-view+json": {
       "model_id": "04fd1030203f4067b3437436c2e08503",
       "version_major": 2,
       "version_minor": 0
      },
      "text/plain": [
       "HBox(children=(IntProgress(value=0, description='Progress:', max=2, style=ProgressStyle(description_width='ini…"
      ]
     },
     "metadata": {},
     "output_type": "display_data"
    },
    {
     "name": "stdout",
     "output_type": "stream",
     "text": [
      "torch.Size([263, 1])\n",
      "torch.Size([263])\n",
      "1/263\n",
      "prediction = tensor([0.7509], grad_fn=<SelectBackward>)\n",
      "torch.Size([29, 1])\n",
      "torch.Size([29])\n",
      "1/29\n",
      "prediction = tensor([1.5270], grad_fn=<SelectBackward>)\n",
      "\n",
      "Epoch #46\tTrain Loss: 0.008\n",
      "torch.Size([74, 1])\n",
      "torch.Size([74])\n",
      "1/74\n",
      "prediction = tensor([1.0057])\n",
      "Total testing loss is: 0.02247963286936283\n",
      "TEST\n",
      "TEST1\n"
     ]
    },
    {
     "data": {
      "application/vnd.jupyter.widget-view+json": {
       "model_id": "f31b5ff3d4be42d4927012cf5c8dc038",
       "version_major": 2,
       "version_minor": 0
      },
      "text/plain": [
       "HBox(children=(IntProgress(value=0, description='Progress:', max=2, style=ProgressStyle(description_width='ini…"
      ]
     },
     "metadata": {},
     "output_type": "display_data"
    },
    {
     "name": "stdout",
     "output_type": "stream",
     "text": [
      "torch.Size([263, 1])\n",
      "torch.Size([263])\n",
      "1/263\n",
      "prediction = tensor([0.8348], grad_fn=<SelectBackward>)\n",
      "torch.Size([29, 1])\n",
      "torch.Size([29])\n",
      "1/29\n",
      "prediction = tensor([0.4661], grad_fn=<SelectBackward>)\n",
      "\n",
      "Epoch #47\tTrain Loss: 0.060\n",
      "torch.Size([74, 1])\n",
      "torch.Size([74])\n",
      "1/74\n",
      "prediction = tensor([1.0057])\n",
      "Total testing loss is: 0.007172341458499432\n",
      "TEST\n",
      "TEST1\n"
     ]
    },
    {
     "data": {
      "application/vnd.jupyter.widget-view+json": {
       "model_id": "c9ea03f147a94f5eb9457fb36993f0ae",
       "version_major": 2,
       "version_minor": 0
      },
      "text/plain": [
       "HBox(children=(IntProgress(value=0, description='Progress:', max=2, style=ProgressStyle(description_width='ini…"
      ]
     },
     "metadata": {},
     "output_type": "display_data"
    },
    {
     "name": "stdout",
     "output_type": "stream",
     "text": [
      "torch.Size([263, 1])\n",
      "torch.Size([263])\n",
      "1/263\n",
      "prediction = tensor([0.8648], grad_fn=<SelectBackward>)\n",
      "torch.Size([29, 1])\n",
      "torch.Size([29])\n",
      "1/29\n",
      "prediction = tensor([1.6813], grad_fn=<SelectBackward>)\n",
      "\n",
      "Epoch #48\tTrain Loss: 0.017\n",
      "torch.Size([74, 1])\n",
      "torch.Size([74])\n",
      "1/74\n",
      "prediction = tensor([0.8085])\n",
      "Total testing loss is: 0.04706767201423645\n",
      "TEST\n",
      "TEST1\n"
     ]
    },
    {
     "data": {
      "application/vnd.jupyter.widget-view+json": {
       "model_id": "0a1645934ca947f689f81b0b09992ce6",
       "version_major": 2,
       "version_minor": 0
      },
      "text/plain": [
       "HBox(children=(IntProgress(value=0, description='Progress:', max=2, style=ProgressStyle(description_width='ini…"
      ]
     },
     "metadata": {},
     "output_type": "display_data"
    },
    {
     "name": "stdout",
     "output_type": "stream",
     "text": [
      "torch.Size([263, 1])\n",
      "torch.Size([263])\n",
      "1/263\n",
      "prediction = tensor([1.4126], grad_fn=<SelectBackward>)\n",
      "torch.Size([29, 1])\n",
      "torch.Size([29])\n",
      "1/29\n",
      "prediction = tensor([1.1491], grad_fn=<SelectBackward>)\n",
      "\n",
      "Epoch #49\tTrain Loss: 0.097\n",
      "torch.Size([74, 1])\n",
      "torch.Size([74])\n",
      "1/74\n",
      "prediction = tensor([0.9407])\n",
      "Total testing loss is: 0.017638202756643295\n",
      "TEST\n",
      "TEST1\n"
     ]
    },
    {
     "data": {
      "application/vnd.jupyter.widget-view+json": {
       "model_id": "faac3dd9a18c40b0a203f09d433b8da0",
       "version_major": 2,
       "version_minor": 0
      },
      "text/plain": [
       "HBox(children=(IntProgress(value=0, description='Progress:', max=2, style=ProgressStyle(description_width='ini…"
      ]
     },
     "metadata": {},
     "output_type": "display_data"
    },
    {
     "name": "stdout",
     "output_type": "stream",
     "text": [
      "torch.Size([263, 1])\n",
      "torch.Size([263])\n",
      "1/263\n",
      "prediction = tensor([0.6741], grad_fn=<SelectBackward>)\n",
      "torch.Size([29, 1])\n",
      "torch.Size([29])\n",
      "1/29\n",
      "prediction = tensor([1.1314], grad_fn=<SelectBackward>)\n",
      "\n",
      "Epoch #50\tTrain Loss: 0.086\n",
      "torch.Size([74, 1])\n",
      "torch.Size([74])\n",
      "1/74\n",
      "prediction = tensor([0.8720])\n",
      "Total testing loss is: 0.04523090273141861\n",
      "TEST\n",
      "TEST1\n"
     ]
    },
    {
     "data": {
      "application/vnd.jupyter.widget-view+json": {
       "model_id": "45f408de00a747d08bd5298f6869a27d",
       "version_major": 2,
       "version_minor": 0
      },
      "text/plain": [
       "HBox(children=(IntProgress(value=0, description='Progress:', max=2, style=ProgressStyle(description_width='ini…"
      ]
     },
     "metadata": {},
     "output_type": "display_data"
    },
    {
     "name": "stdout",
     "output_type": "stream",
     "text": [
      "torch.Size([263, 1])\n",
      "torch.Size([263])\n",
      "1/263\n",
      "prediction = tensor([1.3612], grad_fn=<SelectBackward>)\n",
      "torch.Size([29, 1])\n",
      "torch.Size([29])\n",
      "1/29\n",
      "prediction = tensor([0.9485], grad_fn=<SelectBackward>)\n",
      "\n",
      "Epoch #51\tTrain Loss: 0.106\n",
      "torch.Size([74, 1])\n",
      "torch.Size([74])\n",
      "1/74\n",
      "prediction = tensor([0.8713])\n",
      "Total testing loss is: 0.02907503955066204\n",
      "TEST\n",
      "TEST1\n"
     ]
    },
    {
     "data": {
      "application/vnd.jupyter.widget-view+json": {
       "model_id": "0c6c284ca4a14c62b809c5d7262f6747",
       "version_major": 2,
       "version_minor": 0
      },
      "text/plain": [
       "HBox(children=(IntProgress(value=0, description='Progress:', max=2, style=ProgressStyle(description_width='ini…"
      ]
     },
     "metadata": {},
     "output_type": "display_data"
    },
    {
     "name": "stdout",
     "output_type": "stream",
     "text": [
      "torch.Size([263, 1])\n",
      "torch.Size([263])\n",
      "1/263\n",
      "prediction = tensor([0.9764], grad_fn=<SelectBackward>)\n",
      "torch.Size([29, 1])\n",
      "torch.Size([29])\n",
      "1/29\n",
      "prediction = tensor([1.3085], grad_fn=<SelectBackward>)\n",
      "\n",
      "Epoch #52\tTrain Loss: 0.060\n",
      "torch.Size([74, 1])\n",
      "torch.Size([74])\n",
      "1/74\n",
      "prediction = tensor([0.7143])\n",
      "Total testing loss is: 0.05558706447482109\n",
      "TEST\n",
      "TEST1\n"
     ]
    },
    {
     "data": {
      "application/vnd.jupyter.widget-view+json": {
       "model_id": "4e828bf576f343878da2eabd8c115099",
       "version_major": 2,
       "version_minor": 0
      },
      "text/plain": [
       "HBox(children=(IntProgress(value=0, description='Progress:', max=2, style=ProgressStyle(description_width='ini…"
      ]
     },
     "metadata": {},
     "output_type": "display_data"
    },
    {
     "name": "stdout",
     "output_type": "stream",
     "text": [
      "torch.Size([263, 1])\n",
      "torch.Size([263])\n",
      "1/263\n",
      "prediction = tensor([0.3820], grad_fn=<SelectBackward>)\n",
      "torch.Size([29, 1])\n",
      "torch.Size([29])\n",
      "1/29\n",
      "prediction = tensor([1.1372], grad_fn=<SelectBackward>)\n",
      "\n",
      "Epoch #53\tTrain Loss: 0.018\n",
      "torch.Size([74, 1])\n",
      "torch.Size([74])\n",
      "1/74\n",
      "prediction = tensor([0.8438])\n",
      "Total testing loss is: 0.00040412985254079103\n",
      "TEST\n",
      "TEST1\n"
     ]
    },
    {
     "data": {
      "application/vnd.jupyter.widget-view+json": {
       "model_id": "72c8263dc36b4018bd10cd901f57823f",
       "version_major": 2,
       "version_minor": 0
      },
      "text/plain": [
       "HBox(children=(IntProgress(value=0, description='Progress:', max=2, style=ProgressStyle(description_width='ini…"
      ]
     },
     "metadata": {},
     "output_type": "display_data"
    },
    {
     "name": "stdout",
     "output_type": "stream",
     "text": [
      "torch.Size([263, 1])\n",
      "torch.Size([263])\n",
      "1/263\n",
      "prediction = tensor([1.1316], grad_fn=<SelectBackward>)\n",
      "torch.Size([29, 1])\n",
      "torch.Size([29])\n",
      "1/29\n",
      "prediction = tensor([1.3312], grad_fn=<SelectBackward>)\n",
      "\n",
      "Epoch #54\tTrain Loss: 0.064\n",
      "torch.Size([74, 1])\n",
      "torch.Size([74])\n",
      "1/74\n",
      "prediction = tensor([0.6615])\n",
      "Total testing loss is: 0.050742991268634796\n",
      "TEST\n",
      "TEST1\n"
     ]
    },
    {
     "data": {
      "application/vnd.jupyter.widget-view+json": {
       "model_id": "78f2aa668b9846619d87e93816f4b19d",
       "version_major": 2,
       "version_minor": 0
      },
      "text/plain": [
       "HBox(children=(IntProgress(value=0, description='Progress:', max=2, style=ProgressStyle(description_width='ini…"
      ]
     },
     "metadata": {},
     "output_type": "display_data"
    },
    {
     "name": "stdout",
     "output_type": "stream",
     "text": [
      "torch.Size([263, 1])\n",
      "torch.Size([263])\n",
      "1/263\n",
      "prediction = tensor([0.9586], grad_fn=<SelectBackward>)\n",
      "torch.Size([29, 1])\n",
      "torch.Size([29])\n",
      "1/29\n",
      "prediction = tensor([1.9008], grad_fn=<SelectBackward>)\n",
      "\n",
      "Epoch #55\tTrain Loss: 0.013\n",
      "torch.Size([74, 1])\n",
      "torch.Size([74])\n",
      "1/74\n",
      "prediction = tensor([0.8713])\n",
      "Total testing loss is: 0.0007980332593433559\n",
      "TEST\n",
      "TEST1\n"
     ]
    },
    {
     "data": {
      "application/vnd.jupyter.widget-view+json": {
       "model_id": "4d321a8fd88b4183a93a41ca21e977ea",
       "version_major": 2,
       "version_minor": 0
      },
      "text/plain": [
       "HBox(children=(IntProgress(value=0, description='Progress:', max=2, style=ProgressStyle(description_width='ini…"
      ]
     },
     "metadata": {},
     "output_type": "display_data"
    },
    {
     "name": "stdout",
     "output_type": "stream",
     "text": [
      "torch.Size([263, 1])\n",
      "torch.Size([263])\n",
      "1/263\n",
      "prediction = tensor([0.7605], grad_fn=<SelectBackward>)\n",
      "torch.Size([29, 1])\n",
      "torch.Size([29])\n",
      "1/29\n",
      "prediction = tensor([0.9278], grad_fn=<SelectBackward>)\n",
      "\n",
      "Epoch #56\tTrain Loss: 0.085\n",
      "torch.Size([74, 1])\n",
      "torch.Size([74])\n",
      "1/74\n",
      "prediction = tensor([0.6615])\n",
      "Total testing loss is: 0.05295213311910629\n",
      "TEST\n",
      "TEST1\n"
     ]
    },
    {
     "data": {
      "application/vnd.jupyter.widget-view+json": {
       "model_id": "7250000b537a4bcbbcd4c0e09b6b6cfa",
       "version_major": 2,
       "version_minor": 0
      },
      "text/plain": [
       "HBox(children=(IntProgress(value=0, description='Progress:', max=2, style=ProgressStyle(description_width='ini…"
      ]
     },
     "metadata": {},
     "output_type": "display_data"
    },
    {
     "name": "stdout",
     "output_type": "stream",
     "text": [
      "torch.Size([263, 1])\n",
      "torch.Size([263])\n",
      "1/263\n",
      "prediction = tensor([0.6310], grad_fn=<SelectBackward>)\n",
      "torch.Size([29, 1])\n",
      "torch.Size([29])\n",
      "1/29\n",
      "prediction = tensor([1.6912], grad_fn=<SelectBackward>)\n",
      "\n",
      "Epoch #57\tTrain Loss: 0.017\n",
      "torch.Size([74, 1])\n",
      "torch.Size([74])\n",
      "1/74\n",
      "prediction = tensor([0.9356])\n",
      "Total testing loss is: 0.04364003241062164\n",
      "TEST\n",
      "TEST1\n"
     ]
    },
    {
     "data": {
      "application/vnd.jupyter.widget-view+json": {
       "model_id": "ccfd577def3a4c8697e28ad76eb1175a",
       "version_major": 2,
       "version_minor": 0
      },
      "text/plain": [
       "HBox(children=(IntProgress(value=0, description='Progress:', max=2, style=ProgressStyle(description_width='ini…"
      ]
     },
     "metadata": {},
     "output_type": "display_data"
    },
    {
     "name": "stdout",
     "output_type": "stream",
     "text": [
      "torch.Size([263, 1])\n",
      "torch.Size([263])\n",
      "1/263\n",
      "prediction = tensor([0.7494], grad_fn=<SelectBackward>)\n",
      "torch.Size([29, 1])\n",
      "torch.Size([29])\n",
      "1/29\n",
      "prediction = tensor([0.4908], grad_fn=<SelectBackward>)\n",
      "\n",
      "Epoch #58\tTrain Loss: 0.052\n",
      "torch.Size([74, 1])\n",
      "torch.Size([74])\n",
      "1/74\n",
      "prediction = tensor([1.0057])\n",
      "Total testing loss is: 0.0007218543323688209\n",
      "TEST\n",
      "TEST1\n"
     ]
    },
    {
     "data": {
      "application/vnd.jupyter.widget-view+json": {
       "model_id": "f39cd976f0dd4911b31122f9e380620e",
       "version_major": 2,
       "version_minor": 0
      },
      "text/plain": [
       "HBox(children=(IntProgress(value=0, description='Progress:', max=2, style=ProgressStyle(description_width='ini…"
      ]
     },
     "metadata": {},
     "output_type": "display_data"
    },
    {
     "name": "stdout",
     "output_type": "stream",
     "text": [
      "torch.Size([263, 1])\n",
      "torch.Size([263])\n",
      "1/263\n",
      "prediction = tensor([1.0411], grad_fn=<SelectBackward>)\n",
      "torch.Size([29, 1])\n",
      "torch.Size([29])\n",
      "1/29\n",
      "prediction = tensor([1.1497], grad_fn=<SelectBackward>)\n",
      "\n",
      "Epoch #59\tTrain Loss: 0.093\n",
      "torch.Size([74, 1])\n",
      "torch.Size([74])\n",
      "1/74\n",
      "prediction = tensor([0.7143])\n",
      "Total testing loss is: 0.05228227376937866\n",
      "TEST\n",
      "TEST1\n"
     ]
    },
    {
     "data": {
      "application/vnd.jupyter.widget-view+json": {
       "model_id": "c2c6dc7e203141edbcbd1b96c451cb37",
       "version_major": 2,
       "version_minor": 0
      },
      "text/plain": [
       "HBox(children=(IntProgress(value=0, description='Progress:', max=2, style=ProgressStyle(description_width='ini…"
      ]
     },
     "metadata": {},
     "output_type": "display_data"
    },
    {
     "name": "stdout",
     "output_type": "stream",
     "text": [
      "torch.Size([263, 1])\n",
      "torch.Size([263])\n",
      "1/263\n",
      "prediction = tensor([0.5978], grad_fn=<SelectBackward>)\n",
      "torch.Size([29, 1])\n",
      "torch.Size([29])\n",
      "1/29\n",
      "prediction = tensor([1.6966], grad_fn=<SelectBackward>)\n",
      "\n",
      "Epoch #60\tTrain Loss: 0.007\n",
      "torch.Size([74, 1])\n",
      "torch.Size([74])\n",
      "1/74\n",
      "prediction = tensor([0.8713])\n",
      "Total testing loss is: 0.0008823891985230148\n",
      "TEST\n",
      "TEST1\n"
     ]
    },
    {
     "data": {
      "application/vnd.jupyter.widget-view+json": {
       "model_id": "529a0e4d6aed4b4fb6d4bc62301be216",
       "version_major": 2,
       "version_minor": 0
      },
      "text/plain": [
       "HBox(children=(IntProgress(value=0, description='Progress:', max=2, style=ProgressStyle(description_width='ini…"
      ]
     },
     "metadata": {},
     "output_type": "display_data"
    },
    {
     "name": "stdout",
     "output_type": "stream",
     "text": [
      "torch.Size([263, 1])\n",
      "torch.Size([263])\n",
      "1/263\n",
      "prediction = tensor([0.6539], grad_fn=<SelectBackward>)\n",
      "torch.Size([29, 1])\n",
      "torch.Size([29])\n",
      "1/29\n",
      "prediction = tensor([1.3056], grad_fn=<SelectBackward>)\n",
      "\n",
      "Epoch #61\tTrain Loss: 0.017\n",
      "torch.Size([74, 1])\n",
      "torch.Size([74])\n",
      "1/74\n",
      "prediction = tensor([0.7143])\n",
      "Total testing loss is: 0.05650336667895317\n",
      "TEST\n",
      "TEST1\n"
     ]
    },
    {
     "data": {
      "application/vnd.jupyter.widget-view+json": {
       "model_id": "61609ead24984c9991af739fe7613aa9",
       "version_major": 2,
       "version_minor": 0
      },
      "text/plain": [
       "HBox(children=(IntProgress(value=0, description='Progress:', max=2, style=ProgressStyle(description_width='ini…"
      ]
     },
     "metadata": {},
     "output_type": "display_data"
    },
    {
     "name": "stdout",
     "output_type": "stream",
     "text": [
      "torch.Size([263, 1])\n",
      "torch.Size([263])\n",
      "1/263\n",
      "prediction = tensor([0.7886], grad_fn=<SelectBackward>)\n",
      "torch.Size([29, 1])\n",
      "torch.Size([29])\n",
      "1/29\n",
      "prediction = tensor([1.3388], grad_fn=<SelectBackward>)\n",
      "\n",
      "Epoch #62\tTrain Loss: 0.031\n",
      "torch.Size([74, 1])\n",
      "torch.Size([74])\n",
      "1/74\n",
      "prediction = tensor([1.0057])\n",
      "Total testing loss is: 0.02463885024189949\n",
      "TEST\n",
      "TEST1\n"
     ]
    },
    {
     "data": {
      "application/vnd.jupyter.widget-view+json": {
       "model_id": "1605f7502125458b93253159ba450029",
       "version_major": 2,
       "version_minor": 0
      },
      "text/plain": [
       "HBox(children=(IntProgress(value=0, description='Progress:', max=2, style=ProgressStyle(description_width='ini…"
      ]
     },
     "metadata": {},
     "output_type": "display_data"
    },
    {
     "name": "stdout",
     "output_type": "stream",
     "text": [
      "torch.Size([263, 1])\n",
      "torch.Size([263])\n",
      "1/263\n",
      "prediction = tensor([1.2676], grad_fn=<SelectBackward>)\n",
      "torch.Size([29, 1])\n",
      "torch.Size([29])\n",
      "1/29\n",
      "prediction = tensor([1.0329], grad_fn=<SelectBackward>)\n",
      "\n",
      "Epoch #63\tTrain Loss: 0.028\n",
      "torch.Size([74, 1])\n",
      "torch.Size([74])\n",
      "1/74\n",
      "prediction = tensor([0.9407])\n",
      "Total testing loss is: 0.019672762602567673\n",
      "TEST\n",
      "TEST1\n"
     ]
    },
    {
     "data": {
      "application/vnd.jupyter.widget-view+json": {
       "model_id": "c1a13ffda634438e80b1178cbeb6cde4",
       "version_major": 2,
       "version_minor": 0
      },
      "text/plain": [
       "HBox(children=(IntProgress(value=0, description='Progress:', max=2, style=ProgressStyle(description_width='ini…"
      ]
     },
     "metadata": {},
     "output_type": "display_data"
    },
    {
     "name": "stdout",
     "output_type": "stream",
     "text": [
      "torch.Size([263, 1])\n",
      "torch.Size([263])\n",
      "1/263\n",
      "prediction = tensor([0.3808], grad_fn=<SelectBackward>)\n",
      "torch.Size([29, 1])\n",
      "torch.Size([29])\n",
      "1/29\n",
      "prediction = tensor([0.7093], grad_fn=<SelectBackward>)\n",
      "\n",
      "Epoch #64\tTrain Loss: 0.019\n",
      "torch.Size([74, 1])\n",
      "torch.Size([74])\n",
      "1/74\n",
      "prediction = tensor([0.8720])\n",
      "Total testing loss is: 0.03688045218586922\n",
      "TEST\n",
      "TEST1\n"
     ]
    },
    {
     "data": {
      "application/vnd.jupyter.widget-view+json": {
       "model_id": "1ebe3b767be9429b8dcb52e39502b6f6",
       "version_major": 2,
       "version_minor": 0
      },
      "text/plain": [
       "HBox(children=(IntProgress(value=0, description='Progress:', max=2, style=ProgressStyle(description_width='ini…"
      ]
     },
     "metadata": {},
     "output_type": "display_data"
    },
    {
     "name": "stdout",
     "output_type": "stream",
     "text": [
      "torch.Size([263, 1])\n",
      "torch.Size([263])\n",
      "1/263\n",
      "prediction = tensor([1.2710], grad_fn=<SelectBackward>)\n",
      "torch.Size([29, 1])\n",
      "torch.Size([29])\n",
      "1/29\n",
      "prediction = tensor([1.0914], grad_fn=<SelectBackward>)\n",
      "\n",
      "Epoch #65\tTrain Loss: 0.000\n",
      "torch.Size([74, 1])\n",
      "torch.Size([74])\n",
      "1/74\n",
      "prediction = tensor([1.0057])\n",
      "Total testing loss is: 0.02247963286936283\n",
      "TEST\n",
      "TEST1\n"
     ]
    },
    {
     "data": {
      "application/vnd.jupyter.widget-view+json": {
       "model_id": "c3b5b63ae72941d3a417c793ba2e6dbb",
       "version_major": 2,
       "version_minor": 0
      },
      "text/plain": [
       "HBox(children=(IntProgress(value=0, description='Progress:', max=2, style=ProgressStyle(description_width='ini…"
      ]
     },
     "metadata": {},
     "output_type": "display_data"
    },
    {
     "name": "stdout",
     "output_type": "stream",
     "text": [
      "torch.Size([263, 1])\n",
      "torch.Size([263])\n",
      "1/263\n",
      "prediction = tensor([0.9989], grad_fn=<SelectBackward>)\n",
      "torch.Size([29, 1])\n",
      "torch.Size([29])\n",
      "1/29\n",
      "prediction = tensor([0.8980], grad_fn=<SelectBackward>)\n",
      "\n",
      "Epoch #66\tTrain Loss: 0.047\n",
      "torch.Size([74, 1])\n",
      "torch.Size([74])\n",
      "1/74\n",
      "prediction = tensor([0.8713])\n",
      "Total testing loss is: 0.0032517171930521727\n",
      "TEST\n",
      "TEST1\n"
     ]
    },
    {
     "data": {
      "application/vnd.jupyter.widget-view+json": {
       "model_id": "20ff18658e864b7db9f73a0b600d42f3",
       "version_major": 2,
       "version_minor": 0
      },
      "text/plain": [
       "HBox(children=(IntProgress(value=0, description='Progress:', max=2, style=ProgressStyle(description_width='ini…"
      ]
     },
     "metadata": {},
     "output_type": "display_data"
    },
    {
     "name": "stdout",
     "output_type": "stream",
     "text": [
      "torch.Size([263, 1])\n",
      "torch.Size([263])\n",
      "1/263\n",
      "prediction = tensor([0.3129], grad_fn=<SelectBackward>)\n",
      "torch.Size([29, 1])\n",
      "torch.Size([29])\n",
      "1/29\n",
      "prediction = tensor([0.7809], grad_fn=<SelectBackward>)\n",
      "\n",
      "Epoch #67\tTrain Loss: 0.024\n",
      "torch.Size([74, 1])\n",
      "torch.Size([74])\n",
      "1/74\n",
      "prediction = tensor([1.0057])\n",
      "Total testing loss is: 0.02463885024189949\n",
      "TEST\n",
      "TEST1\n"
     ]
    },
    {
     "data": {
      "application/vnd.jupyter.widget-view+json": {
       "model_id": "006c12ed47a0475e9a0a022c96b878be",
       "version_major": 2,
       "version_minor": 0
      },
      "text/plain": [
       "HBox(children=(IntProgress(value=0, description='Progress:', max=2, style=ProgressStyle(description_width='ini…"
      ]
     },
     "metadata": {},
     "output_type": "display_data"
    },
    {
     "name": "stdout",
     "output_type": "stream",
     "text": [
      "torch.Size([263, 1])\n",
      "torch.Size([263])\n",
      "1/263\n",
      "prediction = tensor([0.6808], grad_fn=<SelectBackward>)\n",
      "torch.Size([29, 1])\n",
      "torch.Size([29])\n",
      "1/29\n",
      "prediction = tensor([0.7314], grad_fn=<SelectBackward>)\n",
      "\n",
      "Epoch #68\tTrain Loss: 0.099\n",
      "torch.Size([74, 1])\n",
      "torch.Size([74])\n",
      "1/74\n",
      "prediction = tensor([0.8713])\n",
      "Total testing loss is: 0.04973883181810379\n",
      "TEST\n",
      "TEST1\n"
     ]
    },
    {
     "data": {
      "application/vnd.jupyter.widget-view+json": {
       "model_id": "0dd9ab8523344f3c924e1fc87e58959d",
       "version_major": 2,
       "version_minor": 0
      },
      "text/plain": [
       "HBox(children=(IntProgress(value=0, description='Progress:', max=2, style=ProgressStyle(description_width='ini…"
      ]
     },
     "metadata": {},
     "output_type": "display_data"
    },
    {
     "name": "stdout",
     "output_type": "stream",
     "text": [
      "torch.Size([263, 1])\n",
      "torch.Size([263])\n",
      "1/263\n",
      "prediction = tensor([0.6481], grad_fn=<SelectBackward>)\n",
      "torch.Size([29, 1])\n",
      "torch.Size([29])\n",
      "1/29\n",
      "prediction = tensor([1.0737], grad_fn=<SelectBackward>)\n",
      "\n",
      "Epoch #69\tTrain Loss: 0.030\n",
      "torch.Size([74, 1])\n",
      "torch.Size([74])\n",
      "1/74\n",
      "prediction = tensor([0.7150])\n",
      "Total testing loss is: 0.0020712914410978556\n",
      "TEST\n",
      "TEST1\n"
     ]
    },
    {
     "data": {
      "application/vnd.jupyter.widget-view+json": {
       "model_id": "361d5d5f1d104e988fa5832d29020aa7",
       "version_major": 2,
       "version_minor": 0
      },
      "text/plain": [
       "HBox(children=(IntProgress(value=0, description='Progress:', max=2, style=ProgressStyle(description_width='ini…"
      ]
     },
     "metadata": {},
     "output_type": "display_data"
    },
    {
     "name": "stdout",
     "output_type": "stream",
     "text": [
      "torch.Size([263, 1])\n",
      "torch.Size([263])\n",
      "1/263\n",
      "prediction = tensor([0.4841], grad_fn=<SelectBackward>)\n",
      "torch.Size([29, 1])\n",
      "torch.Size([29])\n",
      "1/29\n",
      "prediction = tensor([0.3196], grad_fn=<SelectBackward>)\n",
      "\n",
      "Epoch #70\tTrain Loss: 0.039\n",
      "torch.Size([74, 1])\n",
      "torch.Size([74])\n",
      "1/74\n",
      "prediction = tensor([0.9356])\n",
      "Total testing loss is: 0.04364003241062164\n",
      "TEST\n",
      "TEST1\n"
     ]
    },
    {
     "data": {
      "application/vnd.jupyter.widget-view+json": {
       "model_id": "9d60b917bee0439bbc541824ccdbaf80",
       "version_major": 2,
       "version_minor": 0
      },
      "text/plain": [
       "HBox(children=(IntProgress(value=0, description='Progress:', max=2, style=ProgressStyle(description_width='ini…"
      ]
     },
     "metadata": {},
     "output_type": "display_data"
    },
    {
     "name": "stdout",
     "output_type": "stream",
     "text": [
      "torch.Size([263, 1])\n",
      "torch.Size([263])\n",
      "1/263\n",
      "prediction = tensor([1.4990], grad_fn=<SelectBackward>)\n",
      "torch.Size([29, 1])\n",
      "torch.Size([29])\n",
      "1/29\n",
      "prediction = tensor([0.8279], grad_fn=<SelectBackward>)\n",
      "\n",
      "Epoch #71\tTrain Loss: 0.026\n",
      "torch.Size([74, 1])\n",
      "torch.Size([74])\n",
      "1/74\n",
      "prediction = tensor([0.7536])\n",
      "Total testing loss is: 0.04337715357542038\n",
      "TEST\n",
      "TEST1\n"
     ]
    },
    {
     "data": {
      "application/vnd.jupyter.widget-view+json": {
       "model_id": "4f36ee6e2c6c4487a12b212152daf3e1",
       "version_major": 2,
       "version_minor": 0
      },
      "text/plain": [
       "HBox(children=(IntProgress(value=0, description='Progress:', max=2, style=ProgressStyle(description_width='ini…"
      ]
     },
     "metadata": {},
     "output_type": "display_data"
    },
    {
     "name": "stdout",
     "output_type": "stream",
     "text": [
      "torch.Size([263, 1])\n",
      "torch.Size([263])\n",
      "1/263\n",
      "prediction = tensor([0.9718], grad_fn=<SelectBackward>)\n",
      "torch.Size([29, 1])\n",
      "torch.Size([29])\n",
      "1/29\n",
      "prediction = tensor([1.3072], grad_fn=<SelectBackward>)\n",
      "\n",
      "Epoch #72\tTrain Loss: 0.018\n",
      "torch.Size([74, 1])\n",
      "torch.Size([74])\n",
      "1/74\n",
      "prediction = tensor([0.8713])\n",
      "Total testing loss is: 0.0009974134154617786\n",
      "TEST\n",
      "TEST1\n"
     ]
    },
    {
     "data": {
      "application/vnd.jupyter.widget-view+json": {
       "model_id": "15e520d395274d72b87b8ba8319327f8",
       "version_major": 2,
       "version_minor": 0
      },
      "text/plain": [
       "HBox(children=(IntProgress(value=0, description='Progress:', max=2, style=ProgressStyle(description_width='ini…"
      ]
     },
     "metadata": {},
     "output_type": "display_data"
    },
    {
     "name": "stdout",
     "output_type": "stream",
     "text": [
      "torch.Size([263, 1])\n",
      "torch.Size([263])\n",
      "1/263\n",
      "prediction = tensor([0.8900], grad_fn=<SelectBackward>)\n",
      "torch.Size([29, 1])\n",
      "torch.Size([29])\n",
      "1/29\n",
      "prediction = tensor([0.8477], grad_fn=<SelectBackward>)\n",
      "\n",
      "Epoch #73\tTrain Loss: 0.084\n",
      "torch.Size([74, 1])\n",
      "torch.Size([74])\n",
      "1/74\n",
      "prediction = tensor([0.8713])\n",
      "Total testing loss is: 0.0009974134154617786\n",
      "TEST\n",
      "TEST1\n"
     ]
    },
    {
     "data": {
      "application/vnd.jupyter.widget-view+json": {
       "model_id": "607a8b58c8604421a3cd0182b8634f55",
       "version_major": 2,
       "version_minor": 0
      },
      "text/plain": [
       "HBox(children=(IntProgress(value=0, description='Progress:', max=2, style=ProgressStyle(description_width='ini…"
      ]
     },
     "metadata": {},
     "output_type": "display_data"
    },
    {
     "name": "stdout",
     "output_type": "stream",
     "text": [
      "torch.Size([263, 1])\n",
      "torch.Size([263])\n",
      "1/263\n",
      "prediction = tensor([0.4138], grad_fn=<SelectBackward>)\n",
      "torch.Size([29, 1])\n",
      "torch.Size([29])\n",
      "1/29\n",
      "prediction = tensor([0.8639], grad_fn=<SelectBackward>)\n",
      "\n",
      "Epoch #74\tTrain Loss: 0.022\n",
      "torch.Size([74, 1])\n",
      "torch.Size([74])\n",
      "1/74\n",
      "prediction = tensor([1.0057])\n",
      "Total testing loss is: 0.02247963286936283\n",
      "TEST\n",
      "TEST1\n"
     ]
    },
    {
     "data": {
      "application/vnd.jupyter.widget-view+json": {
       "model_id": "f6efc71aaba4405bbb14264c068fdb75",
       "version_major": 2,
       "version_minor": 0
      },
      "text/plain": [
       "HBox(children=(IntProgress(value=0, description='Progress:', max=2, style=ProgressStyle(description_width='ini…"
      ]
     },
     "metadata": {},
     "output_type": "display_data"
    },
    {
     "name": "stdout",
     "output_type": "stream",
     "text": [
      "torch.Size([263, 1])\n",
      "torch.Size([263])\n",
      "1/263\n",
      "prediction = tensor([0.9082], grad_fn=<SelectBackward>)\n",
      "torch.Size([29, 1])\n",
      "torch.Size([29])\n",
      "1/29\n",
      "prediction = tensor([2.2438], grad_fn=<SelectBackward>)\n",
      "\n",
      "Epoch #75\tTrain Loss: 0.010\n",
      "torch.Size([74, 1])\n",
      "torch.Size([74])\n",
      "1/74\n",
      "prediction = tensor([0.9407])\n",
      "Total testing loss is: 0.017638202756643295\n",
      "TEST\n",
      "TEST1\n"
     ]
    },
    {
     "data": {
      "application/vnd.jupyter.widget-view+json": {
       "model_id": "70f51e9596e54fb6b62387a98ea696ba",
       "version_major": 2,
       "version_minor": 0
      },
      "text/plain": [
       "HBox(children=(IntProgress(value=0, description='Progress:', max=2, style=ProgressStyle(description_width='ini…"
      ]
     },
     "metadata": {},
     "output_type": "display_data"
    },
    {
     "name": "stdout",
     "output_type": "stream",
     "text": [
      "torch.Size([263, 1])\n",
      "torch.Size([263])\n",
      "1/263\n",
      "prediction = tensor([0.7999], grad_fn=<SelectBackward>)\n",
      "torch.Size([29, 1])\n",
      "torch.Size([29])\n",
      "1/29\n",
      "prediction = tensor([1.3157], grad_fn=<SelectBackward>)\n",
      "\n",
      "Epoch #76\tTrain Loss: 0.066\n",
      "torch.Size([74, 1])\n",
      "torch.Size([74])\n",
      "1/74\n",
      "prediction = tensor([0.8713])\n",
      "Total testing loss is: 0.0022651241160929203\n",
      "TEST\n",
      "TEST1\n"
     ]
    },
    {
     "data": {
      "application/vnd.jupyter.widget-view+json": {
       "model_id": "e08fb7e29ebf4b96952209bda6dcbdaa",
       "version_major": 2,
       "version_minor": 0
      },
      "text/plain": [
       "HBox(children=(IntProgress(value=0, description='Progress:', max=2, style=ProgressStyle(description_width='ini…"
      ]
     },
     "metadata": {},
     "output_type": "display_data"
    },
    {
     "name": "stdout",
     "output_type": "stream",
     "text": [
      "torch.Size([263, 1])\n",
      "torch.Size([263])\n",
      "1/263\n",
      "prediction = tensor([0.4216], grad_fn=<SelectBackward>)\n",
      "torch.Size([29, 1])\n",
      "torch.Size([29])\n",
      "1/29\n",
      "prediction = tensor([0.9346], grad_fn=<SelectBackward>)\n",
      "\n",
      "Epoch #77\tTrain Loss: 0.132\n",
      "torch.Size([74, 1])\n",
      "torch.Size([74])\n",
      "1/74\n",
      "prediction = tensor([0.8720])\n",
      "Total testing loss is: 0.03378897160291672\n",
      "TEST\n",
      "TEST1\n"
     ]
    },
    {
     "data": {
      "application/vnd.jupyter.widget-view+json": {
       "model_id": "3f26d6bc2183446eb8754d6a8e2b74f7",
       "version_major": 2,
       "version_minor": 0
      },
      "text/plain": [
       "HBox(children=(IntProgress(value=0, description='Progress:', max=2, style=ProgressStyle(description_width='ini…"
      ]
     },
     "metadata": {},
     "output_type": "display_data"
    },
    {
     "name": "stdout",
     "output_type": "stream",
     "text": [
      "torch.Size([263, 1])\n",
      "torch.Size([263])\n",
      "1/263\n",
      "prediction = tensor([0.5426], grad_fn=<SelectBackward>)\n",
      "torch.Size([29, 1])\n",
      "torch.Size([29])\n",
      "1/29\n",
      "prediction = tensor([0.6479], grad_fn=<SelectBackward>)\n",
      "\n",
      "Epoch #78\tTrain Loss: 0.095\n",
      "torch.Size([74, 1])\n",
      "torch.Size([74])\n",
      "1/74\n",
      "prediction = tensor([0.8713])\n",
      "Total testing loss is: 0.0032517171930521727\n",
      "TEST\n",
      "TEST1\n"
     ]
    },
    {
     "data": {
      "application/vnd.jupyter.widget-view+json": {
       "model_id": "c9b37054225f4324a10922b4d9712e32",
       "version_major": 2,
       "version_minor": 0
      },
      "text/plain": [
       "HBox(children=(IntProgress(value=0, description='Progress:', max=2, style=ProgressStyle(description_width='ini…"
      ]
     },
     "metadata": {},
     "output_type": "display_data"
    },
    {
     "name": "stdout",
     "output_type": "stream",
     "text": [
      "torch.Size([263, 1])\n",
      "torch.Size([263])\n",
      "1/263\n",
      "prediction = tensor([1.4438], grad_fn=<SelectBackward>)\n",
      "torch.Size([29, 1])\n",
      "torch.Size([29])\n",
      "1/29\n",
      "prediction = tensor([1.3784], grad_fn=<SelectBackward>)\n",
      "\n",
      "Epoch #79\tTrain Loss: 0.000\n",
      "torch.Size([74, 1])\n",
      "torch.Size([74])\n",
      "1/74\n",
      "prediction = tensor([0.7143])\n",
      "Total testing loss is: 0.05650336667895317\n",
      "TEST\n",
      "TEST1\n"
     ]
    },
    {
     "data": {
      "application/vnd.jupyter.widget-view+json": {
       "model_id": "323b58a9260f4f55b76a6c570ad17b41",
       "version_major": 2,
       "version_minor": 0
      },
      "text/plain": [
       "HBox(children=(IntProgress(value=0, description='Progress:', max=2, style=ProgressStyle(description_width='ini…"
      ]
     },
     "metadata": {},
     "output_type": "display_data"
    },
    {
     "name": "stdout",
     "output_type": "stream",
     "text": [
      "torch.Size([263, 1])\n",
      "torch.Size([263])\n",
      "1/263\n",
      "prediction = tensor([1.4705], grad_fn=<SelectBackward>)\n",
      "torch.Size([29, 1])\n",
      "torch.Size([29])\n",
      "1/29\n",
      "prediction = tensor([1.0693], grad_fn=<SelectBackward>)\n",
      "\n",
      "Epoch #80\tTrain Loss: 0.083\n",
      "torch.Size([74, 1])\n",
      "torch.Size([74])\n",
      "1/74\n",
      "prediction = tensor([0.7143])\n",
      "Total testing loss is: 0.056070029735565186\n",
      "TEST\n",
      "TEST1\n"
     ]
    },
    {
     "data": {
      "application/vnd.jupyter.widget-view+json": {
       "model_id": "e08af22378364109bf2ce5c02cf49ad2",
       "version_major": 2,
       "version_minor": 0
      },
      "text/plain": [
       "HBox(children=(IntProgress(value=0, description='Progress:', max=2, style=ProgressStyle(description_width='ini…"
      ]
     },
     "metadata": {},
     "output_type": "display_data"
    },
    {
     "name": "stdout",
     "output_type": "stream",
     "text": [
      "torch.Size([263, 1])\n",
      "torch.Size([263])\n",
      "1/263\n",
      "prediction = tensor([0.9749], grad_fn=<SelectBackward>)\n",
      "torch.Size([29, 1])\n",
      "torch.Size([29])\n",
      "1/29\n",
      "prediction = tensor([0.4647], grad_fn=<SelectBackward>)\n",
      "\n",
      "Epoch #81\tTrain Loss: 0.014\n",
      "torch.Size([74, 1])\n",
      "torch.Size([74])\n",
      "1/74\n",
      "prediction = tensor([0.7143])\n",
      "Total testing loss is: 0.05558706447482109\n",
      "TEST\n",
      "TEST1\n"
     ]
    },
    {
     "data": {
      "application/vnd.jupyter.widget-view+json": {
       "model_id": "10f901b8a8624d009e5ca54078ad2e17",
       "version_major": 2,
       "version_minor": 0
      },
      "text/plain": [
       "HBox(children=(IntProgress(value=0, description='Progress:', max=2, style=ProgressStyle(description_width='ini…"
      ]
     },
     "metadata": {},
     "output_type": "display_data"
    },
    {
     "name": "stdout",
     "output_type": "stream",
     "text": [
      "torch.Size([263, 1])\n",
      "torch.Size([263])\n",
      "1/263\n",
      "prediction = tensor([1.0909], grad_fn=<SelectBackward>)\n",
      "torch.Size([29, 1])\n",
      "torch.Size([29])\n",
      "1/29\n",
      "prediction = tensor([0.4116], grad_fn=<SelectBackward>)\n",
      "\n",
      "Epoch #82\tTrain Loss: 0.172\n",
      "torch.Size([74, 1])\n",
      "torch.Size([74])\n",
      "1/74\n",
      "prediction = tensor([0.8713])\n",
      "Total testing loss is: 0.04973883181810379\n",
      "TEST\n",
      "TEST1\n"
     ]
    },
    {
     "data": {
      "application/vnd.jupyter.widget-view+json": {
       "model_id": "635cdaaa03164f738c4db35f141dce8b",
       "version_major": 2,
       "version_minor": 0
      },
      "text/plain": [
       "HBox(children=(IntProgress(value=0, description='Progress:', max=2, style=ProgressStyle(description_width='ini…"
      ]
     },
     "metadata": {},
     "output_type": "display_data"
    },
    {
     "name": "stdout",
     "output_type": "stream",
     "text": [
      "torch.Size([263, 1])\n",
      "torch.Size([263])\n",
      "1/263\n",
      "prediction = tensor([0.9130], grad_fn=<SelectBackward>)\n",
      "torch.Size([29, 1])\n",
      "torch.Size([29])\n",
      "1/29\n",
      "prediction = tensor([0.7469], grad_fn=<SelectBackward>)\n",
      "\n",
      "Epoch #83\tTrain Loss: 0.029\n",
      "torch.Size([74, 1])\n",
      "torch.Size([74])\n",
      "1/74\n",
      "prediction = tensor([0.8720])\n",
      "Total testing loss is: 0.03904689475893974\n",
      "TEST\n",
      "TEST1\n"
     ]
    },
    {
     "data": {
      "application/vnd.jupyter.widget-view+json": {
       "model_id": "c2df2374892c40ff93bff216ccefeef0",
       "version_major": 2,
       "version_minor": 0
      },
      "text/plain": [
       "HBox(children=(IntProgress(value=0, description='Progress:', max=2, style=ProgressStyle(description_width='ini…"
      ]
     },
     "metadata": {},
     "output_type": "display_data"
    },
    {
     "name": "stdout",
     "output_type": "stream",
     "text": [
      "torch.Size([263, 1])\n",
      "torch.Size([263])\n",
      "1/263\n",
      "prediction = tensor([1.4873], grad_fn=<SelectBackward>)\n",
      "torch.Size([29, 1])\n",
      "torch.Size([29])\n",
      "1/29\n",
      "prediction = tensor([1.3644], grad_fn=<SelectBackward>)\n",
      "\n",
      "Epoch #84\tTrain Loss: 0.001\n",
      "torch.Size([74, 1])\n",
      "torch.Size([74])\n",
      "1/74\n",
      "prediction = tensor([0.8713])\n",
      "Total testing loss is: 0.0022651241160929203\n",
      "TEST\n",
      "TEST1\n"
     ]
    },
    {
     "data": {
      "application/vnd.jupyter.widget-view+json": {
       "model_id": "7edfa9a87e91430a81c54d3dc5092ba1",
       "version_major": 2,
       "version_minor": 0
      },
      "text/plain": [
       "HBox(children=(IntProgress(value=0, description='Progress:', max=2, style=ProgressStyle(description_width='ini…"
      ]
     },
     "metadata": {},
     "output_type": "display_data"
    },
    {
     "name": "stdout",
     "output_type": "stream",
     "text": [
      "torch.Size([263, 1])\n",
      "torch.Size([263])\n",
      "1/263\n",
      "prediction = tensor([0.8458], grad_fn=<SelectBackward>)\n",
      "torch.Size([29, 1])\n",
      "torch.Size([29])\n",
      "1/29\n",
      "prediction = tensor([1.1956], grad_fn=<SelectBackward>)\n",
      "\n",
      "Epoch #85\tTrain Loss: 0.104\n",
      "torch.Size([74, 1])\n",
      "torch.Size([74])\n",
      "1/74\n",
      "prediction = tensor([0.7150])\n",
      "Total testing loss is: 1.6586742503932328e-06\n",
      "TEST\n",
      "TEST1\n"
     ]
    },
    {
     "data": {
      "application/vnd.jupyter.widget-view+json": {
       "model_id": "cf3311d0af7d4c7c98900c6fcdd86ed7",
       "version_major": 2,
       "version_minor": 0
      },
      "text/plain": [
       "HBox(children=(IntProgress(value=0, description='Progress:', max=2, style=ProgressStyle(description_width='ini…"
      ]
     },
     "metadata": {},
     "output_type": "display_data"
    },
    {
     "name": "stdout",
     "output_type": "stream",
     "text": [
      "torch.Size([263, 1])\n",
      "torch.Size([263])\n",
      "1/263\n",
      "prediction = tensor([0.6529], grad_fn=<SelectBackward>)\n",
      "torch.Size([29, 1])\n",
      "torch.Size([29])\n",
      "1/29\n",
      "prediction = tensor([0.6191], grad_fn=<SelectBackward>)\n",
      "\n",
      "Epoch #86\tTrain Loss: 0.152\n",
      "torch.Size([74, 1])\n",
      "torch.Size([74])\n",
      "1/74\n",
      "prediction = tensor([0.6615])\n",
      "Total testing loss is: 0.05410100147128105\n",
      "TEST\n",
      "TEST1\n"
     ]
    },
    {
     "data": {
      "application/vnd.jupyter.widget-view+json": {
       "model_id": "beb8a11e74c84d70817e58a94a357c9c",
       "version_major": 2,
       "version_minor": 0
      },
      "text/plain": [
       "HBox(children=(IntProgress(value=0, description='Progress:', max=2, style=ProgressStyle(description_width='ini…"
      ]
     },
     "metadata": {},
     "output_type": "display_data"
    },
    {
     "name": "stdout",
     "output_type": "stream",
     "text": [
      "torch.Size([263, 1])\n",
      "torch.Size([263])\n",
      "1/263\n",
      "prediction = tensor([1.1166], grad_fn=<SelectBackward>)\n",
      "torch.Size([29, 1])\n",
      "torch.Size([29])\n",
      "1/29\n",
      "prediction = tensor([1.3331], grad_fn=<SelectBackward>)\n",
      "\n",
      "Epoch #87\tTrain Loss: 0.009\n",
      "torch.Size([74, 1])\n",
      "torch.Size([74])\n",
      "1/74\n",
      "prediction = tensor([0.9407])\n",
      "Total testing loss is: 0.019672762602567673\n",
      "TEST\n",
      "TEST1\n"
     ]
    },
    {
     "data": {
      "application/vnd.jupyter.widget-view+json": {
       "model_id": "795efa0e29dd4a87a625e3ee5c928550",
       "version_major": 2,
       "version_minor": 0
      },
      "text/plain": [
       "HBox(children=(IntProgress(value=0, description='Progress:', max=2, style=ProgressStyle(description_width='ini…"
      ]
     },
     "metadata": {},
     "output_type": "display_data"
    },
    {
     "name": "stdout",
     "output_type": "stream",
     "text": [
      "torch.Size([263, 1])\n",
      "torch.Size([263])\n",
      "1/263\n",
      "prediction = tensor([0.5445], grad_fn=<SelectBackward>)\n",
      "torch.Size([29, 1])\n",
      "torch.Size([29])\n",
      "1/29\n",
      "prediction = tensor([0.9487], grad_fn=<SelectBackward>)\n",
      "\n",
      "Epoch #88\tTrain Loss: 0.108\n",
      "torch.Size([74, 1])\n",
      "torch.Size([74])\n",
      "1/74\n",
      "prediction = tensor([0.8720])\n",
      "Total testing loss is: 0.04445544630289078\n",
      "TEST\n",
      "TEST1\n"
     ]
    },
    {
     "data": {
      "application/vnd.jupyter.widget-view+json": {
       "model_id": "9b853df6e09443b49b31917c610ee908",
       "version_major": 2,
       "version_minor": 0
      },
      "text/plain": [
       "HBox(children=(IntProgress(value=0, description='Progress:', max=2, style=ProgressStyle(description_width='ini…"
      ]
     },
     "metadata": {},
     "output_type": "display_data"
    },
    {
     "name": "stdout",
     "output_type": "stream",
     "text": [
      "torch.Size([263, 1])\n",
      "torch.Size([263])\n",
      "1/263\n",
      "prediction = tensor([0.7089], grad_fn=<SelectBackward>)\n",
      "torch.Size([29, 1])\n",
      "torch.Size([29])\n",
      "1/29\n",
      "prediction = tensor([0.6559], grad_fn=<SelectBackward>)\n",
      "\n",
      "Epoch #89\tTrain Loss: 0.153\n",
      "torch.Size([74, 1])\n",
      "torch.Size([74])\n",
      "1/74\n",
      "prediction = tensor([0.8720])\n",
      "Total testing loss is: 0.04445544630289078\n",
      "TEST\n",
      "TEST1\n"
     ]
    },
    {
     "data": {
      "application/vnd.jupyter.widget-view+json": {
       "model_id": "e6344b2dbc034b3ebcd2fac82577daa3",
       "version_major": 2,
       "version_minor": 0
      },
      "text/plain": [
       "HBox(children=(IntProgress(value=0, description='Progress:', max=2, style=ProgressStyle(description_width='ini…"
      ]
     },
     "metadata": {},
     "output_type": "display_data"
    },
    {
     "name": "stdout",
     "output_type": "stream",
     "text": [
      "torch.Size([263, 1])\n",
      "torch.Size([263])\n",
      "1/263\n",
      "prediction = tensor([0.8438], grad_fn=<SelectBackward>)\n",
      "torch.Size([29, 1])\n",
      "torch.Size([29])\n",
      "1/29\n",
      "prediction = tensor([1.7460], grad_fn=<SelectBackward>)\n",
      "\n",
      "Epoch #90\tTrain Loss: 0.026\n",
      "torch.Size([74, 1])\n",
      "torch.Size([74])\n",
      "1/74\n",
      "prediction = tensor([0.7150])\n",
      "Total testing loss is: 8.082042768364772e-05\n",
      "TEST\n",
      "TEST1\n"
     ]
    },
    {
     "data": {
      "application/vnd.jupyter.widget-view+json": {
       "model_id": "29f20f20292546489af01b5b58a09014",
       "version_major": 2,
       "version_minor": 0
      },
      "text/plain": [
       "HBox(children=(IntProgress(value=0, description='Progress:', max=2, style=ProgressStyle(description_width='ini…"
      ]
     },
     "metadata": {},
     "output_type": "display_data"
    },
    {
     "name": "stdout",
     "output_type": "stream",
     "text": [
      "torch.Size([263, 1])\n",
      "torch.Size([263])\n",
      "1/263\n",
      "prediction = tensor([0.8429], grad_fn=<SelectBackward>)\n",
      "torch.Size([29, 1])\n",
      "torch.Size([29])\n",
      "1/29\n",
      "prediction = tensor([0.9178], grad_fn=<SelectBackward>)\n",
      "\n",
      "Epoch #91\tTrain Loss: 0.126\n",
      "torch.Size([74, 1])\n",
      "torch.Size([74])\n",
      "1/74\n",
      "prediction = tensor([0.7143])\n",
      "Total testing loss is: 0.05228227376937866\n",
      "TEST\n",
      "TEST1\n"
     ]
    },
    {
     "data": {
      "application/vnd.jupyter.widget-view+json": {
       "model_id": "ccb73d312014453daeb452266d7cb6ea",
       "version_major": 2,
       "version_minor": 0
      },
      "text/plain": [
       "HBox(children=(IntProgress(value=0, description='Progress:', max=2, style=ProgressStyle(description_width='ini…"
      ]
     },
     "metadata": {},
     "output_type": "display_data"
    },
    {
     "name": "stdout",
     "output_type": "stream",
     "text": [
      "torch.Size([263, 1])\n",
      "torch.Size([263])\n",
      "1/263\n",
      "prediction = tensor([0.3182], grad_fn=<SelectBackward>)\n",
      "torch.Size([29, 1])\n",
      "torch.Size([29])\n",
      "1/29\n",
      "prediction = tensor([0.3903], grad_fn=<SelectBackward>)\n",
      "\n",
      "Epoch #92\tTrain Loss: 0.140\n",
      "torch.Size([74, 1])\n",
      "torch.Size([74])\n",
      "1/74\n",
      "prediction = tensor([1.0057])\n",
      "Total testing loss is: 0.02247963286936283\n",
      "TEST\n",
      "TEST1\n"
     ]
    },
    {
     "data": {
      "application/vnd.jupyter.widget-view+json": {
       "model_id": "249f0d5302fa43c9aa6e4454a5f3a53c",
       "version_major": 2,
       "version_minor": 0
      },
      "text/plain": [
       "HBox(children=(IntProgress(value=0, description='Progress:', max=2, style=ProgressStyle(description_width='ini…"
      ]
     },
     "metadata": {},
     "output_type": "display_data"
    },
    {
     "name": "stdout",
     "output_type": "stream",
     "text": [
      "torch.Size([263, 1])\n",
      "torch.Size([263])\n",
      "1/263\n",
      "prediction = tensor([0.8479], grad_fn=<SelectBackward>)\n",
      "torch.Size([29, 1])\n",
      "torch.Size([29])\n",
      "1/29\n",
      "prediction = tensor([0.7452], grad_fn=<SelectBackward>)\n",
      "\n",
      "Epoch #93\tTrain Loss: 0.041\n",
      "torch.Size([74, 1])\n",
      "torch.Size([74])\n",
      "1/74\n",
      "prediction = tensor([0.8713])\n",
      "Total testing loss is: 0.0007980332593433559\n",
      "TEST\n",
      "TEST1\n"
     ]
    },
    {
     "data": {
      "application/vnd.jupyter.widget-view+json": {
       "model_id": "d73bc05061a14782b71ff800a788579e",
       "version_major": 2,
       "version_minor": 0
      },
      "text/plain": [
       "HBox(children=(IntProgress(value=0, description='Progress:', max=2, style=ProgressStyle(description_width='ini…"
      ]
     },
     "metadata": {},
     "output_type": "display_data"
    },
    {
     "name": "stdout",
     "output_type": "stream",
     "text": [
      "torch.Size([263, 1])\n",
      "torch.Size([263])\n",
      "1/263\n",
      "prediction = tensor([0.7027], grad_fn=<SelectBackward>)\n",
      "torch.Size([29, 1])\n",
      "torch.Size([29])\n",
      "1/29\n",
      "prediction = tensor([0.7877], grad_fn=<SelectBackward>)\n",
      "\n",
      "Epoch #94\tTrain Loss: 0.129\n",
      "torch.Size([74, 1])\n",
      "torch.Size([74])\n",
      "1/74\n",
      "prediction = tensor([0.7143])\n",
      "Total testing loss is: 0.04499666392803192\n",
      "TEST\n",
      "TEST1\n"
     ]
    },
    {
     "data": {
      "application/vnd.jupyter.widget-view+json": {
       "model_id": "2c94610a03974410a1d74f24b0ef00a4",
       "version_major": 2,
       "version_minor": 0
      },
      "text/plain": [
       "HBox(children=(IntProgress(value=0, description='Progress:', max=2, style=ProgressStyle(description_width='ini…"
      ]
     },
     "metadata": {},
     "output_type": "display_data"
    },
    {
     "name": "stdout",
     "output_type": "stream",
     "text": [
      "torch.Size([263, 1])\n",
      "torch.Size([263])\n",
      "1/263\n",
      "prediction = tensor([0.6061], grad_fn=<SelectBackward>)\n",
      "torch.Size([29, 1])\n",
      "torch.Size([29])\n",
      "1/29\n",
      "prediction = tensor([0.7177], grad_fn=<SelectBackward>)\n",
      "\n",
      "Epoch #95\tTrain Loss: 0.017\n",
      "torch.Size([74, 1])\n",
      "torch.Size([74])\n",
      "1/74\n",
      "prediction = tensor([0.7143])\n",
      "Total testing loss is: 0.053249526768922806\n",
      "TEST\n",
      "TEST1\n"
     ]
    },
    {
     "data": {
      "application/vnd.jupyter.widget-view+json": {
       "model_id": "d53f4c677cf14b9fbfb4482f0023b464",
       "version_major": 2,
       "version_minor": 0
      },
      "text/plain": [
       "HBox(children=(IntProgress(value=0, description='Progress:', max=2, style=ProgressStyle(description_width='ini…"
      ]
     },
     "metadata": {},
     "output_type": "display_data"
    },
    {
     "name": "stdout",
     "output_type": "stream",
     "text": [
      "torch.Size([263, 1])\n",
      "torch.Size([263])\n",
      "1/263\n",
      "prediction = tensor([0.4238], grad_fn=<SelectBackward>)\n",
      "torch.Size([29, 1])\n",
      "torch.Size([29])\n",
      "1/29\n",
      "prediction = tensor([0.6429], grad_fn=<SelectBackward>)\n",
      "\n",
      "Epoch #96\tTrain Loss: 0.126\n",
      "torch.Size([74, 1])\n",
      "torch.Size([74])\n",
      "1/74\n",
      "prediction = tensor([0.7536])\n",
      "Total testing loss is: 0.034805819392204285\n",
      "TEST\n",
      "TEST1\n"
     ]
    },
    {
     "data": {
      "application/vnd.jupyter.widget-view+json": {
       "model_id": "2b6243771b23475a8bc30d6f3be79e86",
       "version_major": 2,
       "version_minor": 0
      },
      "text/plain": [
       "HBox(children=(IntProgress(value=0, description='Progress:', max=2, style=ProgressStyle(description_width='ini…"
      ]
     },
     "metadata": {},
     "output_type": "display_data"
    },
    {
     "name": "stdout",
     "output_type": "stream",
     "text": [
      "torch.Size([263, 1])\n",
      "torch.Size([263])\n",
      "1/263\n",
      "prediction = tensor([1.7637], grad_fn=<SelectBackward>)\n",
      "torch.Size([29, 1])\n",
      "torch.Size([29])\n",
      "1/29\n",
      "prediction = tensor([1.1467], grad_fn=<SelectBackward>)\n",
      "\n",
      "Epoch #97\tTrain Loss: 0.042\n",
      "torch.Size([74, 1])\n",
      "torch.Size([74])\n",
      "1/74\n",
      "prediction = tensor([0.8085])\n",
      "Total testing loss is: 0.045193422585725784\n",
      "TEST\n",
      "TEST1\n"
     ]
    },
    {
     "data": {
      "application/vnd.jupyter.widget-view+json": {
       "model_id": "df6822a733d14aa981b481c300b297a3",
       "version_major": 2,
       "version_minor": 0
      },
      "text/plain": [
       "HBox(children=(IntProgress(value=0, description='Progress:', max=2, style=ProgressStyle(description_width='ini…"
      ]
     },
     "metadata": {},
     "output_type": "display_data"
    },
    {
     "name": "stdout",
     "output_type": "stream",
     "text": [
      "torch.Size([263, 1])\n",
      "torch.Size([263])\n",
      "1/263\n",
      "prediction = tensor([1.0781], grad_fn=<SelectBackward>)\n",
      "torch.Size([29, 1])\n",
      "torch.Size([29])\n",
      "1/29\n",
      "prediction = tensor([0.9833], grad_fn=<SelectBackward>)\n",
      "\n",
      "Epoch #98\tTrain Loss: 0.025\n",
      "torch.Size([74, 1])\n",
      "torch.Size([74])\n",
      "1/74\n",
      "prediction = tensor([0.7143])\n",
      "Total testing loss is: 0.05228227376937866\n",
      "TEST\n",
      "TEST1\n"
     ]
    },
    {
     "data": {
      "application/vnd.jupyter.widget-view+json": {
       "model_id": "d6db134dd46a45a591b20d0390d91f09",
       "version_major": 2,
       "version_minor": 0
      },
      "text/plain": [
       "HBox(children=(IntProgress(value=0, description='Progress:', max=2, style=ProgressStyle(description_width='ini…"
      ]
     },
     "metadata": {},
     "output_type": "display_data"
    },
    {
     "name": "stdout",
     "output_type": "stream",
     "text": [
      "torch.Size([263, 1])\n",
      "torch.Size([263])\n",
      "1/263\n",
      "prediction = tensor([0.8541], grad_fn=<SelectBackward>)\n",
      "torch.Size([29, 1])\n",
      "torch.Size([29])\n",
      "1/29\n",
      "prediction = tensor([1.1699], grad_fn=<SelectBackward>)\n",
      "\n",
      "Epoch #99\tTrain Loss: 0.105\n",
      "torch.Size([74, 1])\n",
      "torch.Size([74])\n",
      "1/74\n",
      "prediction = tensor([0.7143])\n",
      "Total testing loss is: 0.05228227376937866\n",
      "TEST\n",
      "TEST1\n"
     ]
    },
    {
     "data": {
      "application/vnd.jupyter.widget-view+json": {
       "model_id": "2b1059cb45c9448f83ae030dff805d5b",
       "version_major": 2,
       "version_minor": 0
      },
      "text/plain": [
       "HBox(children=(IntProgress(value=0, description='Progress:', max=2, style=ProgressStyle(description_width='ini…"
      ]
     },
     "metadata": {},
     "output_type": "display_data"
    },
    {
     "name": "stdout",
     "output_type": "stream",
     "text": [
      "torch.Size([263, 1])\n",
      "torch.Size([263])\n",
      "1/263\n",
      "prediction = tensor([0.6218], grad_fn=<SelectBackward>)\n",
      "torch.Size([29, 1])\n",
      "torch.Size([29])\n",
      "1/29\n",
      "prediction = tensor([1.0144], grad_fn=<SelectBackward>)\n",
      "\n",
      "Epoch #100\tTrain Loss: 0.030\n",
      "torch.Size([74, 1])\n",
      "torch.Size([74])\n",
      "1/74\n",
      "prediction = tensor([0.9356])\n",
      "Total testing loss is: 0.040977343916893005\n"
     ]
    }
   ],
   "source": [
    "#empty list to hold loss per epoch\n",
    "train_epoch_losses = []\n",
    "\n",
    "\n",
    "test_epoch_losses = []\n",
    "\n",
    "\n",
    "for epoch in range(num_epochs):\n",
    "    \n",
    "    train_epoch_loss = train_model(model = model,\n",
    "                                    training_data_set = training_data_set,\n",
    "                                    criterion = criterion,\n",
    "                                    optimizer = optimizer)\n",
    "    train_epoch_losses.append(train_epoch_loss)\n",
    "    \n",
    "    \n",
    "    test_epoch_loss = eval_model(model = model,\n",
    "                                 testing_data_set = testing_data_set,\n",
    "                                 criterion = criterion,\n",
    "                                 optimizer = optimizer)\n",
    "    test_epoch_losses.append(test_epoch_loss)"
   ]
  },
  {
   "cell_type": "code",
   "execution_count": 53,
   "metadata": {},
   "outputs": [
    {
     "data": {
      "image/png": "[encoded data removed]",
      "text/plain": [
       "<Figure size 576x432 with 1 Axes>"
      ]
     },
     "metadata": {
      "needs_background": "light"
     },
     "output_type": "display_data"
    }
   ],
   "source": [
    "fig, ax = plt.subplots(figsize = (8,6))\n",
    "\n",
    "epochs = np.arange(1, (num_epochs+1), 1)\n",
    "\n",
    "plt.plot(epochs, train_epoch_losses, c = 'k', label = 'training error')\n",
    "plt.plot(epochs, test_epoch_losses, c = 'r', label = 'testing error')\n",
    "plt.legend(loc = 'upper right')\n",
    "plt.title(\"Total Training & Testing Error\")\n",
    "ax.set_xlabel('Epoch')\n",
    "ax.set_ylabel('Total MSE Loss')\n",
    "plt.show()"
   ]
  },
  {
   "cell_type": "code",
   "execution_count": null,
   "metadata": {},
   "outputs": [],
   "source": []
  },
  {
   "cell_type": "code",
   "execution_count": null,
   "metadata": {},
   "outputs": [],
   "source": []
  }
 ],
 "metadata": {
  "kernelspec": {
   "display_name": "Python 3",
   "language": "python",
   "name": "python3"
  },
  "language_info": {
   "codemirror_mode": {
    "name": "ipython",
    "version": 3
   },
   "file_extension": ".py",
   "mimetype": "text/x-python",
   "name": "python",
   "nbconvert_exporter": "python",
   "pygments_lexer": "ipython3",
   "version": "3.7.4"
  }
 },
 "nbformat": 4,
 "nbformat_minor": 4
}
