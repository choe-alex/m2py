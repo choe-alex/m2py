{
 "cells": [
  {
   "cell_type": "code",
   "execution_count": 1,
   "metadata": {},
   "outputs": [],
   "source": [
    "import os\n",
    "import zipfile\n",
    "import math\n",
    "\n",
    "import numpy as np\n",
    "import pyUSID as pu\n",
    "import pycroscopy as px\n",
    "import h5py\n",
    "import matplotlib.pyplot as plt\n",
    "%matplotlib inline"
   ]
  },
  {
   "cell_type": "code",
   "execution_count": null,
   "metadata": {},
   "outputs": [],
   "source": [
    "def bruker_to_hdf5(filepath):\n",
    "    # \n",
    "    # returns an HDF5 format file\n",
    "    \n",
    "    translator = px.io.BrukerAFMTranslator()\n",
    "    h5_file = translator.translate(filepath)\n",
    "    \n",
    "    return h5_file"
   ]
  },
  {
   "cell_type": "code",
   "execution_count": null,
   "metadata": {},
   "outputs": [],
   "source": [
    "def igor_to_hdf5(filepath):\n",
    "    \"\"\"\n",
    "    returns an HDF5 format file\n",
    "    \"\"\" \n",
    "    translator = px.io.IgorIBWTranslator()\n",
    "    h5_file = translator.translate(filepath)\n",
    "    \n",
    "    return h5_file"
   ]
  },
  {
   "cell_type": "code",
   "execution_count": null,
   "metadata": {},
   "outputs": [],
   "source": [
    "def txt_to_numpy(filepath):\n",
    "    \"\"\"\n",
    "    returns a numpy array\n",
    "    \"\"\"\n",
    "    \n",
    "    X = []\n",
    "    with open(filepath) as txt:\n",
    "        for line in txt:\n",
    "            row = [float(x.replace(\"\\n\", \"\")) for x in line.split(\"\\t\")]\n",
    "            X.append(row)\n",
    "    \n",
    "    return np.array(X)"
   ]
  },
  {
   "cell_type": "code",
   "execution_count": null,
   "metadata": {},
   "outputs": [],
   "source": [
    "def txt_to_hdf5(filepaths):\n",
    "    # NOT WORKING YET\n",
    "    # This translator takes in a filepath or list of filepaths to .txt files to be aggregated and converted to HDF5\n",
    "    # returns an HDF5 format file\n",
    "    \n",
    "    np_array = np.empty([])\n",
    "    \n",
    "    for fl in data_filepath:\n",
    "        txt_file_path = os.path.abspath(fl)\n",
    "        np_file = np.genfromtxt(txt_file_path)\n",
    "        np.append(np_array, np_file)\n",
    "        \n",
    "#     pos_dims = [usid.write_utils.Dimension('X', 'a. u.', parm_dict['x-pixels']),\n",
    "#                 usid.write_utils.Dimension('Y', 'a. u.', parm_dict['y-pixels'])]\n",
    "#     spec_dims = usid.write_utils.Dimension('Bias', 'V', volt_vec)\n",
    "    \n",
    "    translator = pu.io.NumpyTranslator()\n",
    "    h5_file = translator.translate(outgoing_filepath, data_name, np_array, quantity, units, pos_dims, spec_dims)\n",
    "    \n",
    "    return h5_file"
   ]
  },
  {
   "cell_type": "code",
   "execution_count": null,
   "metadata": {},
   "outputs": [],
   "source": [
    "def gwyddion_to_hdf5():\n",
    "    #\n",
    "    # returns an HDF5 format file\n",
    "    \n",
    "    \n",
    "    \n",
    "    return"
   ]
  },
  {
   "cell_type": "code",
   "execution_count": null,
   "metadata": {},
   "outputs": [],
   "source": [
    "def mk_h5_file(path):\n",
    "\n",
    "    h5_fl = h5py.File(path, mode = 'r')\n",
    "    \n",
    "    return h5_fl"
   ]
  },
  {
   "cell_type": "code",
   "execution_count": null,
   "metadata": {},
   "outputs": [],
   "source": [
    "def mk_USID_file(path):\n",
    "    \n",
    "    h5_fl = mkh5file(path)\n",
    "    \n",
    "    used_file = pu.USIDataset(h5_fl)\n",
    "    \n",
    "    return usid_file"
   ]
  },
  {
   "cell_type": "code",
   "execution_count": null,
   "metadata": {},
   "outputs": [],
   "source": [
    "def plot_single_channel(hdf5_channel, title):\n",
    "    \"\"\"\n",
    "    Takes: HDF5 channel and a title (as a string) then plots that data channel\n",
    "    returns: fig, axes for the plotted channel in question\n",
    "    \"\"\"\n",
    "    \n",
    "    df = np.array(hdf5_channel)\n",
    "    oldx, oldy = df.shape\n",
    "    x = y = int(math.sqrt(oldx))\n",
    "    df = df.reshape(x, y)\n",
    "    \n",
    "    fig, axes = plt.subplots(ncols = 1, figsize = (6, 6))\n",
    "    pu.plot_utils.plot_map(axes, df, show_xy_ticks = False, show_cbar = False)\n",
    "    axes.set_title(title)\n",
    "    \n",
    "    return fig, axes"
   ]
  },
  {
   "cell_type": "code",
   "execution_count": null,
   "metadata": {},
   "outputs": [],
   "source": [
    "def plot_all_channels(hdf5_measurement_group, num_cols = 2):\n",
    "    \"\"\"\n",
    "    This function takes in a HDF5 measurement group of spectra, identifies all main datasets, and plots them in a\n",
    "    n x m grid. Default column setting is 2. Returns fig and axes of the subplot group\n",
    "    \"\"\"\n",
    "    \n",
    "    measurement_group = pu.hdf_utils.get_all_main(hdf5_measurement_group)\n",
    "    num_channels = len(measurement_group)\n",
    "    num_rows = 1\n",
    "    title = ''\n",
    "    channel_iterator = 0\n",
    "\n",
    "    if num_channels%num_cols == 0:\n",
    "        num_rows = int(num_channels / num_cols)\n",
    "    else:\n",
    "        num_rows = int(math.floor((num_channels / 2) + 1))\n",
    "\n",
    "    fig, axes = plt.subplots(num_rows, num_cols, figsize = (10, (num_rows * 5)))\n",
    "\n",
    "    for ax in axes.flat:\n",
    "        channel = np.array(measurement_group[channel_iterator])\n",
    "\n",
    "        oldx, oldy = channel.shape\n",
    "        x = y = int(math.sqrt(oldx))\n",
    "        channel = channel.reshape(x, y)\n",
    "\n",
    "        title = pu.hdf_utils.get_attr(measurement_group[channel_iterator], 'quantity')\n",
    "        title1 = title.split('\"')[1]\n",
    "        ax.matshow(channel)\n",
    "        ax.set_title(title1)\n",
    "        channel_iterator += 1\n",
    "\n",
    "    plt.tight_layout()\n",
    "\n",
    "    return fig, axes"
   ]
  },
  {
   "cell_type": "code",
   "execution_count": null,
   "metadata": {},
   "outputs": [],
   "source": [
    "def save_single_scan_png(input_path, output_path, channel_index):\n",
    "    \"\"\"\n",
    "    Takes in a str for a directory to an hdf5 files, outgoing path for .PNG file, index of the desired channel\n",
    "    Returns: none, writes file to desired path\n",
    "    \"\"\"\n",
    "    \n",
    "    h5_fl = mk_h5_file(input_path)\n",
    "    \n",
    "    channel_list = pu.io.hdf_utils.get_all_main(h5_fl)\n",
    "    \n",
    "    chnl = channel_list[channel_index]\n",
    "    title = pu.io.hdf_utils.get_attr(chnl, 'quantity')\n",
    "\n",
    "    plot_single_channel(chnl, title)\n",
    "    plt.savefig(output_path, format = 'png')\n",
    "    \n",
    "    return"
   ]
  },
  {
   "cell_type": "code",
   "execution_count": null,
   "metadata": {},
   "outputs": [],
   "source": [
    "def save_all_channels_png(input_filename, output_filenames, file_source):\n",
    "    \"\"\"\n",
    "    Takes in str and list of str for input and output file directory/name, respectively, and the source filetype\n",
    "    Returns: none, writes all png files to directories/names supplied in output_filenames\n",
    "    \"\"\"\n",
    "    \n",
    "    igor_amfm_channel_list = ['HeightRetrace', 'Amplitude1Retrace', 'Phase1Retrace', 'FrequencyRetrace',\n",
    "                                  'DissipationRetrace', 'YoungsRetrace', 'IndentationRetrace']\n",
    "    igor_cafm_channel_list = []\n",
    "    bruker_qnm_channel_list = ['Height Sensor', 'Peak Force Error', 'DMTModulus', 'LogDMTModulus',\n",
    "                               'Adhesion', 'Deformation', 'Dissipation', 'Height']\n",
    "    \n",
    "    channel_list = []\n",
    "    file_name = input_filename\n",
    "    h5_file = mk_h5_file(file_name)\n",
    "    channels = pu.io.hdf_utils.get_all_main(h5_file)\n",
    "    \n",
    "    if file_source == 'igor_amfm':\n",
    "        channel_list = igor_amfm_channel_list\n",
    "    elif file_source == 'igor_cafm':\n",
    "        channel_list = igor_cafm_channel_list\n",
    "    elif file_source == 'bruker_qnm':\n",
    "        channel_list = bruker_qnm_channel_list\n",
    "    else:\n",
    "        for h in range(len(channels)):\n",
    "            chnl = channels[h]\n",
    "            channel_list.append(pu.io.hdf_utils.get_attr(chnl, 'quantity'))\n",
    "    \n",
    "\n",
    "    for i in range(len(channel_list)):\n",
    "        chnl1 = channels[i]\n",
    "        title = channel_list[i]\n",
    "        plot_single_channel(chnl1, title)       \n",
    "        plt.savefig(output_filenames[i], format = 'png')\n",
    "        \n",
    "    return"
   ]
  },
  {
   "cell_type": "code",
   "execution_count": null,
   "metadata": {},
   "outputs": [],
   "source": []
  }
 ],
 "metadata": {
  "kernelspec": {
   "display_name": "Python 3",
   "language": "python",
   "name": "python3"
  },
  "language_info": {
   "codemirror_mode": {
    "name": "ipython",
    "version": 3
   },
   "file_extension": ".py",
   "mimetype": "text/x-python",
   "name": "python",
   "nbconvert_exporter": "python",
   "pygments_lexer": "ipython3",
   "version": "3.6.3"
  }
 },
 "nbformat": 4,
 "nbformat_minor": 2
}
