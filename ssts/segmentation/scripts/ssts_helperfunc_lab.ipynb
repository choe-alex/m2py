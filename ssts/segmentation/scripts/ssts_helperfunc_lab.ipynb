{
 "cells": [
  {
   "cell_type": "code",
   "execution_count": 1,
   "metadata": {},
   "outputs": [],
   "source": [
    "import os\n",
    "import sys\n",
    "from decimal import Decimal\n",
    "\n",
    "module_path = os.path.abspath(os.path.join('../../..'))\n",
    "if module_path not in sys.path:\n",
    "    sys.path.append(module_path)\n",
    "from methods import main_methods as mm\n",
    "\n",
    "module_path = os.path.abspath(os.path.join('..'))\n",
    "if module_path not in sys.path:\n",
    "    sys.path.append(module_path)\n",
    "import segmentation_gmm as seg_gmm\n",
    "import segmentation_watershed as seg_water\n",
    "import ssts_helpers as sh\n",
    "\n",
    "import numpy as np\n",
    "import scipy.stats as stats\n",
    "import matplotlib.pyplot as plt\n",
    "%matplotlib inline"
   ]
  },
  {
   "cell_type": "code",
   "execution_count": 2,
   "metadata": {},
   "outputs": [],
   "source": [
    "qnm_fields = ['Adhesion', 'Deformation', 'Dissipation', 'Height', 'Modulus', 'Stiffness']"
   ]
  },
  {
   "cell_type": "code",
   "execution_count": 3,
   "metadata": {},
   "outputs": [],
   "source": [
    "qnm_in_path = '/Users/wesleytatum/Desktop/Anton_OPV/txt/'\n",
    "qnm_out_path = '/Users/wesleytatum/Desktop/Anton_OPV/combined_npy/'"
   ]
  },
  {
   "cell_type": "code",
   "execution_count": 4,
   "metadata": {},
   "outputs": [],
   "source": [
    "qnm_files = mm.get_all_paths(qnm_in_path)"
   ]
  },
  {
   "cell_type": "code",
   "execution_count": 6,
   "metadata": {},
   "outputs": [
    {
     "name": "stdout",
     "output_type": "stream",
     "text": [
      "['/Users/wesleytatum/Desktop/Anton_OPV/txt/100C_15min_Sub4_Dev4_adhesion.txt', '/Users/wesleytatum/Desktop/Anton_OPV/txt/100C_15min_Sub4_Dev4_deformation.txt', '/Users/wesleytatum/Desktop/Anton_OPV/txt/100C_15min_Sub4_Dev4_dissipation.txt', '/Users/wesleytatum/Desktop/Anton_OPV/txt/100C_15min_Sub4_Dev4_height.txt', '/Users/wesleytatum/Desktop/Anton_OPV/txt/100C_15min_Sub4_Dev4_modulus.txt', '/Users/wesleytatum/Desktop/Anton_OPV/txt/100C_15min_Sub4_Dev4_stiffness.txt', '/Users/wesleytatum/Desktop/Anton_OPV/txt/100C_30min_Sub7_Dev7_adhesion.txt', '/Users/wesleytatum/Desktop/Anton_OPV/txt/100C_30min_Sub7_Dev7_deformation.txt', '/Users/wesleytatum/Desktop/Anton_OPV/txt/100C_30min_Sub7_Dev7_dissipation.txt', '/Users/wesleytatum/Desktop/Anton_OPV/txt/100C_30min_Sub7_Dev7_height.txt', '/Users/wesleytatum/Desktop/Anton_OPV/txt/100C_30min_Sub7_Dev7_modulus.txt', '/Users/wesleytatum/Desktop/Anton_OPV/txt/100C_30min_Sub7_Dev7_stiffness.txt', '/Users/wesleytatum/Desktop/Anton_OPV/txt/100C_5min_Sub1_Dev4_adhesion.txt', '/Users/wesleytatum/Desktop/Anton_OPV/txt/100C_5min_Sub1_Dev4_deformation.txt', '/Users/wesleytatum/Desktop/Anton_OPV/txt/100C_5min_Sub1_Dev4_dissipation.txt', '/Users/wesleytatum/Desktop/Anton_OPV/txt/100C_5min_Sub1_Dev4_height.txt', '/Users/wesleytatum/Desktop/Anton_OPV/txt/100C_5min_Sub1_Dev4_modulus.txt', '/Users/wesleytatum/Desktop/Anton_OPV/txt/100C_5min_Sub1_Dev4_stiffness.txt', '/Users/wesleytatum/Desktop/Anton_OPV/txt/125C_15min_Sub4_postexam_adhesion.txt', '/Users/wesleytatum/Desktop/Anton_OPV/txt/125C_15min_Sub4_postexam_deformation.txt', '/Users/wesleytatum/Desktop/Anton_OPV/txt/125C_15min_Sub4_postexam_dissipation.txt', '/Users/wesleytatum/Desktop/Anton_OPV/txt/125C_15min_Sub4_postexam_height.txt', '/Users/wesleytatum/Desktop/Anton_OPV/txt/125C_15min_Sub4_postexam_modulus.txt', '/Users/wesleytatum/Desktop/Anton_OPV/txt/125C_15min_Sub4_postexam_stiffness.txt', '/Users/wesleytatum/Desktop/Anton_OPV/txt/125C_30min_Sub8_postexam_adhesion.txt', '/Users/wesleytatum/Desktop/Anton_OPV/txt/125C_30min_Sub8_postexam_deformation.txt', '/Users/wesleytatum/Desktop/Anton_OPV/txt/125C_30min_Sub8_postexam_dissipation.txt', '/Users/wesleytatum/Desktop/Anton_OPV/txt/125C_30min_Sub8_postexam_height.txt', '/Users/wesleytatum/Desktop/Anton_OPV/txt/125C_30min_Sub8_postexam_modulus.txt', '/Users/wesleytatum/Desktop/Anton_OPV/txt/125C_30min_Sub8_postexam_stiffness.txt', '/Users/wesleytatum/Desktop/Anton_OPV/txt/125C_5min_Sub1_postexam_adhesion.txt', '/Users/wesleytatum/Desktop/Anton_OPV/txt/125C_5min_Sub1_postexam_deformation.txt', '/Users/wesleytatum/Desktop/Anton_OPV/txt/125C_5min_Sub1_postexam_dissipation.txt', '/Users/wesleytatum/Desktop/Anton_OPV/txt/125C_5min_Sub1_postexam_height.txt', '/Users/wesleytatum/Desktop/Anton_OPV/txt/125C_5min_Sub1_postexam_modulus.txt', '/Users/wesleytatum/Desktop/Anton_OPV/txt/125C_5min_Sub1_postexam_stiffness.txt', '/Users/wesleytatum/Desktop/Anton_OPV/txt/150C_15min_Sub4_Dev7_adhesion.txt', '/Users/wesleytatum/Desktop/Anton_OPV/txt/150C_15min_Sub4_Dev7_deformation.txt', '/Users/wesleytatum/Desktop/Anton_OPV/txt/150C_15min_Sub4_Dev7_dissipation.txt', '/Users/wesleytatum/Desktop/Anton_OPV/txt/150C_15min_Sub4_Dev7_height.txt', '/Users/wesleytatum/Desktop/Anton_OPV/txt/150C_15min_Sub4_Dev7_modulus.txt', '/Users/wesleytatum/Desktop/Anton_OPV/txt/150C_15min_Sub4_Dev7_stiffness.txt', '/Users/wesleytatum/Desktop/Anton_OPV/txt/150C_30min_Sub7_Dev6_adhesion.txt', '/Users/wesleytatum/Desktop/Anton_OPV/txt/150C_30min_Sub7_Dev6_deformation.txt', '/Users/wesleytatum/Desktop/Anton_OPV/txt/150C_30min_Sub7_Dev6_dissipation.txt', '/Users/wesleytatum/Desktop/Anton_OPV/txt/150C_30min_Sub7_Dev6_height.txt', '/Users/wesleytatum/Desktop/Anton_OPV/txt/150C_30min_Sub7_Dev6_modulus.txt', '/Users/wesleytatum/Desktop/Anton_OPV/txt/150C_30min_Sub7_Dev6_stiffness.txt', '/Users/wesleytatum/Desktop/Anton_OPV/txt/150C_5min_Sub1_Dev3_adhesion.txt', '/Users/wesleytatum/Desktop/Anton_OPV/txt/150C_5min_Sub1_Dev3_deformation.txt', '/Users/wesleytatum/Desktop/Anton_OPV/txt/150C_5min_Sub1_Dev3_dissipation.txt', '/Users/wesleytatum/Desktop/Anton_OPV/txt/150C_5min_Sub1_Dev3_height.txt', '/Users/wesleytatum/Desktop/Anton_OPV/txt/150C_5min_Sub1_Dev3_modulus.txt', '/Users/wesleytatum/Desktop/Anton_OPV/txt/150C_5min_Sub1_Dev3_stiffness.txt', '/Users/wesleytatum/Desktop/Anton_OPV/txt/175C_15min_Sub4_Dev2_adhesion.txt', '/Users/wesleytatum/Desktop/Anton_OPV/txt/175C_15min_Sub4_Dev2_deformation.txt', '/Users/wesleytatum/Desktop/Anton_OPV/txt/175C_15min_Sub4_Dev2_dissipation.txt', '/Users/wesleytatum/Desktop/Anton_OPV/txt/175C_15min_Sub4_Dev2_height.txt', '/Users/wesleytatum/Desktop/Anton_OPV/txt/175C_15min_Sub4_Dev2_modulus.txt', '/Users/wesleytatum/Desktop/Anton_OPV/txt/175C_15min_Sub4_Dev2_stiffness.txt', '/Users/wesleytatum/Desktop/Anton_OPV/txt/175C_30min_Sub8_Dev8_adhesion.txt', '/Users/wesleytatum/Desktop/Anton_OPV/txt/175C_30min_Sub8_Dev8_deformation.txt', '/Users/wesleytatum/Desktop/Anton_OPV/txt/175C_30min_Sub8_Dev8_dissipation.txt', '/Users/wesleytatum/Desktop/Anton_OPV/txt/175C_30min_Sub8_Dev8_height.txt', '/Users/wesleytatum/Desktop/Anton_OPV/txt/175C_30min_Sub8_Dev8_modulus.txt', '/Users/wesleytatum/Desktop/Anton_OPV/txt/175C_30min_Sub8_Dev8_stiffness.txt', '/Users/wesleytatum/Desktop/Anton_OPV/txt/175C_5min_Sub2_postexam_adhesion.txt', '/Users/wesleytatum/Desktop/Anton_OPV/txt/175C_5min_Sub2_postexam_deformation.txt', '/Users/wesleytatum/Desktop/Anton_OPV/txt/175C_5min_Sub2_postexam_dissipation.txt', '/Users/wesleytatum/Desktop/Anton_OPV/txt/175C_5min_Sub2_postexam_height.txt', '/Users/wesleytatum/Desktop/Anton_OPV/txt/175C_5min_Sub2_postexam_modulus.txt', '/Users/wesleytatum/Desktop/Anton_OPV/txt/175C_5min_Sub2_postexam_stiffness.txt', '/Users/wesleytatum/Desktop/Anton_OPV/txt/P3HT-PCBM_no-anneal_adhesion.txt', '/Users/wesleytatum/Desktop/Anton_OPV/txt/P3HT-PCBM_no-anneal_deformation.txt', '/Users/wesleytatum/Desktop/Anton_OPV/txt/P3HT-PCBM_no-anneal_dissipation.txt', '/Users/wesleytatum/Desktop/Anton_OPV/txt/P3HT-PCBM_no-anneal_height.txt', '/Users/wesleytatum/Desktop/Anton_OPV/txt/P3HT-PCBM_no-anneal_logDMT.txt']\n"
     ]
    }
   ],
   "source": [
    "qnm_files.sort()\n",
    "print (qnm_files)"
   ]
  },
  {
   "cell_type": "code",
   "execution_count": 7,
   "metadata": {},
   "outputs": [],
   "source": [
    "im1 = np.zeros((256,256,6))\n",
    "im2 = np.zeros((256,256,6))\n",
    "im3 = np.zeros((256,256,6))\n",
    "im4 = np.zeros((256,256,6))\n",
    "im5 = np.zeros((256,256,6))\n",
    "im6 = np.zeros((256,256,6))\n",
    "im7 = np.zeros((256,256,6))\n",
    "im8 = np.zeros((256,256,6))\n",
    "im9 = np.zeros((256,256,6))\n",
    "im10 = np.zeros((256,256,6))\n",
    "im11 = np.zeros((256,256,6))\n",
    "im12 = np.zeros((256,256,6))\n",
    "im13 = np.zeros((256,256,6))"
   ]
  },
  {
   "cell_type": "code",
   "execution_count": 8,
   "metadata": {},
   "outputs": [],
   "source": [
    "im1_files = []\n",
    "im2_files = []\n",
    "im3_files = []\n",
    "im4_files = []\n",
    "im5_files = []\n",
    "im6_files = []\n",
    "im7_files = []\n",
    "im8_files = []\n",
    "im9_files = []\n",
    "im10_files = []\n",
    "im11_files = []\n",
    "im12_files = []\n",
    "im13_files = []"
   ]
  },
  {
   "cell_type": "code",
   "execution_count": 9,
   "metadata": {},
   "outputs": [
    {
     "name": "stdout",
     "output_type": "stream",
     "text": [
      "100C_15min_Sub4_Dev\n",
      "100C_15min_Sub4_Dev\n",
      "100C_15min_Sub4_Dev\n",
      "100C_15min_Sub4_Dev\n",
      "100C_15min_Sub4_Dev\n",
      "100C_15min_Sub4_Dev\n",
      "100C_30min_Sub7_Dev\n",
      "100C_30min_Sub7_Dev\n",
      "100C_30min_Sub7_Dev\n",
      "100C_30min_Sub7_Dev\n",
      "100C_30min_Sub7_Dev\n",
      "100C_30min_Sub7_Dev\n",
      "100C_5min_Sub1_Dev4\n",
      "100C_5min_Sub1_Dev4\n",
      "100C_5min_Sub1_Dev4\n",
      "100C_5min_Sub1_Dev4\n",
      "100C_5min_Sub1_Dev4\n",
      "100C_5min_Sub1_Dev4\n",
      "125C_15min_Sub4_pos\n",
      "125C_15min_Sub4_pos\n",
      "125C_15min_Sub4_pos\n",
      "125C_15min_Sub4_pos\n",
      "125C_15min_Sub4_pos\n",
      "125C_15min_Sub4_pos\n",
      "125C_30min_Sub8_pos\n",
      "125C_30min_Sub8_pos\n",
      "125C_30min_Sub8_pos\n",
      "125C_30min_Sub8_pos\n",
      "125C_30min_Sub8_pos\n",
      "125C_30min_Sub8_pos\n",
      "125C_5min_Sub1_post\n",
      "125C_5min_Sub1_post\n",
      "125C_5min_Sub1_post\n",
      "125C_5min_Sub1_post\n",
      "125C_5min_Sub1_post\n",
      "125C_5min_Sub1_post\n",
      "150C_15min_Sub4_Dev\n",
      "150C_15min_Sub4_Dev\n",
      "150C_15min_Sub4_Dev\n",
      "150C_15min_Sub4_Dev\n",
      "150C_15min_Sub4_Dev\n",
      "150C_15min_Sub4_Dev\n",
      "150C_30min_Sub7_Dev\n",
      "150C_30min_Sub7_Dev\n",
      "150C_30min_Sub7_Dev\n",
      "150C_30min_Sub7_Dev\n",
      "150C_30min_Sub7_Dev\n",
      "150C_30min_Sub7_Dev\n",
      "150C_5min_Sub1_Dev3\n",
      "150C_5min_Sub1_Dev3\n",
      "150C_5min_Sub1_Dev3\n",
      "150C_5min_Sub1_Dev3\n",
      "150C_5min_Sub1_Dev3\n",
      "150C_5min_Sub1_Dev3\n",
      "175C_15min_Sub4_Dev\n",
      "175C_15min_Sub4_Dev\n",
      "175C_15min_Sub4_Dev\n",
      "175C_15min_Sub4_Dev\n",
      "175C_15min_Sub4_Dev\n",
      "175C_15min_Sub4_Dev\n",
      "175C_30min_Sub8_Dev\n",
      "175C_30min_Sub8_Dev\n",
      "175C_30min_Sub8_Dev\n",
      "175C_30min_Sub8_Dev\n",
      "175C_30min_Sub8_Dev\n",
      "175C_30min_Sub8_Dev\n",
      "175C_5min_Sub2_post\n",
      "175C_5min_Sub2_post\n",
      "175C_5min_Sub2_post\n",
      "175C_5min_Sub2_post\n",
      "175C_5min_Sub2_post\n",
      "175C_5min_Sub2_post\n",
      "P3HT-PCBM_no-anneal\n",
      "P3HT-PCBM_no-anneal\n",
      "P3HT-PCBM_no-anneal\n",
      "P3HT-PCBM_no-anneal\n",
      "P3HT-PCBM_no-anneal\n"
     ]
    }
   ],
   "source": [
    "for fl in qnm_files:\n",
    "    print (fl[41:60])"
   ]
  },
  {
   "cell_type": "code",
   "execution_count": null,
   "metadata": {},
   "outputs": [],
   "source": [
    "for fl in qnm_files:\n",
    "    if fl[41:60] == '100C_5min_Sub1_Dev4':\n",
    "        im1_files.append(fl)\n",
    "            \n",
    "    elif fl[41:61] == '100C_15min_Sub4_Dev4':\n",
    "        im2_files.append(fl)\n",
    "    \n",
    "    elif fl[41:61] == '100C_30min_Sub7_Dev7':\n",
    "        im3_files.append(fl)\n",
    "        \n",
    "    elif fl[41:64] == '125C_5min_Sub1_postexam':\n",
    "        im4_files.append(fl)\n",
    "        \n",
    "    elif fl[41:65] == '125C_15min_Sub4_postexam':\n",
    "        im5_files.append(fl)\n",
    "    \n",
    "    elif fl[41:65] == '125C_30min_Sub8_postexam':\n",
    "        im6_files.append(fl)\n",
    "        \n",
    "    elif fl[41:60] == '150C_5min_Sub1_Dev3':\n",
    "        im7_files.append(fl)\n",
    "        \n",
    "    elif fl[41:61] == '150C_15min_Sub4_Dev7':\n",
    "        im8_files.append(fl)\n",
    "    \n",
    "    elif fl[41:61] == '150C_30min_Sub7_Dev6':\n",
    "        im9_files.append(fl)\n",
    "        \n",
    "    elif fl[41:64] == '175C_5min_Sub2_postexam':\n",
    "        im10_files.append(fl)\n",
    "    \n",
    "    elif fl[41:61] == '175C_15min_Sub4_Dev2':\n",
    "        im11_files.append(fl)\n",
    "    \n",
    "    elif fl[41:61] == '175C_30min_Sub8_Dev8':\n",
    "        im12_files.append(fl)\n",
    "        \n",
    "    elif fl[41:60] == 'P3HT-PCBM_no-anneal':\n",
    "        im13_files.append(fl)\n",
    "    \n",
    "    else:\n",
    "        pass"
   ]
  },
  {
   "cell_type": "code",
   "execution_count": null,
   "metadata": {},
   "outputs": [],
   "source": [
    "im1_files.sort()\n",
    "im2_files.sort()\n",
    "im3_files.sort()\n",
    "im4_files.sort()\n",
    "im5_files.sort()\n",
    "im6_files.sort()\n",
    "im7_files.sort()\n",
    "im8_files.sort()\n",
    "im9_files.sort()\n",
    "im10_files.sort()\n",
    "im11_files.sort()\n",
    "im12_files.sort()\n",
    "im13_files.sort()"
   ]
  },
  {
   "cell_type": "code",
   "execution_count": null,
   "metadata": {},
   "outputs": [],
   "source": [
    "for i in range(len(im1_files)):\n",
    "    layer = np.genfromtxt(im1_files[i])\n",
    "    im1[:,:,i] = layer\n",
    "\n",
    "for i in range(len(im2_files)):\n",
    "    layer = np.genfromtxt(im2_files[i])\n",
    "    im2[:,:,i] = layer\n",
    "    \n",
    "for i in range(len(im3_files)):\n",
    "    layer = np.genfromtxt(im3_files[i])\n",
    "    im3[:,:,i] = layer\n",
    "    \n",
    "for i in range(len(im4_files)):\n",
    "    layer = np.genfromtxt(im4_files[i])\n",
    "    im4[:,:,i] = layer\n",
    "    \n",
    "for i in range(len(im5_files)):\n",
    "    layer = np.genfromtxt(im5_files[i])\n",
    "    im5[:,:,i] = layer\n",
    "\n",
    "for i in range(len(im6_files)):\n",
    "    layer = np.genfromtxt(im6_files[i])\n",
    "    im6[:,:,i] = layer\n",
    "    \n",
    "for i in range(len(im7_files)):\n",
    "    layer = np.genfromtxt(im7_files[i])\n",
    "    im7[:,:,i] = layer\n",
    "    \n",
    "for i in range(len(im8_files)):\n",
    "    layer = np.genfromtxt(im8_files[i])\n",
    "    im8[:,:,i] = layer\n",
    "    \n",
    "for i in range(len(im9_files)):\n",
    "    layer = np.genfromtxt(im9_files[i])\n",
    "    im9[:,:,i] = layer\n",
    "\n",
    "for i in range(len(im10_files)):\n",
    "    layer = np.genfromtxt(im10_files[i])\n",
    "    im10[:,:,i] = layer\n",
    "    \n",
    "for i in range(len(im11_files)):\n",
    "    layer = np.genfromtxt(im11_files[i])\n",
    "    im11[:,:,i] = layer\n",
    "    \n",
    "for i in range(len(im12_files)):\n",
    "    layer = np.genfromtxt(im12_files[i])\n",
    "    im12[:,:,i] = layer\n",
    "    \n",
    "for i in range(len(im13_files)):\n",
    "    layer = np.genfromtxt(im13_files[i])\n",
    "    im13[:,:,i] = layer"
   ]
  },
  {
   "cell_type": "code",
   "execution_count": null,
   "metadata": {},
   "outputs": [],
   "source": [
    "print (im13_files)"
   ]
  },
  {
   "cell_type": "code",
   "execution_count": null,
   "metadata": {},
   "outputs": [],
   "source": [
    "np.save(qnm_out_path+'100C_5min_Sub1_Dev4', im1)\n",
    "np.save(qnm_out_path+'100C_15min_Sub4_Dev4', im2)\n",
    "np.save(qnm_out_path+'100C_30min_Sub7_Dev7', im3)\n",
    "np.save(qnm_out_path+'125C_5min_Sub1_postexam', im4)\n",
    "np.save(qnm_out_path+'125C_15min_Sub4_postexam', im5)\n",
    "np.save(qnm_out_path+'125C_30min_Sub8_postexam', im6)\n",
    "np.save(qnm_out_path+'150C_5min_Sub1_Dev3', im7)\n",
    "np.save(qnm_out_path+'150C_15min_Sub4_Dev7', im8)\n",
    "np.save(qnm_out_path+'150C_30min_Sub7_Dev6', im9)\n",
    "np.save(qnm_out_path+'175C_5min_Sub2_postexam', im10)\n",
    "np.save(qnm_out_path+'175C_15min_Sub4_Dev2', im11)\n",
    "np.save(qnm_out_path+'175C_30min_Sub8_Dev8', im12)\n",
    "np.save(qnm_out_path+'P3HT-PCBM_no-anneal', im13)"
   ]
  },
  {
   "cell_type": "code",
   "execution_count": null,
   "metadata": {},
   "outputs": [],
   "source": [
    "lit_files = '/Users/wesleytatum/Desktop/Anton_OPV/combined_npy/'\n",
    "\n",
    "im1 = np.load(lit_files+'100C_5min_Sub1_Dev4.npy')\n",
    "im2 = np.load(lit_files+'100C_15min_Sub4_Dev4.npy')\n",
    "im3 = np.load(lit_files+'100C_30min_Sub7_Dev7.npy')\n",
    "im4 = np.load(lit_files+'125C_5min_Sub1_postexam.npy')\n",
    "im5 = np.load(lit_files+'125C_15min_Sub4_postexam.npy')\n",
    "im6 = np.load(lit_files+'125C_30min_Sub8_postexam.npy')\n",
    "im7 = np.load(lit_files+'150C_5min_Sub1_Dev3.npy')\n",
    "im8 = np.load(lit_files+'150C_15min_Sub4_Dev7.npy')\n",
    "im9 = np.load(lit_files+'150C_30min_Sub7_Dev6.npy')\n",
    "im10 = np.load(lit_files+'175C_5min_Sub2_postexam.npy')\n",
    "im11 = np.load(lit_files+'175C_15min_Sub4_Dev2.npy')\n",
    "im12 = np.load(lit_files+'175C_30min_Sub8_Dev8.npy')\n",
    "im13 = np.load(lit_files+'P3HT-PCBM_no-anneal.npy')\n",
    "\n",
    "ims = [im1, im2, im3, im4, im5, im6, im7, im8, im9, im10, im11, im12, im13]"
   ]
  },
  {
   "cell_type": "code",
   "execution_count": null,
   "metadata": {},
   "outputs": [],
   "source": [
    "for im in ims:\n",
    "    print (im.shape)"
   ]
  },
  {
   "cell_type": "code",
   "execution_count": null,
   "metadata": {},
   "outputs": [],
   "source": [
    "\n",
    "# Apply frequency removal\n",
    "data = mm.apply_frequency_removal(ims[2])\n",
    "\n",
    "# Extract outliers\n",
    "outliers = mm.extract_outliers(data)\n",
    "no_outliers_data = np.copy(data)\n",
    "no_outliers_data[outliers==1] = 0\n",
    "mm.show_outliers(data, outliers)\n",
    "\n",
    "# Remove height property (optional)\n",
    "no_height_data = np.delete(no_outliers_data, 4, axis=2)\n",
    "\n",
    "# Show a-priori distributions\n",
    "mm.show_property_distributions(data, outliers)\n",
    "\n",
    "# Run GMM segmentation\n",
    "seg1 = seg_gmm.SegmenterGMM(n_components=5, padding = 0, nonlinear=False)\n",
    "seg1_labels = seg1.fit_transform(no_height_data, outliers)\n",
    "\n",
    "# Show correlation after classification\n",
    "mm.show_classification_correlation(seg1_labels, no_height_data)\n",
    "\n",
    "# Remove height property (optional)\n",
    "#no_height_data = np.delete(no_outliers_data, 4, axis=2)\n",
    "#seg1_labels = seg1.fit_transform(no_height_data, outliers)\n",
    "\n",
    "# Plot classification\n",
    "mm.show_classification(seg1_labels, no_height_data)\n",
    "\n",
    "# Plot classification distributions\n",
    "mm.show_distributions_together(seg1_labels, no_height_data)\n",
    "\n",
    "# Create unique masks per grain\n",
    "seg2_labels = seg1.get_grains(seg1_labels)\n",
    "\n",
    "# Plot grain classification\n",
    "mm.show_classification(seg2_labels, no_height_data)"
   ]
  },
  {
   "cell_type": "markdown",
   "metadata": {},
   "source": [
    "## Calculates median, standard deviation, and variance of a given, flattened 2D array"
   ]
  },
  {
   "cell_type": "code",
   "execution_count": null,
   "metadata": {},
   "outputs": [],
   "source": [
    "def array_stats(array):\n",
    "    \"\"\"\n",
    "    Takes in numpy array and calculates median, standard deviation, and variance\n",
    "    \n",
    "    Args:\n",
    "    array – np.array()\n",
    "    \n",
    "    Returns:\n",
    "    median – float64\n",
    "    std_dev – float64\n",
    "    var – float64\n",
    "    \"\"\"\n",
    "    median = np.median(array)\n",
    "    std_dev = np.std(array)\n",
    "    var = np.var(array)\n",
    "    \n",
    "    return median, std_dev, var"
   ]
  },
  {
   "cell_type": "markdown",
   "metadata": {},
   "source": [
    "### Sorting pixels into phases by GMM label\n"
   ]
  },
  {
   "cell_type": "code",
   "execution_count": null,
   "metadata": {},
   "outputs": [],
   "source": [
    "def phase_sort(array, phase_labels, n_components):\n",
    "    \"\"\"\n",
    "    Takes in a 3D numpy array and sorts pixels into a dictionary based on phase labels\n",
    "    \n",
    "    Args:\n",
    "    array – np.array() of SPM data\n",
    "    phase_labels – np.array() of phase labels\n",
    "    n_components – number of phases for sorting\n",
    "    \n",
    "    Returns:\n",
    "    phases – dictionary of numpy arrays, where each key is the phase number and each value is\n",
    "        a flattened array of the pixels in that phase and their properties\n",
    "    \"\"\"\n",
    "    x,y,z = array.shape\n",
    "\n",
    "    data = np.reshape(array, ((x*y), z))\n",
    "    labels = np.reshape(phase_labels, (x*y))\n",
    "\n",
    "    phase0 = []\n",
    "    phase1 = []\n",
    "    phase2 = []\n",
    "    phase3 = []\n",
    "    phase4 = []\n",
    "    phase5 = []\n",
    "    phase6 = []\n",
    "    phase7 = []\n",
    "    phase8 = []\n",
    "    phase9 = []\n",
    "\n",
    "    for i in range(len(labels)):\n",
    "        if labels[i] == 0:\n",
    "            phase0.append(data[i, :])\n",
    "        elif labels[i] == 1:\n",
    "            phase1.append(data[i, :])\n",
    "        elif labels[i] == 2:\n",
    "            phase2.append(data[i, :])\n",
    "        elif labels[i] == 3:\n",
    "            phase3.append(data[i, :])\n",
    "        elif labels[i] == 4:\n",
    "            phase4.append(data[i, :])\n",
    "        elif labels[i] == 5:\n",
    "            phase5.append(data[i, :])\n",
    "        elif labels[i] == 6:\n",
    "            phase6.append(data[i, :])\n",
    "        elif labels[i] == 7:\n",
    "            phase7.append(data[i, :])\n",
    "        elif labels[i] == 8:\n",
    "            phase8.append(data[i, :])\n",
    "        elif labels[i] == 9:\n",
    "            phase9.append(data[i, :])\n",
    "        else:\n",
    "            pass\n",
    "        \n",
    "    phases = {}\n",
    "    \n",
    "    if len(phase0) >= 1:\n",
    "        phases[0] = np.asarray(phase0)\n",
    "    else:\n",
    "        pass\n",
    "    \n",
    "    if len(phase1) >= 1:\n",
    "        phases[1] = np.asarray(phase1)\n",
    "    else:\n",
    "        pass\n",
    "    \n",
    "    if len(phase2) >= 1:\n",
    "        phases[2] = np.asarray(phase2)\n",
    "    else:\n",
    "        pass\n",
    "    \n",
    "    if len(phase3) >= 1:\n",
    "        phases[3] = np.asarray(phase3)\n",
    "    else:\n",
    "        pass\n",
    "    \n",
    "    if len(phase4) >= 1:\n",
    "        phases[4] = np.asarray(phase4)\n",
    "    else:\n",
    "        pass\n",
    "    \n",
    "    if len(phase5) >= 1:\n",
    "        phases[5] = np.asarray(phase5)\n",
    "    else:\n",
    "        pass\n",
    "    \n",
    "    if len(phase6) >= 1:\n",
    "        phases[6] = np.asarray(phase6)\n",
    "    else:\n",
    "        pass\n",
    "    \n",
    "    if len(phase7) >= 1:\n",
    "        phases[7] = np.asarray(phase7)\n",
    "    else:\n",
    "        pass\n",
    "    \n",
    "    if len(phase8) >= 1:\n",
    "        phases[8] = np.asarray(phase8)\n",
    "    else:\n",
    "        pass\n",
    "    \n",
    "    if len(phase9) >= 1:\n",
    "        phases[9] = np.asarray(phase9)\n",
    "    else:\n",
    "        pass\n",
    "    \n",
    "    return phases"
   ]
  },
  {
   "cell_type": "markdown",
   "metadata": {},
   "source": [
    "### Plotting all of the property distributions of a single phase within a flattened scan"
   ]
  },
  {
   "cell_type": "code",
   "execution_count": null,
   "metadata": {},
   "outputs": [],
   "source": [
    "def plot_single_phase_props(array):\n",
    "    \"\"\"\n",
    "    Takes in a flattened array of SPM data and plots the histogram distributions of a single phase of the data\n",
    "    \n",
    "    Args:\n",
    "    array – np.array() of SPM data\n",
    "    \n",
    "    Returns:\n",
    "    plots figures\n",
    "    \"\"\"\n",
    "    xy,z = array.shape\n",
    "    print (\"Shape: \", array.shape)\n",
    "\n",
    "    fig = plt.figure(figsize=(10,15))\n",
    "    for i in range(z):\n",
    "        counts, bins = np.histogram(array[:,i], bins = 30)\n",
    "        ymax = counts.max()\n",
    "\n",
    "        median, std_dev, var = array_stats(array[:,i])\n",
    "\n",
    "        plt.subplot(3,2,1+i)\n",
    "        plt.hist(array[:,i], bins = 30, alpha = 0.5)\n",
    "        plt.plot([median, median], [0, ymax+5], label = 'Median', linewidth = 3, c = 'r')\n",
    "        plt.plot([median+std_dev, median+std_dev], [0,ymax+5], label = 'Std Dev', linewidth = 2, c = 'k')\n",
    "        plt.plot([median-std_dev, median-std_dev], [0,ymax+5], linewidth = 2, c = 'k')\n",
    "        plt.title(f'{qnm_fields[i]}'+'  Median: '+ '{:.2e}'.format(median)+',   Stand. Dev.: '+'{:.2e}'.format(std_dev))\n",
    "        plt.ylim(0, ymax+5)\n",
    "        plt.legend()\n",
    "\n",
    "    plt.tight_layout()\n",
    "    plt.show()\n",
    "    \n",
    "    return\n"
   ]
  },
  {
   "cell_type": "markdown",
   "metadata": {},
   "source": [
    "### Takes in dictionary of phases from phase_sort() and plots all phases"
   ]
  },
  {
   "cell_type": "code",
   "execution_count": null,
   "metadata": {},
   "outputs": [],
   "source": [
    "def plot_all_phases_props(phases):\n",
    "    \"\"\"\n",
    "    Takes in a flattened array of SPM data and plots the histogram distributions of all phases of the data\n",
    "    \n",
    "    Args:\n",
    "    phases – dictionary of numpy arrays, where each key is the phase number and each value is\n",
    "        a flattened array of the pixels in that phase and their properties\n",
    "    \n",
    "    Returns:\n",
    "    plots figures\n",
    "    \"\"\"\n",
    "    for k, v in phases.items():\n",
    "        print ('Phase ', k,)\n",
    "        plot_single_phase_props(v)"
   ]
  },
  {
   "cell_type": "code",
   "execution_count": null,
   "metadata": {
    "scrolled": true
   },
   "outputs": [],
   "source": [
    "phases = phase_sort(im1_0deg, seg1_labels, n_components = 5)\n",
    "plot_all_phases_props(phases)"
   ]
  },
  {
   "cell_type": "markdown",
   "metadata": {},
   "source": [
    "### Uses the generated dictionary of phases from phase_sort() to generate new, parallel dictionary of stats"
   ]
  },
  {
   "cell_type": "code",
   "execution_count": null,
   "metadata": {},
   "outputs": [],
   "source": [
    "def gen_phase_stats(phases):\n",
    "    \"\"\"\n",
    "    Takes in dictionary of phases from phase_sort() and generates a parallel dictionary of stats\n",
    "    \n",
    "    Args:\n",
    "    phases – dictionary of numpy arrays, where each key is the phase number and each value is\n",
    "        a flattened array of the pixels in that phase and their properties\n",
    "        \n",
    "    Returns:\n",
    "    phase_stats – dictionary of numpy arrays, where each key is the phase number and each value is\n",
    "        a flattened array of the basic statistical analysis of the phase properties\n",
    "    \"\"\"\n",
    "    phase_stats = {}\n",
    "    keys = ['median', 'standard deviation', 'variance']\n",
    "\n",
    "    for k, v in phases.items():\n",
    "        xy, z = v.shape\n",
    "        for i in range(z):\n",
    "            phase_stats[k] = {}\n",
    "        for h in range(z):\n",
    "            phase_stats[k][h] = array_stats(v[:,h])\n",
    "            \n",
    "    return phase_stats"
   ]
  },
  {
   "cell_type": "code",
   "execution_count": null,
   "metadata": {
    "scrolled": true
   },
   "outputs": [],
   "source": [
    "gen_phase_stats(phases)"
   ]
  },
  {
   "cell_type": "markdown",
   "metadata": {},
   "source": [
    "### Next, the above functions are adapted from single phases within the whole scan to single domains within the whole scan"
   ]
  },
  {
   "cell_type": "code",
   "execution_count": null,
   "metadata": {},
   "outputs": [],
   "source": [
    "array = ims[2]\n",
    "grain_labels = seg2_labels\n",
    "    \n",
    "def grain_sort(array, grain_labels):\n",
    "    \"\"\"\n",
    "    Takes in an array and the associated domain (grain) labels. Sorts pixels into a dictionary, where each value is\n",
    "    an array of the pixel values in the domain\n",
    "    \n",
    "    Args:\n",
    "    array – np.array() of SPM data\n",
    "    domain_labels – np.array() of domain labels\n",
    "    n_components – number of phases for sorting\n",
    "    \n",
    "    Returns:\n",
    "    grain_props – dictionary of numpy arrays, where each key is the phase number and each value is\n",
    "        a flattened array of the pixels in that grain and their properties\n",
    "    \"\"\"\n",
    "    x,y,z = array.shape\n",
    "\n",
    "    data = np.reshape(array, ((x*y), z))\n",
    "    labels = np.reshape(grain_labels, (x*y))\n",
    "\n",
    "    unique_labels = mm.get_unique_labels(labels)\n",
    "    unique_labels.sort()\n",
    "\n",
    "    grain_count = len(unique_labels)\n",
    "\n",
    "    grain_props = {}\n",
    "    for h in range(x*y):\n",
    "        pixel_props = data[h,:]\n",
    "        label = labels[h]\n",
    "\n",
    "        if label in grain_props:\n",
    "            old_value = np.asarray(grain_props[label])\n",
    "            new_value = np.vstack((old_value, pixel_props))    # Append new pixel vector to old vectors\n",
    "        else:\n",
    "            new_value = np.asarray(pixel_props)\n",
    "\n",
    "        grain_props[label] = new_value\n",
    "    \n",
    "    return grain_props"
   ]
  },
  {
   "cell_type": "code",
   "execution_count": null,
   "metadata": {
    "scrolled": true
   },
   "outputs": [],
   "source": [
    "grain_props = domain_sort(array, domain_labels)"
   ]
  },
  {
   "cell_type": "code",
   "execution_count": null,
   "metadata": {},
   "outputs": [],
   "source": [
    "print (len(grain_props))\n",
    "grain_props"
   ]
  },
  {
   "cell_type": "code",
   "execution_count": null,
   "metadata": {},
   "outputs": [],
   "source": [
    "def gen_grain_stats(grain_props):\n",
    "    \"\"\"\n",
    "    Takes in a dictionary of the different grains, produced by grain_sort(), and calculates basic histogram statistics\n",
    "    on the constituent pixels\n",
    "    \n",
    "    Args:\n",
    "    grain_props – dictionary of numpy arrays, where each key is the phase number and each value is\n",
    "        a flattened array of the pixels in that grain and their properties\n",
    "        \n",
    "    Returns:\n",
    "    grain_stats – dictionary of numpy arrays, where each key is the grain number and each value is\n",
    "        a flattened array of the basic statistical analysis of the grain properties\n",
    "    \"\"\"\n",
    "    grain_stats = {}\n",
    "    keys = ['median', 'standard deviation', 'variance']\n",
    "    \n",
    "    for k,v in grain_props.items():\n",
    "        grain = np.asarray(v)\n",
    "\n",
    "        if len(grain.shape) == 1: \n",
    "            z = grain.shape\n",
    "            for i in range(z):\n",
    "                grain_stats[k] = {}\n",
    "            \n",
    "            for i in range(z):\n",
    "                grain_stats[k][i] = array_stats(grain[i])\n",
    "        else:\n",
    "            xy, z = grain.shape\n",
    "            for i in range(z):\n",
    "                grain_stats[k] = {}\n",
    "            \n",
    "            for i in range(z):        \n",
    "                grain_stats[k][i] = array_stats(grain[:,i])\n",
    "            \n",
    "    return grain_stats"
   ]
  },
  {
   "cell_type": "code",
   "execution_count": null,
   "metadata": {
    "scrolled": true
   },
   "outputs": [],
   "source": [
    "phases = sh.phase_sort(ims[2],seg1_labels,5)"
   ]
  },
  {
   "cell_type": "code",
   "execution_count": null,
   "metadata": {},
   "outputs": [],
   "source": [
    "p_stats = sh.gen_phase_stats(phases)"
   ]
  },
  {
   "cell_type": "code",
   "execution_count": null,
   "metadata": {},
   "outputs": [],
   "source": [
    "grains = sh.grain_sort(ims[2], seg2_labels)"
   ]
  },
  {
   "cell_type": "code",
   "execution_count": null,
   "metadata": {},
   "outputs": [],
   "source": [
    "g_stats = sh.gen_grain_stats(grains)"
   ]
  },
  {
   "cell_type": "code",
   "execution_count": null,
   "metadata": {
    "scrolled": true
   },
   "outputs": [],
   "source": [
    "g_stats"
   ]
  },
  {
   "cell_type": "code",
   "execution_count": null,
   "metadata": {},
   "outputs": [],
   "source": []
  },
  {
   "cell_type": "code",
   "execution_count": null,
   "metadata": {},
   "outputs": [],
   "source": []
  }
 ],
 "metadata": {
  "kernelspec": {
   "display_name": "Python 3",
   "language": "python",
   "name": "python3"
  },
  "language_info": {
   "codemirror_mode": {
    "name": "ipython",
    "version": 3
   },
   "file_extension": ".py",
   "mimetype": "text/x-python",
   "name": "python",
   "nbconvert_exporter": "python",
   "pygments_lexer": "ipython3",
   "version": "3.7.3"
  }
 },
 "nbformat": 4,
 "nbformat_minor": 4
}
